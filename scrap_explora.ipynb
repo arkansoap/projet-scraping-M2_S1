{
 "cells": [
  {
   "cell_type": "markdown",
   "metadata": {},
   "source": [
    "# Scraping \"Explora\""
   ]
  },
  {
   "cell_type": "code",
   "execution_count": 3,
   "metadata": {},
   "outputs": [],
   "source": [
    "from selenium import webdriver\n",
    "from selenium.webdriver.common.keys import Keys\n",
    "from selenium.webdriver.common.by import By\n",
    "from bs4 import BeautifulSoup as BS\n",
    "import re\n",
    "import time\n",
    "from serde import serialize, deserialize\n",
    "from serde.json import to_json, from_json\n",
    "import pandas as pd\n",
    "from requests import get \n",
    "from dataclasses import dataclass\n",
    "import numpy as np\n",
    "\n",
    "from selenium.webdriver.support.ui import WebDriverWait\n",
    "from selenium.webdriver.common.by import By\n",
    "from selenium.webdriver.support import expected_conditions as EC"
   ]
  },
  {
   "cell_type": "markdown",
   "metadata": {},
   "source": [
    "## Tentatives d'automatisation (problème avec les clik)"
   ]
  },
  {
   "cell_type": "code",
   "execution_count": 4,
   "metadata": {},
   "outputs": [],
   "source": [
    "#ouverture fenetre et chargement page\n",
    "nav = webdriver.Chrome()\n",
    "adresse = \"https://www.explora-project.com/expeditions?\"\n",
    "nav.get(adresse)\n",
    "\n",
    "time.sleep(np.random.randint(3,10))\n",
    "\n",
    "# nb de click nécéssaire\n",
    "nb_res = int(nav.find_element(By.XPATH, '/html/body/div[9]/div/div/div').text)\n",
    "res_page = nav.find_element(By.XPATH, '/html/body/div[15]/div/div/span/div/span').text\n",
    "motif = re.compile(\"\\d+\")\n",
    "nb_res_page = int(motif.findall(res_page)[0])\n",
    "nb_click = nb_res//nb_res_page\n",
    "\n",
    "# for i in range(0,nb_click):\n",
    "#     WebDriverWait(nav, 20).until(EC.element_to_be_clickable((By.XPATH, '//*[@id=\"hits\"]/button'))).click()\n",
    "\n",
    "# chgt nom bouton pour pouvoir recliquer\n",
    "\n",
    "# bouton0 = nav.find_element(By.XPATH, '//*[@id=\"hits\"]/button')\n",
    "# bouton0.click()\n",
    "# time.sleep(np.random.randint(7,10))\n",
    "# bouton1 = nav.find_element(By.XPATH, '//*[@id=\"hits\"]/button')\n",
    "# bouton1.click()\n",
    "# time.sleep(np.random.randint(7,10))\n",
    "# bouton2 = nav.find_element(By.XPATH, '//*[@id=\"hits\"]/button')\n",
    "# bouton2.click()\n",
    "# time.sleep(np.random.randint(3,5))\n",
    "# bouton3 = nav.find_element(By.XPATH, '//*[@id=\"hits\"]/button')\n",
    "# bouton3.click()\n",
    "# time.sleep(np.random.randint(7,10))\n",
    "# bouton4 = nav.find_element(By.XPATH, '//*[@id=\"hits\"]/button')\n",
    "# bouton4.click()\n",
    "# time.sleep(np.random.randint(7,10))\n",
    "# bouton5 = nav.find_element(By.XPATH, '//*[@id=\"hits\"]/button')\n",
    "# bouton5.click()\n",
    "# time.sleep(np.random.randint(7,10))\n",
    "# bouton6 = nav.find_element(By.XPATH, '//*[@id=\"hits\"]/button')\n",
    "# bouton6.click()\n",
    "# time.sleep(np.random.randint(7,10))\n",
    "\n",
    "# # chgt nom bouton pour pouvoir recliquer\n",
    "# list_bouton = []\n",
    "# d = {}\n",
    "# for i in range(nb_click):\n",
    "#     name = (f'bouton{i}')\n",
    "#     list_bouton.append(name)\n",
    "# for i in range(nb_click):\n",
    "#     d[\"bouton\" + str(i)] = nav.find_element_by_xpath('//*[@id=\"hits\"]/button')\n",
    "#     # list_bouton[i] = nav.find_element_by_xpath('//*[@id=\"hits\"]/button')\n",
    "#     d[\"bouton\" + str(i)].click  \n",
    "#     # list_bouton[i].click()\n",
    "#     time.sleep(np.random.randint(3,5))\n",
    "\n",
    "# copie du code source en json\n",
    "code = nav.page_source\n",
    "with open(\"code_full_explora.json\", \"w\") as fichier:\n",
    "    fichier.write(to_json(code))"
   ]
  },
  {
   "cell_type": "code",
   "execution_count": 50,
   "metadata": {},
   "outputs": [],
   "source": [
    "# # chgt nom bouton pour pouvoir recliquer\n",
    "# list_bouton = []\n",
    "# d = {}\n",
    "# for i in range(nb_click):\n",
    "#     name = (f'bouton{i}')\n",
    "#     list_bouton.append(name)\n",
    "# for i in range(nb_click):\n",
    "#     d[\"bouton\" + str(i)] = nav.find_element_by_xpath('//*[@id=\"hits\"]/button')\n",
    "#     # list_bouton[i] = nav.find_element_by_xpath('//*[@id=\"hits\"]/button')\n",
    "#     d[\"bouton\" + str(i)].click  \n",
    "#     # list_bouton[i].click()\n",
    "#     time.sleep(np.random.randint(3,5))\n"
   ]
  },
  {
   "cell_type": "markdown",
   "metadata": {},
   "source": [
    "## A la main..."
   ]
  },
  {
   "cell_type": "code",
   "execution_count": 16,
   "metadata": {},
   "outputs": [],
   "source": [
    "nav = webdriver.Chrome()\n",
    "adresse = \"https://www.explora-project.com/expeditions?\"\n",
    "nav.get(adresse)"
   ]
  },
  {
   "cell_type": "code",
   "execution_count": 24,
   "metadata": {},
   "outputs": [
    {
     "ename": "ElementClickInterceptedException",
     "evalue": "Message: element click intercepted: Element <button class=\"button-primary button-small btn-50 w-button\" style=\"margin: auto auto 40px;\">...</button> is not clickable at point (629, 494). Other element would receive the click: <div id=\"covid19\" class=\"marquee\">...</div>\n  (Session info: chrome=96.0.4664.110)\nStacktrace:\nBacktrace:\n\tOrdinal0 [0x011D6903+2517251]\n\tOrdinal0 [0x0116F8E1+2095329]\n\tOrdinal0 [0x01072848+1058888]\n\tOrdinal0 [0x010A3509+1258761]\n\tOrdinal0 [0x010A1868+1251432]\n\tOrdinal0 [0x0109F65D+1242717]\n\tOrdinal0 [0x0109E4A8+1238184]\n\tOrdinal0 [0x01094037+1196087]\n\tOrdinal0 [0x010B64D3+1336531]\n\tOrdinal0 [0x01093A36+1194550]\n\tOrdinal0 [0x010B65BA+1336762]\n\tOrdinal0 [0x010C5BBF+1399743]\n\tOrdinal0 [0x010B639B+1336219]\n\tOrdinal0 [0x010927A7+1189799]\n\tOrdinal0 [0x01093609+1193481]\n\tGetHandleVerifier [0x01365904+1577972]\n\tGetHandleVerifier [0x01410B97+2279047]\n\tGetHandleVerifier [0x01266D09+534521]\n\tGetHandleVerifier [0x01265DB9+530601]\n\tOrdinal0 [0x01174FF9+2117625]\n\tOrdinal0 [0x011798A8+2136232]\n\tOrdinal0 [0x011799E2+2136546]\n\tOrdinal0 [0x01183541+2176321]\n\tBaseThreadInitThunk [0x75D76739+25]\n\tRtlGetFullPathName_UEx [0x779B8AFF+1215]\n\tRtlGetFullPathName_UEx [0x779B8ACD+1165]\n",
     "output_type": "error",
     "traceback": [
      "\u001b[1;31m---------------------------------------------------------------------------\u001b[0m",
      "\u001b[1;31mElementClickInterceptedException\u001b[0m          Traceback (most recent call last)",
      "\u001b[1;32m~\\AppData\\Local\\Temp/ipykernel_16240/266195363.py\u001b[0m in \u001b[0;36m<module>\u001b[1;34m\u001b[0m\n\u001b[0;32m      1\u001b[0m \u001b[0mbouton\u001b[0m \u001b[1;33m=\u001b[0m \u001b[0mnav\u001b[0m\u001b[1;33m.\u001b[0m\u001b[0mfind_element\u001b[0m\u001b[1;33m(\u001b[0m\u001b[0mBy\u001b[0m\u001b[1;33m.\u001b[0m\u001b[0mXPATH\u001b[0m\u001b[1;33m,\u001b[0m \u001b[1;34m'//*[@id=\"hits\"]/button'\u001b[0m\u001b[1;33m)\u001b[0m\u001b[1;33m\u001b[0m\u001b[1;33m\u001b[0m\u001b[0m\n\u001b[1;32m----> 2\u001b[1;33m \u001b[0mbouton\u001b[0m\u001b[1;33m.\u001b[0m\u001b[0mclick\u001b[0m\u001b[1;33m(\u001b[0m\u001b[1;33m)\u001b[0m\u001b[1;33m\u001b[0m\u001b[1;33m\u001b[0m\u001b[0m\n\u001b[0m",
      "\u001b[1;32m~\\AppData\\Local\\Programs\\Python\\Python39\\lib\\site-packages\\selenium\\webdriver\\remote\\webelement.py\u001b[0m in \u001b[0;36mclick\u001b[1;34m(self)\u001b[0m\n\u001b[0;32m     78\u001b[0m     \u001b[1;32mdef\u001b[0m \u001b[0mclick\u001b[0m\u001b[1;33m(\u001b[0m\u001b[0mself\u001b[0m\u001b[1;33m)\u001b[0m \u001b[1;33m->\u001b[0m \u001b[1;32mNone\u001b[0m\u001b[1;33m:\u001b[0m\u001b[1;33m\u001b[0m\u001b[1;33m\u001b[0m\u001b[0m\n\u001b[0;32m     79\u001b[0m         \u001b[1;34m\"\"\"Clicks the element.\"\"\"\u001b[0m\u001b[1;33m\u001b[0m\u001b[1;33m\u001b[0m\u001b[0m\n\u001b[1;32m---> 80\u001b[1;33m         \u001b[0mself\u001b[0m\u001b[1;33m.\u001b[0m\u001b[0m_execute\u001b[0m\u001b[1;33m(\u001b[0m\u001b[0mCommand\u001b[0m\u001b[1;33m.\u001b[0m\u001b[0mCLICK_ELEMENT\u001b[0m\u001b[1;33m)\u001b[0m\u001b[1;33m\u001b[0m\u001b[1;33m\u001b[0m\u001b[0m\n\u001b[0m\u001b[0;32m     81\u001b[0m \u001b[1;33m\u001b[0m\u001b[0m\n\u001b[0;32m     82\u001b[0m     \u001b[1;32mdef\u001b[0m \u001b[0msubmit\u001b[0m\u001b[1;33m(\u001b[0m\u001b[0mself\u001b[0m\u001b[1;33m)\u001b[0m\u001b[1;33m:\u001b[0m\u001b[1;33m\u001b[0m\u001b[1;33m\u001b[0m\u001b[0m\n",
      "\u001b[1;32m~\\AppData\\Local\\Programs\\Python\\Python39\\lib\\site-packages\\selenium\\webdriver\\remote\\webelement.py\u001b[0m in \u001b[0;36m_execute\u001b[1;34m(self, command, params)\u001b[0m\n\u001b[0;32m    691\u001b[0m             \u001b[0mparams\u001b[0m \u001b[1;33m=\u001b[0m \u001b[1;33m{\u001b[0m\u001b[1;33m}\u001b[0m\u001b[1;33m\u001b[0m\u001b[1;33m\u001b[0m\u001b[0m\n\u001b[0;32m    692\u001b[0m         \u001b[0mparams\u001b[0m\u001b[1;33m[\u001b[0m\u001b[1;34m'id'\u001b[0m\u001b[1;33m]\u001b[0m \u001b[1;33m=\u001b[0m \u001b[0mself\u001b[0m\u001b[1;33m.\u001b[0m\u001b[0m_id\u001b[0m\u001b[1;33m\u001b[0m\u001b[1;33m\u001b[0m\u001b[0m\n\u001b[1;32m--> 693\u001b[1;33m         \u001b[1;32mreturn\u001b[0m \u001b[0mself\u001b[0m\u001b[1;33m.\u001b[0m\u001b[0m_parent\u001b[0m\u001b[1;33m.\u001b[0m\u001b[0mexecute\u001b[0m\u001b[1;33m(\u001b[0m\u001b[0mcommand\u001b[0m\u001b[1;33m,\u001b[0m \u001b[0mparams\u001b[0m\u001b[1;33m)\u001b[0m\u001b[1;33m\u001b[0m\u001b[1;33m\u001b[0m\u001b[0m\n\u001b[0m\u001b[0;32m    694\u001b[0m \u001b[1;33m\u001b[0m\u001b[0m\n\u001b[0;32m    695\u001b[0m     \u001b[1;32mdef\u001b[0m \u001b[0mfind_element\u001b[0m\u001b[1;33m(\u001b[0m\u001b[0mself\u001b[0m\u001b[1;33m,\u001b[0m \u001b[0mby\u001b[0m\u001b[1;33m=\u001b[0m\u001b[0mBy\u001b[0m\u001b[1;33m.\u001b[0m\u001b[0mID\u001b[0m\u001b[1;33m,\u001b[0m \u001b[0mvalue\u001b[0m\u001b[1;33m=\u001b[0m\u001b[1;32mNone\u001b[0m\u001b[1;33m)\u001b[0m\u001b[1;33m:\u001b[0m\u001b[1;33m\u001b[0m\u001b[1;33m\u001b[0m\u001b[0m\n",
      "\u001b[1;32m~\\AppData\\Local\\Programs\\Python\\Python39\\lib\\site-packages\\selenium\\webdriver\\remote\\webdriver.py\u001b[0m in \u001b[0;36mexecute\u001b[1;34m(self, driver_command, params)\u001b[0m\n\u001b[0;32m    416\u001b[0m         \u001b[0mresponse\u001b[0m \u001b[1;33m=\u001b[0m \u001b[0mself\u001b[0m\u001b[1;33m.\u001b[0m\u001b[0mcommand_executor\u001b[0m\u001b[1;33m.\u001b[0m\u001b[0mexecute\u001b[0m\u001b[1;33m(\u001b[0m\u001b[0mdriver_command\u001b[0m\u001b[1;33m,\u001b[0m \u001b[0mparams\u001b[0m\u001b[1;33m)\u001b[0m\u001b[1;33m\u001b[0m\u001b[1;33m\u001b[0m\u001b[0m\n\u001b[0;32m    417\u001b[0m         \u001b[1;32mif\u001b[0m \u001b[0mresponse\u001b[0m\u001b[1;33m:\u001b[0m\u001b[1;33m\u001b[0m\u001b[1;33m\u001b[0m\u001b[0m\n\u001b[1;32m--> 418\u001b[1;33m             \u001b[0mself\u001b[0m\u001b[1;33m.\u001b[0m\u001b[0merror_handler\u001b[0m\u001b[1;33m.\u001b[0m\u001b[0mcheck_response\u001b[0m\u001b[1;33m(\u001b[0m\u001b[0mresponse\u001b[0m\u001b[1;33m)\u001b[0m\u001b[1;33m\u001b[0m\u001b[1;33m\u001b[0m\u001b[0m\n\u001b[0m\u001b[0;32m    419\u001b[0m             response['value'] = self._unwrap_value(\n\u001b[0;32m    420\u001b[0m                 response.get('value', None))\n",
      "\u001b[1;32m~\\AppData\\Local\\Programs\\Python\\Python39\\lib\\site-packages\\selenium\\webdriver\\remote\\errorhandler.py\u001b[0m in \u001b[0;36mcheck_response\u001b[1;34m(self, response)\u001b[0m\n\u001b[0;32m    241\u001b[0m                 \u001b[0malert_text\u001b[0m \u001b[1;33m=\u001b[0m \u001b[0mvalue\u001b[0m\u001b[1;33m[\u001b[0m\u001b[1;34m'alert'\u001b[0m\u001b[1;33m]\u001b[0m\u001b[1;33m.\u001b[0m\u001b[0mget\u001b[0m\u001b[1;33m(\u001b[0m\u001b[1;34m'text'\u001b[0m\u001b[1;33m)\u001b[0m\u001b[1;33m\u001b[0m\u001b[1;33m\u001b[0m\u001b[0m\n\u001b[0;32m    242\u001b[0m             \u001b[1;32mraise\u001b[0m \u001b[0mexception_class\u001b[0m\u001b[1;33m(\u001b[0m\u001b[0mmessage\u001b[0m\u001b[1;33m,\u001b[0m \u001b[0mscreen\u001b[0m\u001b[1;33m,\u001b[0m \u001b[0mstacktrace\u001b[0m\u001b[1;33m,\u001b[0m \u001b[0malert_text\u001b[0m\u001b[1;33m)\u001b[0m  \u001b[1;31m# type: ignore[call-arg]  # mypy is not smart enough here\u001b[0m\u001b[1;33m\u001b[0m\u001b[1;33m\u001b[0m\u001b[0m\n\u001b[1;32m--> 243\u001b[1;33m         \u001b[1;32mraise\u001b[0m \u001b[0mexception_class\u001b[0m\u001b[1;33m(\u001b[0m\u001b[0mmessage\u001b[0m\u001b[1;33m,\u001b[0m \u001b[0mscreen\u001b[0m\u001b[1;33m,\u001b[0m \u001b[0mstacktrace\u001b[0m\u001b[1;33m)\u001b[0m\u001b[1;33m\u001b[0m\u001b[1;33m\u001b[0m\u001b[0m\n\u001b[0m\u001b[0;32m    244\u001b[0m \u001b[1;33m\u001b[0m\u001b[0m\n\u001b[0;32m    245\u001b[0m     \u001b[1;32mdef\u001b[0m \u001b[0m_value_or_default\u001b[0m\u001b[1;33m(\u001b[0m\u001b[0mself\u001b[0m\u001b[1;33m,\u001b[0m \u001b[0mobj\u001b[0m\u001b[1;33m:\u001b[0m \u001b[0mMapping\u001b[0m\u001b[1;33m[\u001b[0m\u001b[0m_KT\u001b[0m\u001b[1;33m,\u001b[0m \u001b[0m_VT\u001b[0m\u001b[1;33m]\u001b[0m\u001b[1;33m,\u001b[0m \u001b[0mkey\u001b[0m\u001b[1;33m:\u001b[0m \u001b[0m_KT\u001b[0m\u001b[1;33m,\u001b[0m \u001b[0mdefault\u001b[0m\u001b[1;33m:\u001b[0m \u001b[0m_VT\u001b[0m\u001b[1;33m)\u001b[0m \u001b[1;33m->\u001b[0m \u001b[0m_VT\u001b[0m\u001b[1;33m:\u001b[0m\u001b[1;33m\u001b[0m\u001b[1;33m\u001b[0m\u001b[0m\n",
      "\u001b[1;31mElementClickInterceptedException\u001b[0m: Message: element click intercepted: Element <button class=\"button-primary button-small btn-50 w-button\" style=\"margin: auto auto 40px;\">...</button> is not clickable at point (629, 494). Other element would receive the click: <div id=\"covid19\" class=\"marquee\">...</div>\n  (Session info: chrome=96.0.4664.110)\nStacktrace:\nBacktrace:\n\tOrdinal0 [0x011D6903+2517251]\n\tOrdinal0 [0x0116F8E1+2095329]\n\tOrdinal0 [0x01072848+1058888]\n\tOrdinal0 [0x010A3509+1258761]\n\tOrdinal0 [0x010A1868+1251432]\n\tOrdinal0 [0x0109F65D+1242717]\n\tOrdinal0 [0x0109E4A8+1238184]\n\tOrdinal0 [0x01094037+1196087]\n\tOrdinal0 [0x010B64D3+1336531]\n\tOrdinal0 [0x01093A36+1194550]\n\tOrdinal0 [0x010B65BA+1336762]\n\tOrdinal0 [0x010C5BBF+1399743]\n\tOrdinal0 [0x010B639B+1336219]\n\tOrdinal0 [0x010927A7+1189799]\n\tOrdinal0 [0x01093609+1193481]\n\tGetHandleVerifier [0x01365904+1577972]\n\tGetHandleVerifier [0x01410B97+2279047]\n\tGetHandleVerifier [0x01266D09+534521]\n\tGetHandleVerifier [0x01265DB9+530601]\n\tOrdinal0 [0x01174FF9+2117625]\n\tOrdinal0 [0x011798A8+2136232]\n\tOrdinal0 [0x011799E2+2136546]\n\tOrdinal0 [0x01183541+2176321]\n\tBaseThreadInitThunk [0x75D76739+25]\n\tRtlGetFullPathName_UEx [0x779B8AFF+1215]\n\tRtlGetFullPathName_UEx [0x779B8ACD+1165]\n"
     ]
    }
   ],
   "source": [
    "bouton = nav.find_element(By.XPATH, '//*[@id=\"hits\"]/button')\n",
    "bouton.click()"
   ]
  },
  {
   "cell_type": "code",
   "execution_count": 25,
   "metadata": {},
   "outputs": [],
   "source": [
    "code = nav.page_source"
   ]
  },
  {
   "cell_type": "code",
   "execution_count": 26,
   "metadata": {},
   "outputs": [],
   "source": [
    "soupe = BS(code, \"lxml\")"
   ]
  },
  {
   "cell_type": "code",
   "execution_count": 27,
   "metadata": {},
   "outputs": [],
   "source": [
    "cells = soupe.find_all(class_ = \"tablink-home-adventures w-inline-block w-tab-link\")"
   ]
  },
  {
   "cell_type": "code",
   "execution_count": 28,
   "metadata": {},
   "outputs": [
    {
     "data": {
      "text/plain": [
       "87"
      ]
     },
     "execution_count": 28,
     "metadata": {},
     "output_type": "execute_result"
    }
   ],
   "source": [
    "len(cells)"
   ]
  },
  {
   "cell_type": "code",
   "execution_count": 332,
   "metadata": {},
   "outputs": [
    {
     "data": {
      "text/plain": [
       "['9 départs - 4 jrs - 565€']"
      ]
     },
     "execution_count": 332,
     "metadata": {},
     "output_type": "execute_result"
    }
   ],
   "source": [
    "# jour et prix\n",
    "plop = cells[1].span.contents\n",
    "plop"
   ]
  },
  {
   "cell_type": "code",
   "execution_count": 205,
   "metadata": {},
   "outputs": [
    {
     "data": {
      "text/plain": [
       "['9', 'départs', '-', '4', 'jrs', '-', '565€']"
      ]
     },
     "execution_count": 205,
     "metadata": {},
     "output_type": "execute_result"
    }
   ],
   "source": [
    "detail = plop[0].split()\n",
    "detail"
   ]
  },
  {
   "cell_type": "code",
   "execution_count": 212,
   "metadata": {},
   "outputs": [
    {
     "data": {
      "text/plain": [
       "4"
      ]
     },
     "execution_count": 212,
     "metadata": {},
     "output_type": "execute_result"
    }
   ],
   "source": [
    "# jours\n",
    "int(detail[3])"
   ]
  },
  {
   "cell_type": "code",
   "execution_count": 211,
   "metadata": {},
   "outputs": [
    {
     "data": {
      "text/plain": [
       "565"
      ]
     },
     "execution_count": 211,
     "metadata": {},
     "output_type": "execute_result"
    }
   ],
   "source": [
    "# prix\n",
    "detail[-1]\n",
    "int(detail[-1][:-1])"
   ]
  },
  {
   "cell_type": "code",
   "execution_count": 333,
   "metadata": {},
   "outputs": [
    {
     "data": {
      "text/plain": [
       "'Ski de rando et nuit en refuge en Maurienne'"
      ]
     },
     "execution_count": 333,
     "metadata": {},
     "output_type": "execute_result"
    }
   ],
   "source": [
    "# desc\n",
    "cells[1].h3.contents[0]"
   ]
  },
  {
   "cell_type": "code",
   "execution_count": 158,
   "metadata": {},
   "outputs": [
    {
     "data": {
      "text/plain": [
       "3"
      ]
     },
     "execution_count": 158,
     "metadata": {},
     "output_type": "execute_result"
    }
   ],
   "source": [
    "# diff\n",
    "texte = str(cells[1])\n",
    "motif = re.compile(\"Niveau.*?(.*?)<\")\n",
    "\n",
    "a = motif.findall(texte)\n",
    "int(a[0])"
   ]
  },
  {
   "cell_type": "code",
   "execution_count": 167,
   "metadata": {},
   "outputs": [
    {
     "data": {
      "text/plain": [
       "'<a class=\"tablink-home-adventures w-inline-block w-tab-link\" href=\"/expeditions/initiation-ski-de-rando-en-maurienne\" style=\"border: 0; width: 100%;\" target=\"_BLANK\"><div class=\"image-suggestion\" style=\"background-image: linear-gradient(0deg, #000, #131723 0%, transparent), url(https://dekrb62h8dllc.cloudfront.net/variants/ieFHidzJ9baSqN8ze3rj3om1/90d9d74dabd032767e49853b8530796bfdfad1c7a534a08aaf4eef4651ad3615); border: 0; width: 100%!important; max-width: 100%!important\"><div class=\"div-content-video\" style=\"background-image: none\"><div class=\"layout-suggestion-body\"><h3 class=\"heading-suggestion-padding-white\">Ski de rando et nuit en refuge en Maurienne</h3><div style=\"color: #eee; white-space: nowrap; padding-bottom: 6px\"><img alt=\"\" class=\"image-flag\" src=\"/flags/fr.svg\"/><span class=\"only-mobile\">9 départs - 4 jrs - 565€</span><span class=\"hide-on-mobile\">                              France Auvergne Rhone Alpes                              -                              9 départs de janvier à avril                            </span></div></div><div class=\"layout-exploration-day-price layout-exploration-day-price-white video-layout-apperance\"><div style=\"white-space: nowrap; margin-right: 11px\"><img src=\"/calendar.png\" style=\"width: 16px; margin-right: 6px;\"/>4 jours</div><div style=\"white-space: nowrap; margin-right: 11px\"><img src=\"levels.png\" style=\"width: 16px; margin-right: 6px;\"/> Niveau 3</div><div style=\"white-space: nowrap; margin-right: 11px\"><img src=\"leaf-grey.svg\" style=\"width: 16px; margin-right: 6px;\"/> Note éco 4</div></div><span class=\"button-secondary-white button-small btn-50 w-button\" data-href=\"/expeditions/initiation-ski-de-rando-en-maurienne\" style=\"margin-bottom: 0; position: absolute; bottom: -10px; right: 0; padding: 12px 27px;\">A partir de <span style=\"font-size: 1.1em; margin-left: 4px\">565 €</span></span></div></div></a>'"
      ]
     },
     "execution_count": 167,
     "metadata": {},
     "output_type": "execute_result"
    }
   ],
   "source": [
    "texte = str(cells[1])\n",
    "# texte = texte.replace(\" \",\"\")\n",
    "texte = texte.replace(\"\\n\", \"\")\n",
    "texte"
   ]
  },
  {
   "cell_type": "code",
   "execution_count": 334,
   "metadata": {},
   "outputs": [
    {
     "data": {
      "text/plain": [
       "'France Auvergne Rhone Alpes'"
      ]
     },
     "execution_count": 334,
     "metadata": {},
     "output_type": "execute_result"
    }
   ],
   "source": [
    "# lieu \n",
    "motif3 = re.compile('hide\\-on\\-mobile\\\">(.*?)\\-')\n",
    "\n",
    "b = motif3.findall(texte)\n",
    "b[0][30:-30]"
   ]
  },
  {
   "cell_type": "code",
   "execution_count": 335,
   "metadata": {},
   "outputs": [
    {
     "data": {
      "text/plain": [
       "'Ski de randonnée'"
      ]
     },
     "execution_count": 335,
     "metadata": {},
     "output_type": "execute_result"
    }
   ],
   "source": [
    "# theme\n",
    "adresse1=\"https://www.explora-project.com\" + cells[1].attrs[\"href\"]\n",
    "full_page1 = get(adresse1)\n",
    "code1 = full_page1.content.decode(\"utf8\")\n",
    "caca = str(code1)\n",
    "motif4 = re.compile(\"data-flag(.*?)div\")\n",
    "liste = motif4.findall(caca)\n",
    "theme = liste[-1][2:-2] \n",
    "theme"
   ]
  },
  {
   "cell_type": "code",
   "execution_count": 29,
   "metadata": {},
   "outputs": [],
   "source": [
    "@serialize\n",
    "@deserialize\n",
    "@dataclass\n",
    "class Sejour :\n",
    "    description : str\n",
    "    prix : int\n",
    "    lieux : str\n",
    "    duree : int\n",
    "    diff : str\n",
    "    theme : str "
   ]
  },
  {
   "cell_type": "code",
   "execution_count": 30,
   "metadata": {},
   "outputs": [],
   "source": [
    "resultats = list()\n",
    "for cell in cells:\n",
    "    texte = str(cell)\n",
    "    texte = texte.replace(\"\\n\", \"\")\n",
    "    description = cell.h3.contents[0]\n",
    "    jour_prix = cell.span.contents\n",
    "    detail = jour_prix[0].split()\n",
    "    duree = int(detail[3])\n",
    "    prix = int(detail[-1][:-1])\n",
    "    motif3 = re.compile('hide\\-on\\-mobile\\\">(.*?)\\-')\n",
    "    b = motif3.findall(texte)\n",
    "    lieu = b[0][30:-30]\n",
    "    motif = re.compile(\"Niveau.*?(.*?)<\")\n",
    "    a = motif.findall(texte)\n",
    "    diff = int(a[0])\n",
    "\n",
    "    adresse1=\"https://www.explora-project.com\" + cell.attrs[\"href\"]\n",
    "    full_page1 = get(adresse1)\n",
    "    code1 = full_page1.content.decode(\"utf8\")\n",
    "    caca = str(code1)\n",
    "    motif4 = re.compile(\"data-flag(.*?)div\")\n",
    "    liste = motif4.findall(caca)\n",
    "    theme = liste[-1][2:-2] \n",
    "    \n",
    "    resultats.append(\n",
    "        Sejour(\n",
    "            description,\n",
    "            prix,\n",
    "            lieu,\n",
    "            duree,\n",
    "            diff,\n",
    "            theme\n",
    "        )\n",
    "    )"
   ]
  },
  {
   "cell_type": "code",
   "execution_count": 31,
   "metadata": {},
   "outputs": [
    {
     "data": {
      "text/plain": [
       "[Sejour(description='Renforcement physique et mental par le froid', prix=490, lieux='France Auvergne Rhone Alpes', duree=3, diff=2, theme='Randonnée'),\n",
       " Sejour(description='Ski de rando et nuit en refuge en Maurienne', prix=565, lieux='France Auvergne Rhone Alpes', duree=4, diff=3, theme='Ski de randonnée'),\n",
       " Sejour(description='A la conquête du Jura : raquettes, flambeaux et vin chaud', prix=395, lieux='France Auvergne Rhone Alpes', duree=3, diff=1, theme='Raquettes à neige'),\n",
       " Sejour(description=\"Dans la peau d'un musher norvégien\", prix=1700, lieux='Norvège Laponie', duree=7, diff=2, theme='Chiens de traîneau'),\n",
       " Sejour(description='Mon premier bivouac hivernal', prix=420, lieux='France Auvergne Rhone Alpes', duree=3, diff=2, theme='Raquettes à neige'),\n",
       " Sejour(description='Rando yoga débutant hiver', prix=420, lieux='', duree=3, diff=2, theme='Auberge'),\n",
       " Sejour(description='Initiation raquettes et nocturne en montagne', prix=290, lieux='France Auvergne Rhone Alpes', duree=2, diff=2, theme='Raquettes à neige'),\n",
       " Sejour(description='Perfectionnement ski de rando : itinérance de refuge en refuge', prix=695, lieux='', duree=4, diff=4, theme='Ski de randonnée'),\n",
       " Sejour(description='Photo hivernale: lumières d’auvergne en raquettes', prix=470, lieux='France Auvergne Rhone Alpes', duree=4, diff=2, theme='Photographie'),\n",
       " Sejour(description=\"Vosges en raquettes : lacs glaciaires et forêts d'altitude\", prix=390, lieux='France Grand Est', duree=3, diff=2, theme='Raquettes à neige'),\n",
       " Sejour(description='Raquettes, yoga et ayurvéda en montagne', prix=650, lieux='France Auvergne Rhone Alpes', duree=4, diff=2, theme='Yoga'),\n",
       " Sejour(description='Raquettes yoga : respiration et méditation dans le Queyras', prix=655, lieux='France Provence Alpes Co...', duree=4, diff=3, theme='Yoga'),\n",
       " Sejour(description='Nuit insolite en igloo et raquettes dans le Mercantour', prix=310, lieux='France Provence Alpes Co...', duree=3, diff=2, theme='Raquettes à neige'),\n",
       " Sejour(description='Multi activités ski de rando et cascade de glace', prix=510, lieux='', duree=3, diff=2, theme='Cascade de glace'),\n",
       " Sejour(description='Ma 1ère trace en ski de rando à la Grave', prix=630, lieux='France Auvergne Rhone Alpes', duree=4, diff=2, theme='Ski de randonnée'),\n",
       " Sejour(description='Initiation au bivouac hivernal en Haute-Savoie', prix=420, lieux='France Auvergne Rhone Alpes', duree=3, diff=2, theme='Auberge'),\n",
       " Sejour(description='Cascade de glace dans le Queyras', prix=595, lieux='', duree=3, diff=3, theme='Cascade de glace'),\n",
       " Sejour(description='Initiation au ski de fond et à la randonnée nordique', prix=520, lieux='', duree=3, diff=2, theme='Ski nordique'),\n",
       " Sejour(description='Stage bushcraft et survie dans les Cévennes', prix=320, lieux='France ', duree=3, diff=2, theme='Randonnée'),\n",
       " Sejour(description=\"L'expérience trappeur : vie en forêt à la manière lapone\", prix=360, lieux='France Auvergne Rhone Alpes', duree=3, diff=1, theme='Randonnée'),\n",
       " Sejour(description='Découverte du splitboard dans le massif des Cerces', prix=510, lieux='France Provence Alpes Co...', duree=3, diff=3, theme='Ski de randonnée'),\n",
       " Sejour(description='Les Vosges en raquettes : crêtes, forêts et refuge gardé', prix=450, lieux='France Grand Est', duree=3, diff=2, theme='Raquettes à neige'),\n",
       " Sejour(description=\"De l'initiation à l'autonomie en ski-kite dans les Hautes-Alpes\", prix=620, lieux='France ', duree=3, diff=2, theme='Kite ski'),\n",
       " Sejour(description='Mon premier glacier en cabane perchée', prix=540, lieux='Suisse Valais', duree=3, diff=3, theme='Alpinisme'),\n",
       " Sejour(description='Laponie suédoise : raquettes et aurores boréales', prix=1490, lieux='Suède Laponie', duree=7, diff=2, theme='Chalet'),\n",
       " Sejour(description='Vercors version grand nord : débuter en raquettes-pulka', prix=665, lieux='France Auvergne Rhone Alpes', duree=4, diff=3, theme='Raquettes à neige'),\n",
       " Sejour(description=\"Construction d'igloo et raquettes dans le Jura\", prix=380, lieux='France Auvergne Rhone Alpes', duree=3, diff=2, theme='Raquettes à neige'),\n",
       " Sejour(description='Ma première nuit en igloo en famille', prix=350, lieux='France Provence Alpes Co...', duree=3, diff=2, theme='Raquettes à neige'),\n",
       " Sejour(description='Multi-activité sous les aurores boréales Finlandaises', prix=1900, lieux='Finlande Laponie', duree=8, diff=3, theme='Chalet'),\n",
       " Sejour(description='Haute Route suisse en ski de rando', prix=1300, lieux='', duree=7, diff=4, theme='Ski de randonnée'),\n",
       " Sejour(description='Trek sur les traces des berbères Ait Atta au Maroc', prix=990, lieux='Maroc ', duree=8, diff=3, theme='Auberge'),\n",
       " Sejour(description='Cascade de glace en Norvège', prix=2150, lieux='', duree=7, diff=3, theme='Chalet'),\n",
       " Sejour(description='Immersion polaire en Laponie finlandaise', prix=2530, lieux='Finlande Laponie', duree=7, diff=1, theme='Logement privé'),\n",
       " Sejour(description='Trek hivernal entre vallées et lacs en Slovénie', prix=1190, lieux='Slovénie ', duree=8, diff=2, theme='Auberge'),\n",
       " Sejour(description='Multi-activités hivernal : le Vercors en famille', prix=420, lieux='France Auvergne Rhone Alpes', duree=3, diff=1, theme='Raquettes à neige'),\n",
       " Sejour(description='Ski joëring dans le Jura', prix=680, lieux='France Bourgogne Franche...', duree=3, diff=3, theme='Ski nordique'),\n",
       " Sejour(description='Raquettes et raclette au pays du Beaufort', prix=380, lieux='France ', duree=3, diff=2, theme='Raquettes à neige'),\n",
       " Sejour(description='Trek méditation au coeur du désert Marocain', prix=1290, lieux='Maroc ', duree=8, diff=2, theme='Auberge'),\n",
       " Sejour(description='Fjords norvégiens: ski voile au cœur des Alpes de Bodø', prix=4200, lieux='Norvège Nordland', duree=8, diff=3, theme='Ski de randonnée'),\n",
       " Sejour(description='Raquettes et orientation dans les Hautes-Alpes', prix=420, lieux='France Provence Alpes Co...', duree=3, diff=2, theme='Raquettes à neige'),\n",
       " Sejour(description=\"Vercors : à la manière d'une expédition en terre polaire\", prix=530, lieux='', duree=4, diff=4, theme='Ski nordique'),\n",
       " Sejour(description='Laponie en kite-ski', prix=3290, lieux='Suède Laponie', duree=14, diff=5, theme='Couchette'),\n",
       " Sejour(description='Planche à voile, yoga et balades Andalouses', prix=1290, lieux='Espagne Malaga', duree=7, diff=2, theme='Surf house'),\n",
       " Sejour(description='Ski dans les fjords vierges de Norvège', prix=2070, lieux='Norvège ', duree=8, diff=4, theme='Auberge'),\n",
       " Sejour(description='A la conquête des fjords : ski-voile en Norvège', prix=3820, lieux='Norvège ', duree=8, diff=3, theme='Cabine'),\n",
       " Sejour(description='Laponie Suédoise : traversée partielle de la Kungsleden en ski et pulka', prix=2240, lieux='Suède Laponie', duree=9, diff=3, theme='Ski nordique'),\n",
       " Sejour(description='Laponie Suédoise: itinérance raquettes sous les aurores boréales', prix=1795, lieux='Suède Laponie', duree=8, diff=3, theme='Raquettes à neige'),\n",
       " Sejour(description='Découverte du trail blanc au pays du Beaufort', prix=490, lieux='France ', duree=3, diff=3, theme='Raquettes à neige'),\n",
       " Sejour(description=\"Dans la peau d'un trappeur en Laponie suédoise\", prix=3620, lieux='Suède Laponie', duree=8, diff=3, theme='Chalet'),\n",
       " Sejour(description='Trek immersif dans le paradis sauvage de Madère', prix=890, lieux='Madère ', duree=8, diff=2, theme='Hôtel'),\n",
       " Sejour(description=\"Découverte du glacier d'Argentière en raquettes\", prix=670, lieux='France Auvergne Rhone Alpes', duree=3, diff=3, theme='Raquettes à neige'),\n",
       " Sejour(description='Traversée du désert du Sarek en ski-pulka', prix=2300, lieux='Suède Laponie', duree=10, diff=5, theme='Couchette'),\n",
       " Sejour(description='Itinérance raquettes-pulka en Laponie russe', prix=2050, lieux='Russie Laponie', duree=9, diff=3, theme='Raquettes à neige'),\n",
       " Sejour(description='Raquettes et Yoga entre Fjords et Volcans Islandais', prix=2490, lieux='Islande Norðurland eystra', duree=7, diff=1, theme='Raquettes à neige'),\n",
       " Sejour(description='Ski de randonnée en itinérance en Vanoise', prix=895, lieux='France Auvergne Rhone Alpes', duree=5, diff=3, theme='Ski de randonnée'),\n",
       " Sejour(description='Ski de randonnée en itinérance sur les crêtes franco-italienne', prix=630, lieux='France Auvergne Rhone Alpes', duree=3, diff=4, theme='Ski de randonnée'),\n",
       " Sejour(description='Marche à la découverte des Pouilles', prix=1020, lieux='Italie Les Pouilles', duree=7, diff=2, theme='Hôtel'),\n",
       " Sejour(description='Découverte de la Laponie suédoise en raquettes et ski pulka', prix=1870, lieux='Suède Laponie', duree=7, diff=2, theme='Chalet'),\n",
       " Sejour(description='Cure détox, cueillette, yoga et randonnée alpine', prix=490, lieux='France Auvergne Rhone Alpes', duree=3, diff=2, theme='Yoga'),\n",
       " Sejour(description='Défi raquettes : mon premier 3000 ', prix=510, lieux='France Auvergne Rhone Alpes', duree=3, diff=4, theme='Raquettes à neige'),\n",
       " Sejour(description='Mon premier quart de nuit', prix=620, lieux='France Provence Alpes Co...', duree=3, diff=2, theme='Voile'),\n",
       " Sejour(description='Randonnée famille en Corse', prix=950, lieux='France Corse', duree=6, diff=2, theme='Auberge'),\n",
       " Sejour(description='Multiactivité famille en Belledonne', prix=775, lieux='France Auvergne Rhone Alpes', duree=6, diff=2, theme='Cani rando'),\n",
       " Sejour(description='Cueillette 3 saisons en Belledonne ', prix=540, lieux='France Auvergne Rhone Alpes', duree=4, diff=2, theme='Auberge'),\n",
       " Sejour(description='Canoë et bivouac en famille', prix=355, lieux='France Auvergne Rhone Alpes', duree=3, diff=1, theme='Canoë-kayak'),\n",
       " Sejour(description='Itinérance Paddle dans les Gorges du Tarn', prix=460, lieux='France Occitanie', duree=4, diff=3, theme='Paddle'),\n",
       " Sejour(description='Selvaggio blu : trek mythique et sauvage en Sardaigne', prix=1430, lieux='Italie Sardaigne', duree=7, diff=3, theme='Refuge'),\n",
       " Sejour(description='Traversée du Mont Rose par les 4000', prix=1550, lieux='Suisse Valais', duree=6, diff=4, theme='Ski de randonnée'),\n",
       " Sejour(description='Initiation orientation et cartographie dans le Jura', prix=390, lieux='France Auvergne Rhone Alpes', duree=3, diff=2, theme='Randonnée'),\n",
       " Sejour(description='Initiation remèdes naturels et cuisine sauvage', prix=350, lieux='France Auvergne Rhone Alpes', duree=3, diff=2, theme='Trek'),\n",
       " Sejour(description='Initiation escalade dans les Calanques', prix=1350, lieux='France Provence Alpes Co...', duree=7, diff=2, theme='Randonnée'),\n",
       " Sejour(description='Rando & Yoga débutant été', prix=380, lieux='France Auvergne Rhone Alpes', duree=3, diff=2, theme='Yoga'),\n",
       " Sejour(description='Photographie printanière : faune & flore de montagne', prix=350, lieux='France Auvergne Rhone Alpes', duree=3, diff=1, theme='Photographie'),\n",
       " Sejour(description='Initiation au bivouac dans le Vercors', prix=410, lieux='France Auvergne Rhone Alpes', duree=3, diff=2, theme='Trek'),\n",
       " Sejour(description=\"Maroc : traversée partielle de l'Atlas en trek\", prix=950, lieux='Maroc Atlas', duree=9, diff=3, theme='Trek'),\n",
       " Sejour(description='Trek sur les côtes bretonnes de granite rose', prix=360, lieux='France ', duree=4, diff=3, theme='Trek'),\n",
       " Sejour(description=\"Découverte de l'Allier en canoe et bivouac \", prix=355, lieux='France Auvergne Rhone Alpes', duree=3, diff=1, theme='Tente'),\n",
       " Sejour(description='Mon premier 4 000', prix=720, lieux='Suisse Valais', duree=3, diff=3, theme='Alpinisme'),\n",
       " Sejour(description='Trek & Yoga dans les Aravis', prix=360, lieux='France Auvergne Rhone Alpes', duree=3, diff=2, theme='Trek'),\n",
       " Sejour(description='Itinérance Yoga en montagne', prix=790, lieux='', duree=7, diff=2, theme='Trek'),\n",
       " Sejour(description='Glacier, lacs et torrents du Ruitor', prix=570, lieux='Italie Auvergne Rhone Alpes', duree=5, diff=4, theme='Trek'),\n",
       " Sejour(description=\"Découverte sportive de l'alpinisme dans la vallée du Mont Blanc\", prix=650, lieux='France Auvergne Rhone Alpes', duree=3, diff=3, theme='Alpinisme'),\n",
       " Sejour(description='Rando-photo : brame du cerf en Auvergne', prix=350, lieux='France Auvergne Rhone Alpes', duree=3, diff=2, theme='Photographie'),\n",
       " Sejour(description='Maroc : initiation escalade dans les Gorges du Todra', prix=1380, lieux='Maroc Haut Atlas', duree=8, diff=2, theme='Escalade'),\n",
       " Sejour(description='Immersion musher et aurores boréales en Laponie', prix=1590, lieux='Suède Laponie', duree=6, diff=2, theme='Chalet'),\n",
       " Sejour(description=\"Trek au pays du safran, l'or rouge du Maroc\", prix=950, lieux='Maroc Sioura', duree=8, diff=2, theme='Trek'),\n",
       " Sejour(description='Immersion Lapone, aurores boréales et chien de traîneau', prix=2340, lieux='Suède Laponie', duree=6, diff=2, theme='Chalet')]"
      ]
     },
     "execution_count": 31,
     "metadata": {},
     "output_type": "execute_result"
    }
   ],
   "source": [
    "resultats"
   ]
  },
  {
   "cell_type": "code",
   "execution_count": 32,
   "metadata": {},
   "outputs": [],
   "source": [
    "with open(\"backup_explora.json\", \"w\") as fichier:\n",
    "    fichier.write(to_json(resultats))"
   ]
  }
 ],
 "metadata": {
  "interpreter": {
   "hash": "5b6c761d8dec5970146fbbffb486e6b700cace45b168bd551b8d6380eb7f7175"
  },
  "kernelspec": {
   "display_name": "Python 3.9.7 64-bit",
   "language": "python",
   "name": "python3"
  },
  "language_info": {
   "codemirror_mode": {
    "name": "ipython",
    "version": 3
   },
   "file_extension": ".py",
   "mimetype": "text/x-python",
   "name": "python",
   "nbconvert_exporter": "python",
   "pygments_lexer": "ipython3",
   "version": "3.9.7"
  },
  "orig_nbformat": 4
 },
 "nbformat": 4,
 "nbformat_minor": 2
}
