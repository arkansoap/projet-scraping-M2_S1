{
 "cells": [
  {
   "cell_type": "markdown",
   "metadata": {},
   "source": [
    "# Prédictions avec scikitlearn"
   ]
  },
  {
   "cell_type": "code",
   "execution_count": 4,
   "metadata": {},
   "outputs": [],
   "source": [
    "from selenium import webdriver\n",
    "from bs4 import BeautifulSoup as BS\n",
    "from selenium.webdriver.common.keys import Keys\n",
    "from selenium.webdriver.common.by import By\n",
    "import re\n",
    "import time\n",
    "from serde import serialize, deserialize\n",
    "from serde.json import to_json, from_json\n",
    "import pandas as pd\n",
    "from requests import get \n",
    "from dataclasses import dataclass\n",
    "from pays import Countries\n",
    "\n",
    "from sklearn.preprocessing import MinMaxScaler, PolynomialFeatures\n",
    "from sklearn.model_selection import train_test_split, GridSearchCV\n",
    "from sklearn.linear_model import LinearRegression\n",
    "from sklearn.pipeline import Pipeline"
   ]
  },
  {
   "cell_type": "code",
   "execution_count": 5,
   "metadata": {},
   "outputs": [],
   "source": [
    "df = pd.read_pickle(\"my_df.pkl\")"
   ]
  },
  {
   "cell_type": "code",
   "execution_count": 6,
   "metadata": {},
   "outputs": [
    {
     "data": {
      "text/html": [
       "<div>\n",
       "<style scoped>\n",
       "    .dataframe tbody tr th:only-of-type {\n",
       "        vertical-align: middle;\n",
       "    }\n",
       "\n",
       "    .dataframe tbody tr th {\n",
       "        vertical-align: top;\n",
       "    }\n",
       "\n",
       "    .dataframe thead th {\n",
       "        text-align: right;\n",
       "    }\n",
       "</style>\n",
       "<table border=\"1\" class=\"dataframe\">\n",
       "  <thead>\n",
       "    <tr style=\"text-align: right;\">\n",
       "      <th></th>\n",
       "      <th>description</th>\n",
       "      <th>prix</th>\n",
       "      <th>lieux</th>\n",
       "      <th>duree</th>\n",
       "      <th>diff</th>\n",
       "      <th>theme</th>\n",
       "    </tr>\n",
       "  </thead>\n",
       "  <tbody>\n",
       "    <tr>\n",
       "      <th>0</th>\n",
       "      <td>plaisirs neige &amp;#224; sixt-fer-&amp;#224;-cheval</td>\n",
       "      <td>690</td>\n",
       "      <td>metropole</td>\n",
       "      <td>8</td>\n",
       "      <td>Initié</td>\n",
       "      <td>multi-activités</td>\n",
       "    </tr>\n",
       "    <tr>\n",
       "      <th>1</th>\n",
       "      <td>haute clar&amp;#233;e &amp;quot;espace trappeur&amp;quot;</td>\n",
       "      <td>860</td>\n",
       "      <td>metropole</td>\n",
       "      <td>7</td>\n",
       "      <td>Découverte</td>\n",
       "      <td>multi-activités</td>\n",
       "    </tr>\n",
       "    <tr>\n",
       "      <th>2</th>\n",
       "      <td>aventures hivernales sur le plateau de l&amp;#39;a...</td>\n",
       "      <td>720</td>\n",
       "      <td>metropole</td>\n",
       "      <td>6</td>\n",
       "      <td>Découverte</td>\n",
       "      <td>multi-activités</td>\n",
       "    </tr>\n",
       "    <tr>\n",
       "      <th>3</th>\n",
       "      <td>neige et soleil du queyras en famille</td>\n",
       "      <td>730</td>\n",
       "      <td>metropole</td>\n",
       "      <td>7</td>\n",
       "      <td>Découverte</td>\n",
       "      <td>multi-activités</td>\n",
       "    </tr>\n",
       "    <tr>\n",
       "      <th>4</th>\n",
       "      <td>plaisirs neige dans les aravis</td>\n",
       "      <td>830</td>\n",
       "      <td>metropole</td>\n",
       "      <td>7</td>\n",
       "      <td>Découverte</td>\n",
       "      <td>multi-activités</td>\n",
       "    </tr>\n",
       "    <tr>\n",
       "      <th>...</th>\n",
       "      <td>...</td>\n",
       "      <td>...</td>\n",
       "      <td>...</td>\n",
       "      <td>...</td>\n",
       "      <td>...</td>\n",
       "      <td>...</td>\n",
       "    </tr>\n",
       "    <tr>\n",
       "      <th>383</th>\n",
       "      <td>plongée à la réunion</td>\n",
       "      <td>1540</td>\n",
       "      <td>dest_éloignée</td>\n",
       "      <td>10</td>\n",
       "      <td>Initié</td>\n",
       "      <td>multi-activités</td>\n",
       "    </tr>\n",
       "    <tr>\n",
       "      <th>384</th>\n",
       "      <td>randonnée dans le parc naturel de topes de col...</td>\n",
       "      <td>1690</td>\n",
       "      <td>dest_éloignée</td>\n",
       "      <td>14</td>\n",
       "      <td>Découverte</td>\n",
       "      <td>rando nature</td>\n",
       "    </tr>\n",
       "    <tr>\n",
       "      <th>385</th>\n",
       "      <td>randonnée jusqu'au mont ryten, vue sur kvalvika</td>\n",
       "      <td>1930</td>\n",
       "      <td>dest_éloignée</td>\n",
       "      <td>15</td>\n",
       "      <td>Découverte</td>\n",
       "      <td>rando nature</td>\n",
       "    </tr>\n",
       "    <tr>\n",
       "      <th>386</th>\n",
       "      <td>drapée masai flottant dans les terres du rift</td>\n",
       "      <td>2350</td>\n",
       "      <td>dest_éloignée</td>\n",
       "      <td>8</td>\n",
       "      <td>Découverte</td>\n",
       "      <td>rando nature</td>\n",
       "    </tr>\n",
       "    <tr>\n",
       "      <th>387</th>\n",
       "      <td>randonnée à skaftafell</td>\n",
       "      <td>4495</td>\n",
       "      <td>dest_éloignée</td>\n",
       "      <td>15</td>\n",
       "      <td>Découverte</td>\n",
       "      <td>rando nature</td>\n",
       "    </tr>\n",
       "  </tbody>\n",
       "</table>\n",
       "<p>388 rows × 6 columns</p>\n",
       "</div>"
      ],
      "text/plain": [
       "                                           description  prix          lieux  \\\n",
       "0         plaisirs neige &#224; sixt-fer-&#224;-cheval   690      metropole   \n",
       "1        haute clar&#233;e &quot;espace trappeur&quot;   860      metropole   \n",
       "2    aventures hivernales sur le plateau de l&#39;a...   720      metropole   \n",
       "3                neige et soleil du queyras en famille   730      metropole   \n",
       "4                       plaisirs neige dans les aravis   830      metropole   \n",
       "..                                                 ...   ...            ...   \n",
       "383                               plongée à la réunion  1540  dest_éloignée   \n",
       "384  randonnée dans le parc naturel de topes de col...  1690  dest_éloignée   \n",
       "385    randonnée jusqu'au mont ryten, vue sur kvalvika  1930  dest_éloignée   \n",
       "386      drapée masai flottant dans les terres du rift  2350  dest_éloignée   \n",
       "387                             randonnée à skaftafell  4495  dest_éloignée   \n",
       "\n",
       "     duree        diff            theme  \n",
       "0        8      Initié  multi-activités  \n",
       "1        7  Découverte  multi-activités  \n",
       "2        6  Découverte  multi-activités  \n",
       "3        7  Découverte  multi-activités  \n",
       "4        7  Découverte  multi-activités  \n",
       "..     ...         ...              ...  \n",
       "383     10      Initié  multi-activités  \n",
       "384     14  Découverte     rando nature  \n",
       "385     15  Découverte     rando nature  \n",
       "386      8  Découverte     rando nature  \n",
       "387     15  Découverte     rando nature  \n",
       "\n",
       "[388 rows x 6 columns]"
      ]
     },
     "execution_count": 6,
     "metadata": {},
     "output_type": "execute_result"
    }
   ],
   "source": [
    "df"
   ]
  },
  {
   "cell_type": "code",
   "execution_count": 9,
   "metadata": {},
   "outputs": [
    {
     "data": {
      "text/plain": [
       "(388, 6)"
      ]
     },
     "execution_count": 9,
     "metadata": {},
     "output_type": "execute_result"
    }
   ],
   "source": [
    "df.shape"
   ]
  },
  {
   "cell_type": "code",
   "execution_count": 17,
   "metadata": {},
   "outputs": [],
   "source": [
    "X = df.drop([\"description\", \"prix\"], axis = 1)\n",
    "y = df[\"prix\"]"
   ]
  },
  {
   "cell_type": "code",
   "execution_count": 19,
   "metadata": {},
   "outputs": [],
   "source": [
    "X_tr, X_te, y_tr, y_te = train_test_split(X, y)"
   ]
  },
  {
   "cell_type": "code",
   "execution_count": 21,
   "metadata": {},
   "outputs": [],
   "source": [
    "results = dict()"
   ]
  },
  {
   "cell_type": "code",
   "execution_count": null,
   "metadata": {},
   "outputs": [],
   "source": []
  }
 ],
 "metadata": {
  "interpreter": {
   "hash": "5b6c761d8dec5970146fbbffb486e6b700cace45b168bd551b8d6380eb7f7175"
  },
  "kernelspec": {
   "display_name": "Python 3.9.7 64-bit",
   "language": "python",
   "name": "python3"
  },
  "language_info": {
   "codemirror_mode": {
    "name": "ipython",
    "version": 3
   },
   "file_extension": ".py",
   "mimetype": "text/x-python",
   "name": "python",
   "nbconvert_exporter": "python",
   "pygments_lexer": "ipython3",
   "version": "3.9.7"
  },
  "orig_nbformat": 4
 },
 "nbformat": 4,
 "nbformat_minor": 2
}
