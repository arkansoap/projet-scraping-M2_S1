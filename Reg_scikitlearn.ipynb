{
 "cells": [
  {
   "cell_type": "markdown",
   "metadata": {},
   "source": [
    "# Prédictions avec scikitlearn"
   ]
  },
  {
   "cell_type": "code",
   "execution_count": 3,
   "metadata": {},
   "outputs": [],
   "source": [
    "from selenium import webdriver\n",
    "from bs4 import BeautifulSoup as BS\n",
    "from selenium.webdriver.common.keys import Keys\n",
    "from selenium.webdriver.common.by import By\n",
    "import re\n",
    "import time\n",
    "from serde import serialize, deserialize\n",
    "from serde.json import to_json, from_json\n",
    "import pandas as pd\n",
    "from requests import get \n",
    "from dataclasses import dataclass\n",
    "from pays import Countries\n",
    "\n",
    "from sklearn.preprocessing import MinMaxScaler, PolynomialFeatures, OneHotEncoder\n",
    "from sklearn.model_selection import train_test_split, GridSearchCV\n",
    "from sklearn.linear_model import LinearRegression, Ridge, Lasso, ElasticNet, LogisticRegression\n",
    "from sklearn.neighbors import KNeighborsRegressor\n",
    "from sklearn.svm import SVR\n",
    "from sklearn.ensemble import RandomForestRegressor\n",
    "from sklearn.neural_network import MLPRegressor\n",
    "from sklearn.pipeline import Pipeline\n",
    "from sklearn.compose import ColumnTransformer\n",
    "\n",
    "from rich import print\n",
    "from rich.table import Table\n",
    "\n",
    "import sklearn.metrics"
   ]
  },
  {
   "cell_type": "markdown",
   "metadata": {},
   "source": [
    "On commence par charger le dataframe."
   ]
  },
  {
   "cell_type": "code",
   "execution_count": 4,
   "metadata": {},
   "outputs": [],
   "source": [
    "df = pd.read_pickle(\"my_df.pkl\")"
   ]
  },
  {
   "cell_type": "code",
   "execution_count": 5,
   "metadata": {},
   "outputs": [
    {
     "data": {
      "text/html": [
       "<div>\n",
       "<style scoped>\n",
       "    .dataframe tbody tr th:only-of-type {\n",
       "        vertical-align: middle;\n",
       "    }\n",
       "\n",
       "    .dataframe tbody tr th {\n",
       "        vertical-align: top;\n",
       "    }\n",
       "\n",
       "    .dataframe thead th {\n",
       "        text-align: right;\n",
       "    }\n",
       "</style>\n",
       "<table border=\"1\" class=\"dataframe\">\n",
       "  <thead>\n",
       "    <tr style=\"text-align: right;\">\n",
       "      <th></th>\n",
       "      <th>description</th>\n",
       "      <th>prix</th>\n",
       "      <th>lieux</th>\n",
       "      <th>duree</th>\n",
       "      <th>diff</th>\n",
       "      <th>theme</th>\n",
       "    </tr>\n",
       "  </thead>\n",
       "  <tbody>\n",
       "    <tr>\n",
       "      <th>0</th>\n",
       "      <td>plaisirs neige &amp;#224; sixt-fer-&amp;#224;-cheval</td>\n",
       "      <td>690</td>\n",
       "      <td>metropole</td>\n",
       "      <td>8</td>\n",
       "      <td>Initié</td>\n",
       "      <td>multi-activités</td>\n",
       "    </tr>\n",
       "    <tr>\n",
       "      <th>1</th>\n",
       "      <td>haute clar&amp;#233;e &amp;quot;espace trappeur&amp;quot;</td>\n",
       "      <td>860</td>\n",
       "      <td>metropole</td>\n",
       "      <td>7</td>\n",
       "      <td>Découverte</td>\n",
       "      <td>multi-activités</td>\n",
       "    </tr>\n",
       "    <tr>\n",
       "      <th>2</th>\n",
       "      <td>aventures hivernales sur le plateau de l&amp;#39;a...</td>\n",
       "      <td>720</td>\n",
       "      <td>metropole</td>\n",
       "      <td>6</td>\n",
       "      <td>Découverte</td>\n",
       "      <td>multi-activités</td>\n",
       "    </tr>\n",
       "    <tr>\n",
       "      <th>3</th>\n",
       "      <td>neige et soleil du queyras en famille</td>\n",
       "      <td>730</td>\n",
       "      <td>metropole</td>\n",
       "      <td>7</td>\n",
       "      <td>Découverte</td>\n",
       "      <td>multi-activités</td>\n",
       "    </tr>\n",
       "    <tr>\n",
       "      <th>4</th>\n",
       "      <td>plaisirs neige dans les aravis</td>\n",
       "      <td>830</td>\n",
       "      <td>metropole</td>\n",
       "      <td>7</td>\n",
       "      <td>Découverte</td>\n",
       "      <td>multi-activités</td>\n",
       "    </tr>\n",
       "    <tr>\n",
       "      <th>...</th>\n",
       "      <td>...</td>\n",
       "      <td>...</td>\n",
       "      <td>...</td>\n",
       "      <td>...</td>\n",
       "      <td>...</td>\n",
       "      <td>...</td>\n",
       "    </tr>\n",
       "    <tr>\n",
       "      <th>383</th>\n",
       "      <td>plongée à la réunion</td>\n",
       "      <td>1540</td>\n",
       "      <td>dest_éloignée</td>\n",
       "      <td>10</td>\n",
       "      <td>Initié</td>\n",
       "      <td>multi-activités</td>\n",
       "    </tr>\n",
       "    <tr>\n",
       "      <th>384</th>\n",
       "      <td>randonnée dans le parc naturel de topes de col...</td>\n",
       "      <td>1690</td>\n",
       "      <td>dest_éloignée</td>\n",
       "      <td>14</td>\n",
       "      <td>Découverte</td>\n",
       "      <td>rando nature</td>\n",
       "    </tr>\n",
       "    <tr>\n",
       "      <th>385</th>\n",
       "      <td>randonnée jusqu'au mont ryten, vue sur kvalvika</td>\n",
       "      <td>1930</td>\n",
       "      <td>dest_éloignée</td>\n",
       "      <td>15</td>\n",
       "      <td>Découverte</td>\n",
       "      <td>rando nature</td>\n",
       "    </tr>\n",
       "    <tr>\n",
       "      <th>386</th>\n",
       "      <td>drapée masai flottant dans les terres du rift</td>\n",
       "      <td>2350</td>\n",
       "      <td>dest_éloignée</td>\n",
       "      <td>8</td>\n",
       "      <td>Découverte</td>\n",
       "      <td>rando nature</td>\n",
       "    </tr>\n",
       "    <tr>\n",
       "      <th>387</th>\n",
       "      <td>randonnée à skaftafell</td>\n",
       "      <td>4495</td>\n",
       "      <td>dest_éloignée</td>\n",
       "      <td>15</td>\n",
       "      <td>Découverte</td>\n",
       "      <td>rando nature</td>\n",
       "    </tr>\n",
       "  </tbody>\n",
       "</table>\n",
       "<p>388 rows × 6 columns</p>\n",
       "</div>"
      ],
      "text/plain": [
       "                                           description  prix          lieux  \\\n",
       "0         plaisirs neige &#224; sixt-fer-&#224;-cheval   690      metropole   \n",
       "1        haute clar&#233;e &quot;espace trappeur&quot;   860      metropole   \n",
       "2    aventures hivernales sur le plateau de l&#39;a...   720      metropole   \n",
       "3                neige et soleil du queyras en famille   730      metropole   \n",
       "4                       plaisirs neige dans les aravis   830      metropole   \n",
       "..                                                 ...   ...            ...   \n",
       "383                               plongée à la réunion  1540  dest_éloignée   \n",
       "384  randonnée dans le parc naturel de topes de col...  1690  dest_éloignée   \n",
       "385    randonnée jusqu'au mont ryten, vue sur kvalvika  1930  dest_éloignée   \n",
       "386      drapée masai flottant dans les terres du rift  2350  dest_éloignée   \n",
       "387                             randonnée à skaftafell  4495  dest_éloignée   \n",
       "\n",
       "     duree        diff            theme  \n",
       "0        8      Initié  multi-activités  \n",
       "1        7  Découverte  multi-activités  \n",
       "2        6  Découverte  multi-activités  \n",
       "3        7  Découverte  multi-activités  \n",
       "4        7  Découverte  multi-activités  \n",
       "..     ...         ...              ...  \n",
       "383     10      Initié  multi-activités  \n",
       "384     14  Découverte     rando nature  \n",
       "385     15  Découverte     rando nature  \n",
       "386      8  Découverte     rando nature  \n",
       "387     15  Découverte     rando nature  \n",
       "\n",
       "[388 rows x 6 columns]"
      ]
     },
     "execution_count": 5,
     "metadata": {},
     "output_type": "execute_result"
    }
   ],
   "source": [
    "df"
   ]
  },
  {
   "cell_type": "code",
   "execution_count": 6,
   "metadata": {},
   "outputs": [
    {
     "data": {
      "text/plain": [
       "(388, 6)"
      ]
     },
     "execution_count": 6,
     "metadata": {},
     "output_type": "execute_result"
    }
   ],
   "source": [
    "df.shape"
   ]
  },
  {
   "cell_type": "markdown",
   "metadata": {},
   "source": [
    "On définit la **variable à expliquer** et les **variables explicatives**."
   ]
  },
  {
   "cell_type": "code",
   "execution_count": 7,
   "metadata": {},
   "outputs": [],
   "source": [
    "X = df.drop([\"description\", \"prix\"], axis = 1)\n",
    "y = df[\"prix\"]"
   ]
  },
  {
   "cell_type": "markdown",
   "metadata": {},
   "source": [
    "On sépare notre échantillons en deux, une partie pour l'apprentissage et une partie pour les test. "
   ]
  },
  {
   "cell_type": "code",
   "execution_count": 8,
   "metadata": {},
   "outputs": [],
   "source": [
    "X_tr, X_te, y_tr, y_te = train_test_split(X, y)"
   ]
  },
  {
   "cell_type": "markdown",
   "metadata": {},
   "source": [
    "On transforme les variables catégorielles lors de la phase de preprocessing à l'aide d'un `one hot encoder`.\n",
    "\n",
    "On pourrait utiliser d'autres méthodes d'encodage (code en commentaire ci-dessous)"
   ]
  },
  {
   "cell_type": "code",
   "execution_count": 2,
   "metadata": {},
   "outputs": [],
   "source": [
    "# from sklearn.preprocessing import FunctionTransformer\n",
    "\n",
    "# encoding = { \"low\": 0, \"med\": 1, \"high\": 2, \"vhigh\": 3 }\n",
    "\n",
    "# def grad_encoder(df):\n",
    "#   for col in df.columns:\n",
    "#     df[col] = df[col].apply(lambda x: encoding[x])\n",
    "#   return df\n",
    "\n",
    "# eval_encoder = Pipeline(\n",
    "#   steps=[\n",
    "#     ('grad', FunctionTransformer(grad_encoder))\n",
    "#   ]\n",
    "# )\n",
    "\n",
    "# def num_encoder(df):\n",
    "#   for col in df.columns:\n",
    "#     df[col] = df[col].apply(lambda x: 4 if x == \"4more\" else x)\n",
    "#     df[col] = df[col].apply(lambda x: 4 if x == \"more\" else x)\n",
    "#   return df\n",
    "\n",
    "# num_encoder = Pipeline(\n",
    "#   steps=[\n",
    "#     ('num', FunctionTransformer(num_encoder))\n",
    "#   ]\n",
    "# )"
   ]
  },
  {
   "cell_type": "code",
   "execution_count": 10,
   "metadata": {},
   "outputs": [],
   "source": [
    "one_hot_encoder = Pipeline(\n",
    "  steps=[\n",
    "    ('one_hot', OneHotEncoder(handle_unknown='ignore'))\n",
    "  ]\n",
    ")"
   ]
  },
  {
   "cell_type": "code",
   "execution_count": 11,
   "metadata": {},
   "outputs": [],
   "source": [
    "preprocessor = ColumnTransformer(\n",
    "  transformers=[\n",
    "    ('categorical', one_hot_encoder, ['lieux', 'diff', 'theme']),\n",
    "  ]\n",
    ")"
   ]
  },
  {
   "cell_type": "markdown",
   "metadata": {},
   "source": [
    "Un premier test d'apprentissage sans *tuning* des paramètres donne des résultats très décevants..."
   ]
  },
  {
   "cell_type": "code",
   "execution_count": 12,
   "metadata": {},
   "outputs": [],
   "source": [
    "models_names = [\"Random Forest\", \"Linear Regression\", \"ElasticNet\"]\n",
    "\n",
    "pipelines = [\n",
    "  Pipeline(steps=[('preprocessor', preprocessor), ('classifier', RandomForestRegressor())]),\n",
    "  Pipeline(steps=[('preprocessor', preprocessor), ('classifier', LinearRegression())]),\n",
    "  Pipeline(steps=[('preprocessor', preprocessor), ('classifier', ElasticNet())])\n",
    "]"
   ]
  },
  {
   "cell_type": "code",
   "execution_count": 13,
   "metadata": {},
   "outputs": [
    {
     "data": {
      "text/html": [
       "<pre style=\"white-space:pre;overflow-x:auto;line-height:normal;font-family:Menlo,'DejaVu Sans Mono',consolas,'Courier New',monospace\">Score <span style=\"font-weight: bold\">(</span>Random Forest<span style=\"font-weight: bold\">)</span> : <span style=\"color: #008080; text-decoration-color: #008080; font-weight: bold\">0.5</span>\n",
       "</pre>\n"
      ],
      "text/plain": [
       "Score \u001b[1m(\u001b[0mRandom Forest\u001b[1m)\u001b[0m : \u001b[1;36m0.5\u001b[0m\n"
      ]
     },
     "metadata": {},
     "output_type": "display_data"
    },
    {
     "data": {
      "text/html": [
       "<pre style=\"white-space:pre;overflow-x:auto;line-height:normal;font-family:Menlo,'DejaVu Sans Mono',consolas,'Courier New',monospace\">Score <span style=\"font-weight: bold\">(</span>Linear Regression<span style=\"font-weight: bold\">)</span> : <span style=\"color: #008080; text-decoration-color: #008080; font-weight: bold\">0.4</span>\n",
       "</pre>\n"
      ],
      "text/plain": [
       "Score \u001b[1m(\u001b[0mLinear Regression\u001b[1m)\u001b[0m : \u001b[1;36m0.4\u001b[0m\n"
      ]
     },
     "metadata": {},
     "output_type": "display_data"
    },
    {
     "data": {
      "text/html": [
       "<pre style=\"white-space:pre;overflow-x:auto;line-height:normal;font-family:Menlo,'DejaVu Sans Mono',consolas,'Courier New',monospace\">Score <span style=\"font-weight: bold\">(</span>ElasticNet<span style=\"font-weight: bold\">)</span> : <span style=\"color: #008080; text-decoration-color: #008080; font-weight: bold\">0.2</span>\n",
       "</pre>\n"
      ],
      "text/plain": [
       "Score \u001b[1m(\u001b[0mElasticNet\u001b[1m)\u001b[0m : \u001b[1;36m0.2\u001b[0m\n"
      ]
     },
     "metadata": {},
     "output_type": "display_data"
    }
   ],
   "source": [
    "for p, name in zip(pipelines, models_names):\n",
    "  p.fit(X_tr, y_tr)\n",
    "  y_pred = p.predict(X_te)\n",
    "  print(\"Score ({}) : {:2.1f}\".format(\n",
    "    name,\n",
    "    p.score(X_te, y_te)\n",
    "  ))\n"
   ]
  },
  {
   "cell_type": "markdown",
   "metadata": {},
   "source": [
    "On va donc essayer d'optimiser les âramètres d'apprentissages. La liste dans laquelle on va stocker kes résultats."
   ]
  },
  {
   "cell_type": "code",
   "execution_count": 14,
   "metadata": {},
   "outputs": [],
   "source": [
    "results = dict()"
   ]
  },
  {
   "cell_type": "markdown",
   "metadata": {},
   "source": [
    "## reg lin pure "
   ]
  },
  {
   "cell_type": "code",
   "execution_count": 15,
   "metadata": {},
   "outputs": [
    {
     "data": {
      "text/plain": [
       "{'memory': None,\n",
       " 'steps': [('preprocessor',\n",
       "   ColumnTransformer(transformers=[('categorical',\n",
       "                                    Pipeline(steps=[('one_hot',\n",
       "                                                     OneHotEncoder(handle_unknown='ignore'))]),\n",
       "                                    ['lieux', 'diff', 'theme'])])),\n",
       "  ('reg', LinearRegression())],\n",
       " 'verbose': False,\n",
       " 'preprocessor': ColumnTransformer(transformers=[('categorical',\n",
       "                                  Pipeline(steps=[('one_hot',\n",
       "                                                   OneHotEncoder(handle_unknown='ignore'))]),\n",
       "                                  ['lieux', 'diff', 'theme'])]),\n",
       " 'reg': LinearRegression(),\n",
       " 'preprocessor__n_jobs': None,\n",
       " 'preprocessor__remainder': 'drop',\n",
       " 'preprocessor__sparse_threshold': 0.3,\n",
       " 'preprocessor__transformer_weights': None,\n",
       " 'preprocessor__transformers': [('categorical',\n",
       "   Pipeline(steps=[('one_hot', OneHotEncoder(handle_unknown='ignore'))]),\n",
       "   ['lieux', 'diff', 'theme'])],\n",
       " 'preprocessor__verbose': False,\n",
       " 'preprocessor__verbose_feature_names_out': True,\n",
       " 'preprocessor__categorical': Pipeline(steps=[('one_hot', OneHotEncoder(handle_unknown='ignore'))]),\n",
       " 'preprocessor__categorical__memory': None,\n",
       " 'preprocessor__categorical__steps': [('one_hot',\n",
       "   OneHotEncoder(handle_unknown='ignore'))],\n",
       " 'preprocessor__categorical__verbose': False,\n",
       " 'preprocessor__categorical__one_hot': OneHotEncoder(handle_unknown='ignore'),\n",
       " 'preprocessor__categorical__one_hot__categories': 'auto',\n",
       " 'preprocessor__categorical__one_hot__drop': None,\n",
       " 'preprocessor__categorical__one_hot__dtype': numpy.float64,\n",
       " 'preprocessor__categorical__one_hot__handle_unknown': 'ignore',\n",
       " 'preprocessor__categorical__one_hot__sparse': True,\n",
       " 'reg__copy_X': True,\n",
       " 'reg__fit_intercept': True,\n",
       " 'reg__n_jobs': None,\n",
       " 'reg__normalize': 'deprecated',\n",
       " 'reg__positive': False}"
      ]
     },
     "execution_count": 15,
     "metadata": {},
     "output_type": "execute_result"
    }
   ],
   "source": [
    "p = Pipeline(\n",
    "  steps=[\n",
    "    ('preprocessor', preprocessor),\n",
    "    ('reg', LinearRegression())\n",
    "  ]\n",
    ")\n",
    "\n",
    "p.get_params()"
   ]
  },
  {
   "cell_type": "code",
   "execution_count": 16,
   "metadata": {},
   "outputs": [
    {
     "data": {
      "text/plain": [
       "GridSearchCV(estimator=Pipeline(steps=[('preprocessor',\n",
       "                                        ColumnTransformer(transformers=[('categorical',\n",
       "                                                                         Pipeline(steps=[('one_hot',\n",
       "                                                                                          OneHotEncoder(handle_unknown='ignore'))]),\n",
       "                                                                         ['lieux',\n",
       "                                                                          'diff',\n",
       "                                                                          'theme'])])),\n",
       "                                       ('reg', LinearRegression())]),\n",
       "             param_grid={'reg__fit_intercept': [True, False]})"
      ]
     },
     "execution_count": 16,
     "metadata": {},
     "output_type": "execute_result"
    }
   ],
   "source": [
    "g = GridSearchCV(\n",
    "    p,\n",
    "    {\n",
    "        \"reg__fit_intercept\": [True, False]\n",
    "    },\n",
    "   \n",
    ")\n",
    "g.fit(X_tr, y_tr)"
   ]
  },
  {
   "cell_type": "code",
   "execution_count": 17,
   "metadata": {},
   "outputs": [],
   "source": [
    "results[\"Lineaire pure\"] = g"
   ]
  },
  {
   "cell_type": "markdown",
   "metadata": {},
   "source": [
    "## rf regressor"
   ]
  },
  {
   "cell_type": "code",
   "execution_count": 18,
   "metadata": {},
   "outputs": [
    {
     "data": {
      "text/plain": [
       "{'memory': None,\n",
       " 'steps': [('preprocessor',\n",
       "   ColumnTransformer(transformers=[('categorical',\n",
       "                                    Pipeline(steps=[('one_hot',\n",
       "                                                     OneHotEncoder(handle_unknown='ignore'))]),\n",
       "                                    ['lieux', 'diff', 'theme'])])),\n",
       "  ('Reg', RandomForestRegressor())],\n",
       " 'verbose': False,\n",
       " 'preprocessor': ColumnTransformer(transformers=[('categorical',\n",
       "                                  Pipeline(steps=[('one_hot',\n",
       "                                                   OneHotEncoder(handle_unknown='ignore'))]),\n",
       "                                  ['lieux', 'diff', 'theme'])]),\n",
       " 'Reg': RandomForestRegressor(),\n",
       " 'preprocessor__n_jobs': None,\n",
       " 'preprocessor__remainder': 'drop',\n",
       " 'preprocessor__sparse_threshold': 0.3,\n",
       " 'preprocessor__transformer_weights': None,\n",
       " 'preprocessor__transformers': [('categorical',\n",
       "   Pipeline(steps=[('one_hot', OneHotEncoder(handle_unknown='ignore'))]),\n",
       "   ['lieux', 'diff', 'theme'])],\n",
       " 'preprocessor__verbose': False,\n",
       " 'preprocessor__verbose_feature_names_out': True,\n",
       " 'preprocessor__categorical': Pipeline(steps=[('one_hot', OneHotEncoder(handle_unknown='ignore'))]),\n",
       " 'preprocessor__categorical__memory': None,\n",
       " 'preprocessor__categorical__steps': [('one_hot',\n",
       "   OneHotEncoder(handle_unknown='ignore'))],\n",
       " 'preprocessor__categorical__verbose': False,\n",
       " 'preprocessor__categorical__one_hot': OneHotEncoder(handle_unknown='ignore'),\n",
       " 'preprocessor__categorical__one_hot__categories': 'auto',\n",
       " 'preprocessor__categorical__one_hot__drop': None,\n",
       " 'preprocessor__categorical__one_hot__dtype': numpy.float64,\n",
       " 'preprocessor__categorical__one_hot__handle_unknown': 'ignore',\n",
       " 'preprocessor__categorical__one_hot__sparse': True,\n",
       " 'Reg__bootstrap': True,\n",
       " 'Reg__ccp_alpha': 0.0,\n",
       " 'Reg__criterion': 'squared_error',\n",
       " 'Reg__max_depth': None,\n",
       " 'Reg__max_features': 'auto',\n",
       " 'Reg__max_leaf_nodes': None,\n",
       " 'Reg__max_samples': None,\n",
       " 'Reg__min_impurity_decrease': 0.0,\n",
       " 'Reg__min_samples_leaf': 1,\n",
       " 'Reg__min_samples_split': 2,\n",
       " 'Reg__min_weight_fraction_leaf': 0.0,\n",
       " 'Reg__n_estimators': 100,\n",
       " 'Reg__n_jobs': None,\n",
       " 'Reg__oob_score': False,\n",
       " 'Reg__random_state': None,\n",
       " 'Reg__verbose': 0,\n",
       " 'Reg__warm_start': False}"
      ]
     },
     "execution_count": 18,
     "metadata": {},
     "output_type": "execute_result"
    }
   ],
   "source": [
    "p = Pipeline(\n",
    "    [\n",
    "        (\"preprocessor\", preprocessor),\n",
    "        (\"Reg\", RandomForestRegressor())\n",
    "    ]\n",
    ")\n",
    "p.get_params()"
   ]
  },
  {
   "cell_type": "code",
   "execution_count": 19,
   "metadata": {},
   "outputs": [
    {
     "data": {
      "text/plain": [
       "GridSearchCV(estimator=Pipeline(steps=[('preprocessor',\n",
       "                                        ColumnTransformer(transformers=[('categorical',\n",
       "                                                                         Pipeline(steps=[('one_hot',\n",
       "                                                                                          OneHotEncoder(handle_unknown='ignore'))]),\n",
       "                                                                         ['lieux',\n",
       "                                                                          'diff',\n",
       "                                                                          'theme'])])),\n",
       "                                       ('Reg', RandomForestRegressor())]),\n",
       "             n_jobs=-1, param_grid={'Reg__n_estimators': range(50, 300, 20)})"
      ]
     },
     "execution_count": 19,
     "metadata": {},
     "output_type": "execute_result"
    }
   ],
   "source": [
    "g = GridSearchCV(\n",
    "    p,\n",
    "    {\n",
    "        \"Reg__n_estimators\": range(50, 300, 20),\n",
    "    },\n",
    "    n_jobs=-1,\n",
    "   \n",
    ")\n",
    "g.fit(X_tr, y_tr)\n"
   ]
  },
  {
   "cell_type": "code",
   "execution_count": 20,
   "metadata": {},
   "outputs": [],
   "source": [
    "results[\"random forest\"] = g"
   ]
  },
  {
   "cell_type": "markdown",
   "metadata": {},
   "source": [
    "## reseau de neurone"
   ]
  },
  {
   "cell_type": "code",
   "execution_count": 21,
   "metadata": {},
   "outputs": [
    {
     "data": {
      "text/plain": [
       "{'memory': None,\n",
       " 'steps': [('preprocessor',\n",
       "   ColumnTransformer(transformers=[('categorical',\n",
       "                                    Pipeline(steps=[('one_hot',\n",
       "                                                     OneHotEncoder(handle_unknown='ignore'))]),\n",
       "                                    ['lieux', 'diff', 'theme'])])),\n",
       "  ('Reg', MLPRegressor())],\n",
       " 'verbose': False,\n",
       " 'preprocessor': ColumnTransformer(transformers=[('categorical',\n",
       "                                  Pipeline(steps=[('one_hot',\n",
       "                                                   OneHotEncoder(handle_unknown='ignore'))]),\n",
       "                                  ['lieux', 'diff', 'theme'])]),\n",
       " 'Reg': MLPRegressor(),\n",
       " 'preprocessor__n_jobs': None,\n",
       " 'preprocessor__remainder': 'drop',\n",
       " 'preprocessor__sparse_threshold': 0.3,\n",
       " 'preprocessor__transformer_weights': None,\n",
       " 'preprocessor__transformers': [('categorical',\n",
       "   Pipeline(steps=[('one_hot', OneHotEncoder(handle_unknown='ignore'))]),\n",
       "   ['lieux', 'diff', 'theme'])],\n",
       " 'preprocessor__verbose': False,\n",
       " 'preprocessor__verbose_feature_names_out': True,\n",
       " 'preprocessor__categorical': Pipeline(steps=[('one_hot', OneHotEncoder(handle_unknown='ignore'))]),\n",
       " 'preprocessor__categorical__memory': None,\n",
       " 'preprocessor__categorical__steps': [('one_hot',\n",
       "   OneHotEncoder(handle_unknown='ignore'))],\n",
       " 'preprocessor__categorical__verbose': False,\n",
       " 'preprocessor__categorical__one_hot': OneHotEncoder(handle_unknown='ignore'),\n",
       " 'preprocessor__categorical__one_hot__categories': 'auto',\n",
       " 'preprocessor__categorical__one_hot__drop': None,\n",
       " 'preprocessor__categorical__one_hot__dtype': numpy.float64,\n",
       " 'preprocessor__categorical__one_hot__handle_unknown': 'ignore',\n",
       " 'preprocessor__categorical__one_hot__sparse': True,\n",
       " 'Reg__activation': 'relu',\n",
       " 'Reg__alpha': 0.0001,\n",
       " 'Reg__batch_size': 'auto',\n",
       " 'Reg__beta_1': 0.9,\n",
       " 'Reg__beta_2': 0.999,\n",
       " 'Reg__early_stopping': False,\n",
       " 'Reg__epsilon': 1e-08,\n",
       " 'Reg__hidden_layer_sizes': (100,),\n",
       " 'Reg__learning_rate': 'constant',\n",
       " 'Reg__learning_rate_init': 0.001,\n",
       " 'Reg__max_fun': 15000,\n",
       " 'Reg__max_iter': 200,\n",
       " 'Reg__momentum': 0.9,\n",
       " 'Reg__n_iter_no_change': 10,\n",
       " 'Reg__nesterovs_momentum': True,\n",
       " 'Reg__power_t': 0.5,\n",
       " 'Reg__random_state': None,\n",
       " 'Reg__shuffle': True,\n",
       " 'Reg__solver': 'adam',\n",
       " 'Reg__tol': 0.0001,\n",
       " 'Reg__validation_fraction': 0.1,\n",
       " 'Reg__verbose': False,\n",
       " 'Reg__warm_start': False}"
      ]
     },
     "execution_count": 21,
     "metadata": {},
     "output_type": "execute_result"
    }
   ],
   "source": [
    "p = Pipeline(\n",
    "    [\n",
    "        (\"preprocessor\", preprocessor),\n",
    "        (\"Reg\", MLPRegressor())\n",
    "    ]\n",
    ")\n",
    "p.get_params()"
   ]
  },
  {
   "cell_type": "code",
   "execution_count": 22,
   "metadata": {},
   "outputs": [
    {
     "name": "stderr",
     "output_type": "stream",
     "text": [
      "C:\\Users\\arkan\\AppData\\Local\\Programs\\Python\\Python39\\lib\\site-packages\\sklearn\\neural_network\\_multilayer_perceptron.py:692: ConvergenceWarning: Stochastic Optimizer: Maximum iterations (5000) reached and the optimization hasn't converged yet.\n",
      "  warnings.warn(\n"
     ]
    },
    {
     "data": {
      "text/plain": [
       "GridSearchCV(estimator=Pipeline(steps=[('preprocessor',\n",
       "                                        ColumnTransformer(transformers=[('categorical',\n",
       "                                                                         Pipeline(steps=[('one_hot',\n",
       "                                                                                          OneHotEncoder(handle_unknown='ignore'))]),\n",
       "                                                                         ['lieux',\n",
       "                                                                          'diff',\n",
       "                                                                          'theme'])])),\n",
       "                                       ('Reg', MLPRegressor())]),\n",
       "             n_jobs=-1,\n",
       "             param_grid={'Reg__activation': ['relu', 'logistic'],\n",
       "                         'Reg__hidden_layer_sizes': [(50,), (100,), (150,),\n",
       "                                                     (200,), (250,), (300,)],\n",
       "                         'Reg__max_iter': [5000]})"
      ]
     },
     "execution_count": 22,
     "metadata": {},
     "output_type": "execute_result"
    }
   ],
   "source": [
    "g = GridSearchCV(\n",
    "    p,\n",
    "    {\n",
    "        'Reg__hidden_layer_sizes': [(50,), (100,), (150,), (200,), (250,), (300,),],\n",
    "        \"Reg__max_iter\": [5000],\n",
    "        \"Reg__activation\": [\"relu\", \"logistic\"],\n",
    "    },\n",
    "    n_jobs=-1,\n",
    ")\n",
    "g.fit(X_tr, y_tr)"
   ]
  },
  {
   "cell_type": "code",
   "execution_count": 23,
   "metadata": {},
   "outputs": [],
   "source": [
    "results[\"reseau neurone\"]=g"
   ]
  },
  {
   "cell_type": "markdown",
   "metadata": {},
   "source": [
    "## SVM"
   ]
  },
  {
   "cell_type": "code",
   "execution_count": 24,
   "metadata": {},
   "outputs": [
    {
     "data": {
      "text/plain": [
       "{'memory': None,\n",
       " 'steps': [('preprocessor',\n",
       "   ColumnTransformer(transformers=[('categorical',\n",
       "                                    Pipeline(steps=[('one_hot',\n",
       "                                                     OneHotEncoder(handle_unknown='ignore'))]),\n",
       "                                    ['lieux', 'diff', 'theme'])])),\n",
       "  ('Reg', SVR())],\n",
       " 'verbose': False,\n",
       " 'preprocessor': ColumnTransformer(transformers=[('categorical',\n",
       "                                  Pipeline(steps=[('one_hot',\n",
       "                                                   OneHotEncoder(handle_unknown='ignore'))]),\n",
       "                                  ['lieux', 'diff', 'theme'])]),\n",
       " 'Reg': SVR(),\n",
       " 'preprocessor__n_jobs': None,\n",
       " 'preprocessor__remainder': 'drop',\n",
       " 'preprocessor__sparse_threshold': 0.3,\n",
       " 'preprocessor__transformer_weights': None,\n",
       " 'preprocessor__transformers': [('categorical',\n",
       "   Pipeline(steps=[('one_hot', OneHotEncoder(handle_unknown='ignore'))]),\n",
       "   ['lieux', 'diff', 'theme'])],\n",
       " 'preprocessor__verbose': False,\n",
       " 'preprocessor__verbose_feature_names_out': True,\n",
       " 'preprocessor__categorical': Pipeline(steps=[('one_hot', OneHotEncoder(handle_unknown='ignore'))]),\n",
       " 'preprocessor__categorical__memory': None,\n",
       " 'preprocessor__categorical__steps': [('one_hot',\n",
       "   OneHotEncoder(handle_unknown='ignore'))],\n",
       " 'preprocessor__categorical__verbose': False,\n",
       " 'preprocessor__categorical__one_hot': OneHotEncoder(handle_unknown='ignore'),\n",
       " 'preprocessor__categorical__one_hot__categories': 'auto',\n",
       " 'preprocessor__categorical__one_hot__drop': None,\n",
       " 'preprocessor__categorical__one_hot__dtype': numpy.float64,\n",
       " 'preprocessor__categorical__one_hot__handle_unknown': 'ignore',\n",
       " 'preprocessor__categorical__one_hot__sparse': True,\n",
       " 'Reg__C': 1.0,\n",
       " 'Reg__cache_size': 200,\n",
       " 'Reg__coef0': 0.0,\n",
       " 'Reg__degree': 3,\n",
       " 'Reg__epsilon': 0.1,\n",
       " 'Reg__gamma': 'scale',\n",
       " 'Reg__kernel': 'rbf',\n",
       " 'Reg__max_iter': -1,\n",
       " 'Reg__shrinking': True,\n",
       " 'Reg__tol': 0.001,\n",
       " 'Reg__verbose': False}"
      ]
     },
     "execution_count": 24,
     "metadata": {},
     "output_type": "execute_result"
    }
   ],
   "source": [
    "p = Pipeline(\n",
    "    [\n",
    "        (\"preprocessor\", preprocessor),\n",
    "        (\"Reg\", SVR())\n",
    "    ]\n",
    ")\n",
    "p.get_params()"
   ]
  },
  {
   "cell_type": "code",
   "execution_count": 25,
   "metadata": {},
   "outputs": [
    {
     "data": {
      "text/plain": [
       "GridSearchCV(estimator=Pipeline(steps=[('preprocessor',\n",
       "                                        ColumnTransformer(transformers=[('categorical',\n",
       "                                                                         Pipeline(steps=[('one_hot',\n",
       "                                                                                          OneHotEncoder(handle_unknown='ignore'))]),\n",
       "                                                                         ['lieux',\n",
       "                                                                          'diff',\n",
       "                                                                          'theme'])])),\n",
       "                                       ('Reg', SVR())]),\n",
       "             n_jobs=-1,\n",
       "             param_grid={'Reg__C': [0.1, 1.0, 10.0, 100],\n",
       "                         'Reg__epsilon': [0.01, 0.1, 1.0, 10.0]})"
      ]
     },
     "execution_count": 25,
     "metadata": {},
     "output_type": "execute_result"
    }
   ],
   "source": [
    "g = GridSearchCV(\n",
    "    p,\n",
    "    {\n",
    "        \"Reg__C\": [ 0.1, 1., 10., 100,],\n",
    "        \"Reg__epsilon\": [0.01, 0.1, 1., 10.]\n",
    "    },\n",
    "    n_jobs=-1,\n",
    ")\n",
    "g.fit(X_tr, y_tr)"
   ]
  },
  {
   "cell_type": "code",
   "execution_count": 26,
   "metadata": {},
   "outputs": [],
   "source": [
    "results[\"SVR\"] = g"
   ]
  },
  {
   "cell_type": "markdown",
   "metadata": {},
   "source": [
    "## Bilan "
   ]
  },
  {
   "cell_type": "code",
   "execution_count": 27,
   "metadata": {},
   "outputs": [
    {
     "data": {
      "text/html": [
       "<pre style=\"white-space:pre;overflow-x:auto;line-height:normal;font-family:Menlo,'DejaVu Sans Mono',consolas,'Courier New',monospace\"><span style=\"font-style: italic\">                          Résumé des résultats de crossvalidation.                           </span>\n",
       "┏━━━━━━━━━━━━━━━━┳━━━━━━━━━━━━━━━━━━━━━━━━┳━━━━━━━━━━━━━━━━━━━━┳━━━━━━━━━━━━━━━━━━━━━━━━━━━━┓\n",
       "┃<span style=\"font-weight: bold\"> Nom            </span>┃<span style=\"font-weight: bold\"> Score Cross validation </span>┃<span style=\"font-weight: bold\"> Score entrainement </span>┃<span style=\"font-weight: bold\"> Choix Hyperparamètres      </span>┃\n",
       "┡━━━━━━━━━━━━━━━━╇━━━━━━━━━━━━━━━━━━━━━━━━╇━━━━━━━━━━━━━━━━━━━━╇━━━━━━━━━━━━━━━━━━━━━━━━━━━━┩\n",
       "│ Lineaire pure  │ 0.19                   │ 0.37               │ {'reg__fit_intercept':     │\n",
       "│                │                        │                    │ False}                     │\n",
       "│ random forest  │ 0.21                   │ 0.42               │ {'Reg__n_estimators': 190} │\n",
       "│ reseau neurone │ 0.25                   │ 0.34               │ {'Reg__activation':        │\n",
       "│                │                        │                    │ 'logistic',                │\n",
       "│                │                        │                    │ 'Reg__hidden_layer_sizes': │\n",
       "│                │                        │                    │ (200,), 'Reg__max_iter':   │\n",
       "│                │                        │                    │ 5000}                      │\n",
       "│ SVR            │ 0.14                   │ 0.25               │ {'Reg__C': 100,            │\n",
       "│                │                        │                    │ 'Reg__epsilon': 10.0}      │\n",
       "└────────────────┴────────────────────────┴────────────────────┴────────────────────────────┘\n",
       "</pre>\n"
      ],
      "text/plain": [
       "\u001b[3m                          Résumé des résultats de crossvalidation.                           \u001b[0m\n",
       "┏━━━━━━━━━━━━━━━━┳━━━━━━━━━━━━━━━━━━━━━━━━┳━━━━━━━━━━━━━━━━━━━━┳━━━━━━━━━━━━━━━━━━━━━━━━━━━━┓\n",
       "┃\u001b[1m \u001b[0m\u001b[1mNom           \u001b[0m\u001b[1m \u001b[0m┃\u001b[1m \u001b[0m\u001b[1mScore Cross validation\u001b[0m\u001b[1m \u001b[0m┃\u001b[1m \u001b[0m\u001b[1mScore entrainement\u001b[0m\u001b[1m \u001b[0m┃\u001b[1m \u001b[0m\u001b[1mChoix Hyperparamètres     \u001b[0m\u001b[1m \u001b[0m┃\n",
       "┡━━━━━━━━━━━━━━━━╇━━━━━━━━━━━━━━━━━━━━━━━━╇━━━━━━━━━━━━━━━━━━━━╇━━━━━━━━━━━━━━━━━━━━━━━━━━━━┩\n",
       "│ Lineaire pure  │ 0.19                   │ 0.37               │ {'reg__fit_intercept':     │\n",
       "│                │                        │                    │ False}                     │\n",
       "│ random forest  │ 0.21                   │ 0.42               │ {'Reg__n_estimators': 190} │\n",
       "│ reseau neurone │ 0.25                   │ 0.34               │ {'Reg__activation':        │\n",
       "│                │                        │                    │ 'logistic',                │\n",
       "│                │                        │                    │ 'Reg__hidden_layer_sizes': │\n",
       "│                │                        │                    │ (200,), 'Reg__max_iter':   │\n",
       "│                │                        │                    │ 5000}                      │\n",
       "│ SVR            │ 0.14                   │ 0.25               │ {'Reg__C': 100,            │\n",
       "│                │                        │                    │ 'Reg__epsilon': 10.0}      │\n",
       "└────────────────┴────────────────────────┴────────────────────┴────────────────────────────┘\n"
      ]
     },
     "metadata": {},
     "output_type": "display_data"
    }
   ],
   "source": [
    "tbl = Table(\n",
    "    title=\"Résumé des résultats de crossvalidation.\",\n",
    "    show_header=True,\n",
    ")\n",
    "tbl.add_column(\"Nom\")\n",
    "tbl.add_column(\"Score Cross validation\")\n",
    "tbl.add_column(\"Score entrainement\")\n",
    "tbl.add_column(\"Choix Hyperparamètres\")\n",
    "for nom, modele in results.items():\n",
    "    tbl.add_row(\n",
    "        nom, \n",
    "        f\"{modele.best_score_:.2f}\", \n",
    "        f\"{modele.score(X_tr, y_tr):.2f}\",\n",
    "        str(modele.best_params_),\n",
    "    )\n",
    "    \n",
    "print(tbl)"
   ]
  },
  {
   "cell_type": "markdown",
   "metadata": {},
   "source": [
    "Les résultats sont très mauvais, aucn score ne dépasse *O.5*.\n",
    "\n",
    "Plusieurs pistes : \n",
    "- Echantillon trop petit (388 séjours). Il en faudrait au minimum 1000.\n",
    "- trop de pertes d'information lors du regroupement des modalités.\n",
    "- Phase d'optimisation des paramètres très mal configurées.\n",
    "\n",
    "L'objectif était de prévoir le prix pour certains types de séjours donnés (séjours que nous voulons développer dans le cadre de notre création d'entreprise). Une fois les prix du marchés déterminés, nous aurions fait une phase d'optimisation pour savoir quel est la facturation minimum que nous aurions pu mettre en place en fonction de nos couts et des prix du marché. Nous n'avons pas développé cette phaase car le résultat de la phase d'apprentissage est trop mauvais. \n",
    "\n",
    "Il faut d'abord avoir de meilleurs résultats. Nous pourrions peut être abandonné cette troisième phase et nous contenter d'essayer d'anticiper les prix des séjours présentés sur les sites qui n'ont pas encore d'information sur leurs prix."
   ]
  },
  {
   "cell_type": "markdown",
   "metadata": {},
   "source": [
    "## Méthode à suivre\n",
    "\n",
    "- découpage échantillon en (train/test)\n",
    "- apprentissage sur échantillon entrainement pour tous les modèles\n",
    "- comparaison des modèles par cross validation sur echantillon d'entrainement (si pas de CV, découpage échantillon en 3 : train/valid/test)\n",
    "- predict sur échantillon test (garde fou). \n",
    "    - Si surapprentissage (score CV supérieur à score test), reprendre tout à zéro. Pb peut venir d'un découpage malchanceux, d'une CV malchanceuse...\n",
    "    - Si score test ok, on réentraine sur l'échantillon complet. "
   ]
  }
 ],
 "metadata": {
  "interpreter": {
   "hash": "5b6c761d8dec5970146fbbffb486e6b700cace45b168bd551b8d6380eb7f7175"
  },
  "kernelspec": {
   "display_name": "Python 3.9.7 64-bit",
   "language": "python",
   "name": "python3"
  },
  "language_info": {
   "codemirror_mode": {
    "name": "ipython",
    "version": 3
   },
   "file_extension": ".py",
   "mimetype": "text/x-python",
   "name": "python",
   "nbconvert_exporter": "python",
   "pygments_lexer": "ipython3",
   "version": "3.9.7"
  },
  "orig_nbformat": 4
 },
 "nbformat": 4,
 "nbformat_minor": 2
}
