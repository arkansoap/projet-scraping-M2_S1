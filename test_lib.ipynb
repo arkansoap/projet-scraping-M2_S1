{
 "cells": [
  {
   "cell_type": "code",
   "execution_count": 1,
   "metadata": {},
   "outputs": [],
   "source": [
    "import scrap_dec"
   ]
  },
  {
   "cell_type": "code",
   "execution_count": 2,
   "metadata": {},
   "outputs": [],
   "source": [
    "elemedecat = scrap_dec.PageElem(\n",
    "    adresse = \"https://www.decathlontravel.com/voyages/sport-rando-nature?gclid=Cj0KCQjw8eOLBhC1ARIsAOzx5cGfJP_HygFO_qlzeJG0KARJN657Ecyd7a3bGXh3OdxAGVnE14RFuREaAmPdEALw_wcB\",\n",
    "    bouton_accept = '//*[@id=\"didomi-notice-agree-button\"]',\n",
    "    bouton_affichage = '//*[@id=\"travel-search-engine-results\"]/div[3]/a'\n",
    ")"
   ]
  },
  {
   "cell_type": "code",
   "execution_count": 4,
   "metadata": {},
   "outputs": [],
   "source": [
    "elemedecat.open_site()"
   ]
  },
  {
   "cell_type": "code",
   "execution_count": 5,
   "metadata": {},
   "outputs": [
    {
     "name": "stdout",
     "output_type": "stream",
     "text": [
      "Element is not clickable\n",
      "Element is not clickable\n",
      "Element is not clickable\n",
      "Element is not clickable\n",
      "Element is not clickable\n",
      "Element is not clickable\n",
      "Element is not clickable\n",
      "Element is not clickable\n",
      "Element is not clickable\n",
      "Element is not clickable\n",
      "Element is not clickable\n",
      "Element is not clickable\n",
      "Element is not clickable\n",
      "Element is not clickable\n",
      "Element is not clickable\n",
      "Element is not clickable\n",
      "Element is not clickable\n",
      "Element is not clickable\n",
      "Element is not clickable\n",
      "Element is not clickable\n",
      "Element is not clickable\n",
      "Element is not clickable\n"
     ]
    }
   ],
   "source": [
    "elemedecat.affichage_all_item()"
   ]
  }
 ],
 "metadata": {
  "interpreter": {
   "hash": "5b6c761d8dec5970146fbbffb486e6b700cace45b168bd551b8d6380eb7f7175"
  },
  "kernelspec": {
   "display_name": "Python 3.9.7 64-bit",
   "language": "python",
   "name": "python3"
  },
  "language_info": {
   "codemirror_mode": {
    "name": "ipython",
    "version": 3
   },
   "file_extension": ".py",
   "mimetype": "text/x-python",
   "name": "python",
   "nbconvert_exporter": "python",
   "pygments_lexer": "ipython3",
   "version": "3.9.7"
  },
  "orig_nbformat": 4
 },
 "nbformat": 4,
 "nbformat_minor": 2
}
