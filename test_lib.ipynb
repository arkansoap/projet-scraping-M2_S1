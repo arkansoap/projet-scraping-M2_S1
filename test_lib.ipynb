{
 "cells": [
  {
   "cell_type": "markdown",
   "metadata": {},
   "source": [
    "# Présentation de la librairie"
   ]
  },
  {
   "cell_type": "code",
   "execution_count": null,
   "metadata": {},
   "outputs": [],
   "source": [
    "import scrap_main"
   ]
  },
  {
   "cell_type": "code",
   "execution_count": null,
   "metadata": {},
   "outputs": [],
   "source": [
    "help(scrap_main)"
   ]
  },
  {
   "cell_type": "code",
   "execution_count": null,
   "metadata": {},
   "outputs": [],
   "source": [
    "elemedecat = scrap_main.PageElem(\n",
    "    nom_site= \"Decathlon\",\n",
    "    adresse = \"https://www.decathlontravel.com/voyages/sport-rando-nature\",\n",
    "    bouton_accept = '//*[@id=\"didomi-notice-agree-button\"]',\n",
    "    bouton_affichage = '//*[@id=\"travel-search-engine-results\"]/div[3]/a'\n",
    ")"
   ]
  },
  {
   "cell_type": "code",
   "execution_count": null,
   "metadata": {},
   "outputs": [],
   "source": [
    "print(elemedecat)"
   ]
  },
  {
   "cell_type": "code",
   "execution_count": null,
   "metadata": {},
   "outputs": [],
   "source": [
    "elemedecat.open_site()"
   ]
  },
  {
   "cell_type": "code",
   "execution_count": null,
   "metadata": {},
   "outputs": [],
   "source": [
    "elemedecat.affichage_all_item()"
   ]
  },
  {
   "cell_type": "code",
   "execution_count": null,
   "metadata": {},
   "outputs": [],
   "source": [
    "cellsdecat = elemedecat.recup_cellule()"
   ]
  },
  {
   "cell_type": "code",
   "execution_count": null,
   "metadata": {},
   "outputs": [],
   "source": [
    "cellsdecat"
   ]
  },
  {
   "cell_type": "code",
   "execution_count": null,
   "metadata": {},
   "outputs": [],
   "source": [
    "type(cellsdecat)"
   ]
  },
  {
   "cell_type": "code",
   "execution_count": null,
   "metadata": {},
   "outputs": [],
   "source": [
    "len(cellsdecat)"
   ]
  },
  {
   "cell_type": "code",
   "execution_count": null,
   "metadata": {},
   "outputs": [],
   "source": [
    "cell_elem_decat = scrap_main.CellElem(\n",
    "    re_desc=\"title(.*?)>\",\n",
    "    re_diff=\"Niveau.*value..(.*)..span\",\n",
    "    re_duree=\"value.*\\\".(.*)jours.*span\",\n",
    "    re_lieu=\"destination(.*?)h2\",\n",
    "    re_prix=\"minprice.*strong.(.*)....strong\",\n",
    "    re_theme=\"theme.*tooltip..(.*?)\\\"\"\n",
    "    )"
   ]
  },
  {
   "cell_type": "code",
   "execution_count": null,
   "metadata": {},
   "outputs": [],
   "source": [
    "cellsdecat"
   ]
  },
  {
   "cell_type": "code",
   "execution_count": null,
   "metadata": {},
   "outputs": [],
   "source": [
    "callable(elemedecat)"
   ]
  },
  {
   "cell_type": "code",
   "execution_count": null,
   "metadata": {},
   "outputs": [],
   "source": [
    "callable(cell_elem_decat)"
   ]
  },
  {
   "cell_type": "code",
   "execution_count": null,
   "metadata": {},
   "outputs": [],
   "source": [
    "resultats = cell_elem_decat.catch_info(elemedecat)"
   ]
  },
  {
   "cell_type": "code",
   "execution_count": null,
   "metadata": {},
   "outputs": [],
   "source": [
    "len(resultats)"
   ]
  },
  {
   "cell_type": "code",
   "execution_count": null,
   "metadata": {},
   "outputs": [],
   "source": [
    "resultats"
   ]
  },
  {
   "cell_type": "code",
   "execution_count": null,
   "metadata": {},
   "outputs": [],
   "source": [
    "cell_elem_decat.save_sejours_to_Json(elemedecat)"
   ]
  },
  {
   "cell_type": "markdown",
   "metadata": {},
   "source": [
    "## Script resumé"
   ]
  },
  {
   "cell_type": "code",
   "execution_count": null,
   "metadata": {},
   "outputs": [],
   "source": [
    "import scrap_main"
   ]
  },
  {
   "cell_type": "code",
   "execution_count": null,
   "metadata": {},
   "outputs": [],
   "source": [
    "elemedecat = scrap_main.PageElem(\n",
    "    nom_site= \"decathlon\",\n",
    "    adresse = \"https://www.decathlontravel.com/voyages/sport-rando-nature?gclid=Cj0KCQjw8eOLBhC1ARIsAOzx5cGfJP_HygFO_qlzeJG0KARJN657Ecyd7a3bGXh3OdxAGVnE14RFuREaAmPdEALw_wcB\",\n",
    "    bouton_accept = '//*[@id=\"didomi-notice-agree-button\"]',\n",
    "    bouton_affichage = '//*[@id=\"travel-search-engine-results\"]/div[3]/a'\n",
    ")"
   ]
  },
  {
   "cell_type": "code",
   "execution_count": null,
   "metadata": {},
   "outputs": [],
   "source": [
    "cell_elem_decat = scrap_main.CellElem(\n",
    "    re_desc=\"title(.*?)>\",\n",
    "    re_diff=\"Niveau.*value..(.*)..span\",\n",
    "    re_duree=\"value.*\\\".(.*)jours.*span\",\n",
    "    re_lieu=\"destination(.*?)h2\",\n",
    "    re_prix=\"minprice.*strong.(.*)....strong\",\n",
    "    re_theme=\"theme.*tooltip..(.*?)\\\"\"\n",
    "    )"
   ]
  },
  {
   "cell_type": "code",
   "execution_count": null,
   "metadata": {},
   "outputs": [],
   "source": [
    "scrap_main.scraping(pageElem=elemedecat, cellsElem=cell_elem_decat)"
   ]
  },
  {
   "cell_type": "markdown",
   "metadata": {},
   "source": [
    "## Module build dataframe"
   ]
  },
  {
   "cell_type": "code",
   "execution_count": 1,
   "metadata": {},
   "outputs": [],
   "source": [
    "import makedf"
   ]
  },
  {
   "cell_type": "code",
   "execution_count": 2,
   "metadata": {},
   "outputs": [],
   "source": [
    "sejour_tot = makedf.assemblage_liste_sejour()"
   ]
  },
  {
   "cell_type": "code",
   "execution_count": 3,
   "metadata": {},
   "outputs": [
    {
     "data": {
      "text/plain": [
       "423"
      ]
     },
     "execution_count": 3,
     "metadata": {},
     "output_type": "execute_result"
    }
   ],
   "source": [
    "len(sejour_tot)"
   ]
  },
  {
   "cell_type": "code",
   "execution_count": 5,
   "metadata": {},
   "outputs": [],
   "source": [
    "df = makedf.Df()"
   ]
  },
  {
   "cell_type": "code",
   "execution_count": 6,
   "metadata": {},
   "outputs": [],
   "source": [
    "df.make_lower()"
   ]
  },
  {
   "cell_type": "code",
   "execution_count": 10,
   "metadata": {},
   "outputs": [
    {
     "data": {
      "text/html": [
       "<div>\n",
       "<style scoped>\n",
       "    .dataframe tbody tr th:only-of-type {\n",
       "        vertical-align: middle;\n",
       "    }\n",
       "\n",
       "    .dataframe tbody tr th {\n",
       "        vertical-align: top;\n",
       "    }\n",
       "\n",
       "    .dataframe thead th {\n",
       "        text-align: right;\n",
       "    }\n",
       "</style>\n",
       "<table border=\"1\" class=\"dataframe\">\n",
       "  <thead>\n",
       "    <tr style=\"text-align: right;\">\n",
       "      <th></th>\n",
       "      <th>description</th>\n",
       "      <th>prix</th>\n",
       "      <th>lieux</th>\n",
       "      <th>duree</th>\n",
       "      <th>diff</th>\n",
       "      <th>theme</th>\n",
       "    </tr>\n",
       "  </thead>\n",
       "  <tbody>\n",
       "    <tr>\n",
       "      <th>0</th>\n",
       "      <td>marcheurs dans le désert de nesrate, maroc</td>\n",
       "      <td>290</td>\n",
       "      <td>maroc/désert</td>\n",
       "      <td>4</td>\n",
       "      <td>Découverte</td>\n",
       "      <td>rando nature</td>\n",
       "    </tr>\n",
       "    <tr>\n",
       "      <th>1</th>\n",
       "      <td>randonnée sur la plage, côte atlantique</td>\n",
       "      <td>320</td>\n",
       "      <td>maroc/côteatlantique</td>\n",
       "      <td>5</td>\n",
       "      <td>Découverte</td>\n",
       "      <td>rando nature</td>\n",
       "    </tr>\n",
       "    <tr>\n",
       "      <th>2</th>\n",
       "      <td>sugiton</td>\n",
       "      <td>400</td>\n",
       "      <td>provence</td>\n",
       "      <td>7</td>\n",
       "      <td>Initié</td>\n",
       "      <td>rando nature</td>\n",
       "    </tr>\n",
       "    <tr>\n",
       "      <th>3</th>\n",
       "      <td></td>\n",
       "      <td>450</td>\n",
       "      <td>madère/portugal</td>\n",
       "      <td>8</td>\n",
       "      <td>Découverte</td>\n",
       "      <td>rando nature</td>\n",
       "    </tr>\n",
       "    <tr>\n",
       "      <th>4</th>\n",
       "      <td>ile de serifos, dans les cyclades en grèce</td>\n",
       "      <td>580</td>\n",
       "      <td>grèce/lescyclades</td>\n",
       "      <td>8</td>\n",
       "      <td>Découverte</td>\n",
       "      <td>rando nature</td>\n",
       "    </tr>\n",
       "    <tr>\n",
       "      <th>...</th>\n",
       "      <td>...</td>\n",
       "      <td>...</td>\n",
       "      <td>...</td>\n",
       "      <td>...</td>\n",
       "      <td>...</td>\n",
       "      <td>...</td>\n",
       "    </tr>\n",
       "    <tr>\n",
       "      <th>418</th>\n",
       "      <td>micro-aventures dans le vercors</td>\n",
       "      <td>0</td>\n",
       "      <td>alpes du nord</td>\n",
       "      <td>4</td>\n",
       "      <td>niveau 2</td>\n",
       "      <td>randonnée</td>\n",
       "    </tr>\n",
       "    <tr>\n",
       "      <th>419</th>\n",
       "      <td>le canal de bourgogne &amp;#224; v&amp;#233;lo</td>\n",
       "      <td>0</td>\n",
       "      <td>massif central</td>\n",
       "      <td>8</td>\n",
       "      <td>niveau 1</td>\n",
       "      <td>vélo</td>\n",
       "    </tr>\n",
       "    <tr>\n",
       "      <th>420</th>\n",
       "      <td>far west breto</td>\n",
       "      <td>0</td>\n",
       "      <td>bretagne - normandie</td>\n",
       "      <td>7</td>\n",
       "      <td>niveau 2</td>\n",
       "      <td>randonnée</td>\n",
       "    </tr>\n",
       "    <tr>\n",
       "      <th>421</th>\n",
       "      <td>le queyras au pas de l’&amp;#226;ne</td>\n",
       "      <td>0</td>\n",
       "      <td>alpes du sud</td>\n",
       "      <td>5</td>\n",
       "      <td>niveau 1</td>\n",
       "      <td>randonnée avec âne</td>\n",
       "    </tr>\n",
       "    <tr>\n",
       "      <th>422</th>\n",
       "      <td>road trip dans les alpes du sud</td>\n",
       "      <td>0</td>\n",
       "      <td>alpes du sud</td>\n",
       "      <td>7</td>\n",
       "      <td>niveau 1</td>\n",
       "      <td>autotour</td>\n",
       "    </tr>\n",
       "  </tbody>\n",
       "</table>\n",
       "<p>423 rows × 6 columns</p>\n",
       "</div>"
      ],
      "text/plain": [
       "                                    description  prix                 lieux  \\\n",
       "0    marcheurs dans le désert de nesrate, maroc   290          maroc/désert   \n",
       "1       randonnée sur la plage, côte atlantique   320  maroc/côteatlantique   \n",
       "2                                       sugiton   400              provence   \n",
       "3                                                 450       madère/portugal   \n",
       "4    ile de serifos, dans les cyclades en grèce   580     grèce/lescyclades   \n",
       "..                                          ...   ...                   ...   \n",
       "418             micro-aventures dans le vercors     0         alpes du nord   \n",
       "419      le canal de bourgogne &#224; v&#233;lo     0        massif central   \n",
       "420                              far west breto     0  bretagne - normandie   \n",
       "421             le queyras au pas de l’&#226;ne     0          alpes du sud   \n",
       "422             road trip dans les alpes du sud     0          alpes du sud   \n",
       "\n",
       "     duree        diff               theme  \n",
       "0        4  Découverte        rando nature  \n",
       "1        5  Découverte        rando nature  \n",
       "2        7      Initié        rando nature  \n",
       "3        8  Découverte        rando nature  \n",
       "4        8  Découverte        rando nature  \n",
       "..     ...         ...                 ...  \n",
       "418      4    niveau 2           randonnée  \n",
       "419      8    niveau 1                vélo  \n",
       "420      7    niveau 2           randonnée  \n",
       "421      5    niveau 1  randonnée avec âne  \n",
       "422      7    niveau 1            autotour  \n",
       "\n",
       "[423 rows x 6 columns]"
      ]
     },
     "execution_count": 10,
     "metadata": {},
     "output_type": "execute_result"
    }
   ],
   "source": [
    "df.df"
   ]
  }
 ],
 "metadata": {
  "interpreter": {
   "hash": "5b6c761d8dec5970146fbbffb486e6b700cace45b168bd551b8d6380eb7f7175"
  },
  "kernelspec": {
   "display_name": "Python 3.9.7 64-bit",
   "language": "python",
   "name": "python3"
  },
  "language_info": {
   "codemirror_mode": {
    "name": "ipython",
    "version": 3
   },
   "file_extension": ".py",
   "mimetype": "text/x-python",
   "name": "python",
   "nbconvert_exporter": "python",
   "pygments_lexer": "ipython3",
   "version": "3.9.7"
  },
  "orig_nbformat": 4
 },
 "nbformat": 4,
 "nbformat_minor": 2
}
