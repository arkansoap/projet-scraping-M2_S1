{
 "cells": [
  {
   "cell_type": "markdown",
   "metadata": {},
   "source": [
    "# Présentation de la librairie"
   ]
  },
  {
   "cell_type": "code",
   "execution_count": null,
   "metadata": {},
   "outputs": [],
   "source": [
    "import scrap_main"
   ]
  },
  {
   "cell_type": "code",
   "execution_count": null,
   "metadata": {},
   "outputs": [],
   "source": [
    "help(scrap_main)"
   ]
  },
  {
   "cell_type": "code",
   "execution_count": null,
   "metadata": {},
   "outputs": [],
   "source": [
    "elemeexplora = scrap_main.PageElem(\n",
    "    nom_site= \"Explora1\",\n",
    "    adresse = \"https://www.explora-project.com/expeditions?\",\n",
    "    bouton_accept = '//*[@id=\"axeptio_btn_dismiss\"]',\n",
    "    bouton_affichage = '//*[@id=\"hits\"]/button'\n",
    ")"
   ]
  },
  {
   "cell_type": "code",
   "execution_count": null,
   "metadata": {},
   "outputs": [],
   "source": [
    "print(elemeexplora)"
   ]
  },
  {
   "cell_type": "code",
   "execution_count": null,
   "metadata": {},
   "outputs": [],
   "source": [
    "elemeexplora.open_site()"
   ]
  },
  {
   "cell_type": "code",
   "execution_count": null,
   "metadata": {},
   "outputs": [],
   "source": [
    "elemeexplora.affichage_all_item()"
   ]
  },
  {
   "cell_type": "code",
   "execution_count": null,
   "metadata": {},
   "outputs": [],
   "source": [
    "cellsexplora = elemeexplora.recup_cellule()"
   ]
  },
  {
   "cell_type": "code",
   "execution_count": null,
   "metadata": {},
   "outputs": [],
   "source": [
    "cellsexplora"
   ]
  },
  {
   "cell_type": "code",
   "execution_count": null,
   "metadata": {},
   "outputs": [],
   "source": [
    "len(cellsexplora)"
   ]
  },
  {
   "cell_type": "code",
   "execution_count": null,
   "metadata": {},
   "outputs": [],
   "source": [
    "cell_elem_explora = scrap_main.CellElem(\n",
    "    re_desc='\"heading-suggestion-padding-white\">(.*?)</h3>',\n",
    "    re_diff=\"Niveau(.*?)</div>\",\n",
    "    re_duree='calendar.png\".*?6px;\"/>(.*?)jours',\n",
    "    re_lieu='hide\\-on\\-mobile\\\">(.*?)\\-',\n",
    "    re_prix='jrs.-(.*?)...span',\n",
    "    re_theme= None\n",
    "    )"
   ]
  },
  {
   "cell_type": "code",
   "execution_count": null,
   "metadata": {},
   "outputs": [],
   "source": [
    "import re \n",
    "texte = str(cellsexplora[9])\n",
    "motif = re.compile('hide.on.mobile..(.*?)..span')\n",
    "motif.findall(texte)"
   ]
  },
  {
   "cell_type": "code",
   "execution_count": null,
   "metadata": {},
   "outputs": [],
   "source": [
    "resultats = cell_elem_explora.catch_info(elemeexplora)"
   ]
  },
  {
   "cell_type": "code",
   "execution_count": null,
   "metadata": {},
   "outputs": [],
   "source": [
    "len(resultats)"
   ]
  },
  {
   "cell_type": "code",
   "execution_count": null,
   "metadata": {},
   "outputs": [],
   "source": [
    "resultats"
   ]
  },
  {
   "cell_type": "code",
   "execution_count": null,
   "metadata": {},
   "outputs": [],
   "source": [
    "cell_elem_explora.save_sejours_to_Json(elemeexplora)"
   ]
  },
  {
   "cell_type": "markdown",
   "metadata": {},
   "source": [
    "## Script resumé"
   ]
  },
  {
   "cell_type": "code",
   "execution_count": 2,
   "metadata": {},
   "outputs": [],
   "source": [
    "import scrap_main"
   ]
  },
  {
   "cell_type": "markdown",
   "metadata": {},
   "source": [
    "1. Xpath et RE pour Decathlon"
   ]
  },
  {
   "cell_type": "code",
   "execution_count": null,
   "metadata": {},
   "outputs": [],
   "source": [
    "elemedecat = scrap_main.PageElem(\n",
    "    nom_site= \"Decathlon\",\n",
    "    adresse = \"https://www.decathlontravel.com/voyages/sport-rando-nature\",\n",
    "    bouton_accept = '//*[@id=\"didomi-notice-agree-button\"]',\n",
    "    bouton_affichage = '//*[@id=\"travel-search-engine-results\"]/div[3]/a'\n",
    ")"
   ]
  },
  {
   "cell_type": "code",
   "execution_count": null,
   "metadata": {},
   "outputs": [],
   "source": [
    "cell_elem_decat = scrap_main.CellElem(\n",
    "    re_desc='heading.*?target=\"_blank\">(.*?)</a>',\n",
    "    re_diff=\"Niveau.*value..(.*)..span\",\n",
    "    re_duree=\"value.*\\\".(.*)jours.*span\",\n",
    "    re_lieu='destination\">(.*?)</div>',\n",
    "    re_prix=\"minprice.*strong.(.*)....strong\",\n",
    "    re_theme=\"theme.*tooltip..(.*?)\\\"\"\n",
    "    )"
   ]
  },
  {
   "cell_type": "code",
   "execution_count": null,
   "metadata": {},
   "outputs": [],
   "source": [
    "scrap_main.scraping(pageElem=elemedecat, cellsElem=cell_elem_decat)"
   ]
  },
  {
   "cell_type": "markdown",
   "metadata": {},
   "source": [
    "2. Xpath et RE pour Explora"
   ]
  },
  {
   "cell_type": "code",
   "execution_count": null,
   "metadata": {},
   "outputs": [],
   "source": [
    "elemeexplora = scrap_main.PageElem(\n",
    "    nom_site= \"Explora1\",\n",
    "    adresse = \"https://www.explora-project.com/expeditions?\",\n",
    "    bouton_accept = '//*[@id=\"axeptio_btn_dismiss\"]',\n",
    "    bouton_affichage = '//*[@id=\"blockResultats\"]/a'\n",
    ")"
   ]
  },
  {
   "cell_type": "code",
   "execution_count": null,
   "metadata": {},
   "outputs": [],
   "source": [
    "cell_elem_explora = scrap_main.CellElem(\n",
    "    re_desc='\"heading-suggestion-padding-white\">(.*?)</h3>',\n",
    "    re_diff=\"Niveau(.*?)</div>\",\n",
    "    re_duree='calendar.png\".*?6px;\"/>(.*?)jours',\n",
    "    re_lieu='hide\\-on\\-mobile\\\">(.*?)\\-',\n",
    "    re_prix='jrs.-(.*?)...span',\n",
    "    re_theme= None\n",
    "    )"
   ]
  },
  {
   "cell_type": "code",
   "execution_count": null,
   "metadata": {},
   "outputs": [],
   "source": [
    "# nécessité de cliquer à la main donc les fonctions doive,nt être faites une à une "
   ]
  },
  {
   "cell_type": "markdown",
   "metadata": {},
   "source": [
    "3. XPATH et RE pour terre d'avenir"
   ]
  },
  {
   "cell_type": "code",
   "execution_count": 8,
   "metadata": {},
   "outputs": [],
   "source": [
    "elemeterdav = scrap_main.PageElem(\n",
    "    nom_site= \"Terdav1\",\n",
    "    adresse = \"https://www.terdav.com/ps-france/tp-voyage-famille#nos-voyages\",\n",
    "    bouton_accept = '//*[@id=\"axeptio_btn_acceptAll\"]',\n",
    "    bouton_affichage = '//*[@id=\"blockResultats\"]/a'\n",
    ")"
   ]
  },
  {
   "cell_type": "code",
   "execution_count": 24,
   "metadata": {},
   "outputs": [],
   "source": [
    "cell_elem_terdav = scrap_main.CellElem(\n",
    "    re_desc='name.*?:(.*?),',\n",
    "    re_diff='dimension8.*?:(.*?),',\n",
    "    re_duree=\"dimension7.*?:.*?'(.*?)Jours\",\n",
    "    re_lieu='dimension6.*?(.*?),',\n",
    "    re_prix='price.*?:(.*?),',\n",
    "    re_theme= 'dimension12.*?:(.*)'\n",
    "    )"
   ]
  },
  {
   "cell_type": "code",
   "execution_count": 6,
   "metadata": {},
   "outputs": [],
   "source": [
    "elemeterdav.open_site()"
   ]
  },
  {
   "cell_type": "code",
   "execution_count": 9,
   "metadata": {},
   "outputs": [],
   "source": [
    "elemeterdav.affichage_all_item()"
   ]
  },
  {
   "cell_type": "code",
   "execution_count": 12,
   "metadata": {},
   "outputs": [
    {
     "data": {
      "text/plain": [
       "62"
      ]
     },
     "execution_count": 12,
     "metadata": {},
     "output_type": "execute_result"
    }
   ],
   "source": [
    "cellsterdav = elemeterdav.recup_cellule()\n",
    "len(cellsterdav)"
   ]
  },
  {
   "cell_type": "code",
   "execution_count": 25,
   "metadata": {},
   "outputs": [
    {
     "data": {
      "text/plain": [
       "[Sejour(description='   \"calanques et sensations proven&#231;ales\"', prix=840, lieux='\\':\"provence-côted\\'azur\"', duree=6, diff=\"   'niveau 2'\", theme='   \"multi-activités\" \\t}; \\tarrayListInfoCircuits.push(data); \\t</script> </article>'),\n",
       " Sejour(description='   \"le golfe du morbihan en famille \"', prix=880, lieux='\\':\"bretagne-normandie\"', duree=6, diff=\"   'niveau 1'\", theme='   \"randonnée\" \\t}; \\tarrayListInfoCircuits.push(data); \\t</script> </article>'),\n",
       " Sejour(description='   \"plaisirs neige &#224; sixt-fer-&#224;-cheval\"', prix=690, lieux='\\':\"alpesdunord\"', duree=8, diff=\"   'niveau 2'\", theme='   \"multi-activités\" \\t}; \\tarrayListInfoCircuits.push(data); \\t</script> </article>'),\n",
       " Sejour(description='   \"aventures hivernales sur le plateau de l&#39;aubrac\"', prix=720, lieux='\\':\"massifcentral\"', duree=6, diff=\"   'niveau 1'\", theme='   \"multi-activités\" \\t}; \\tarrayListInfoCircuits.push(data); \\t</script> </article>'),\n",
       " Sejour(description='   \"la presqu&#39;&#238;le de crozon en famille\"', prix=1040, lieux='\\':\"bretagne-normandie\"', duree=6, diff=\"   'niveau 1'\", theme='   \"randonnée\" \\t}; \\tarrayListInfoCircuits.push(data); \\t</script> </article>'),\n",
       " Sejour(description='   \"neige et soleil du queyras en famille\"', prix=730, lieux='\\':\"alpesdusud\"', duree=7, diff=\"   'niveau 1'\", theme='   \"multi-activités\" \\t}; \\tarrayListInfoCircuits.push(data); \\t</script> </article>'),\n",
       " Sejour(description='   \"plaisirs neige dans les aravis\"', prix=830, lieux='\\':\"alpesdunord\"', duree=7, diff=\"   'niveau 1'\", theme='   \"multi-activités\" \\t}; \\tarrayListInfoCircuits.push(data); \\t</script> </article>'),\n",
       " Sejour(description='   \"haute clar&#233;e &quot;espace trappeur&quot;\"', prix=860, lieux='\\':\"alpesdusud\"', duree=7, diff=\"   'niveau 1'\", theme='   \"multi-activités\" \\t}; \\tarrayListInfoCircuits.push(data); \\t</script> </article>'),\n",
       " Sejour(description='   \"vall&#233;e de la roya', prix=670, lieux='\\':\"alpesdusud\"', duree=7, diff=\"   'niveau 2'\", theme='   \"canyoning\" \\t}; \\tarrayListInfoCircuits.push(data); \\t</script> </article>'),\n",
       " Sejour(description='   \"davy crockett en haute bl&#233;one\"', prix=730, lieux='\\':\"alpesdusud\"', duree=6, diff=\"   'niveau 1'\", theme='   \"multi-activités\" \\t}; \\tarrayListInfoCircuits.push(data); \\t</script> </article>'),\n",
       " Sejour(description='   \"aventures canyon en sierra de guara\"', prix=890, lieux='\\':\"pyrénées\"', duree=7, diff=\"   'niveau 1'\", theme='   \"canyoning\" \\t}; \\tarrayListInfoCircuits.push(data); \\t</script> </article>'),\n",
       " Sejour(description='   \"eau', prix=760, lieux='\\':\"massifcentral\"', duree=7, diff=\"   'niveau 1'\", theme='   \"multi-activités\" \\t}; \\tarrayListInfoCircuits.push(data); \\t</script> </article>'),\n",
       " Sejour(description='   \"c&#233;vennes et gorges du tarn en famille\"', prix=890, lieux='\\':\"massifcentral\"', duree=7, diff=\"   'niveau 2'\", theme='   \"multi-activités\" \\t}; \\tarrayListInfoCircuits.push(data); \\t</script> </article>'),\n",
       " Sejour(description='   \"les pyr&#233;n&#233;es grandeur nature\"', prix=890, lieux='\\':\"pyrénées\"', duree=7, diff=\"   'niveau 2'\", theme='   \"randonnée\" \\t}; \\tarrayListInfoCircuits.push(data); \\t</script> </article>'),\n",
       " Sejour(description='   \"sports et nature en alta rocca\"', prix=960, lieux='\\':\"corse\"', duree=7, diff=\"   'niveau 3'\", theme='   \"multi-activités\" \\t}; \\tarrayListInfoCircuits.push(data); \\t</script> </article>'),\n",
       " Sejour(description='   \"queyras et pi&#233;monts', prix=740, lieux='\\':\"alpesdusud\"', duree=7, diff=\"   'niveau 2'\", theme='   \"randonnée avec âne\" \\t}; \\tarrayListInfoCircuits.push(data); \\t</script> </article>'),\n",
       " Sejour(description='   \"des villages secrets au golfe de porto\"', prix=970, lieux='\\':\"corse\"', duree=6, diff=\"   'niveau 1'\", theme='   \"randonnée\" \\t}; \\tarrayListInfoCircuits.push(data); \\t</script> </article>'),\n",
       " Sejour(description='   \"s&#233;jour trappeur dans les pyr&#233;n&#233;es\"', prix=790, lieux='\\':\"pyrénées\"', duree=7, diff=\"   'niveau 1'\", theme='   \"raquette\" \\t}; \\tarrayListInfoCircuits.push(data); \\t</script> </article>'),\n",
       " Sejour(description='   \"itin&#233;rance en ari&#232;ge avec des &#226;nes\"', prix=690, lieux='\\':\"pyrénées\"', duree=6, diff=\"   'niveau 1'\", theme='   \"randonnée\" \\t}; \\tarrayListInfoCircuits.push(data); \\t</script> </article>'),\n",
       " Sejour(description='   \"l&#39;appel de la for&#234;t en hautes pyr&#233;n&#233;es\"', prix=790, lieux='\\':\"pyrénées\"', duree=6, diff=\"   'niveau 1'\", theme='   \"randonnée avec âne\" \\t}; \\tarrayListInfoCircuits.push(data); \\t</script> </article>'),\n",
       " Sejour(description='   \"aventures au cœur du caroux\"', prix=930, lieux='\\':\"massifcentral\"', duree=7, diff=\"   'niveau 1'\", theme='   \"multi-activités\" \\t}; \\tarrayListInfoCircuits.push(data); \\t</script> </article>'),\n",
       " Sejour(description='   \"de la montagne &#224; la mer en famille\"', prix=990, lieux='\\':\"pyrénées\"', duree=7, diff=\"   'niveau 2'\", theme='   \"multi-activités\" \\t}; \\tarrayListInfoCircuits.push(data); \\t</script> </article>'),\n",
       " Sejour(description='   \"petits aventuriers des volcans d&#39;auvergne\"', prix=750, lieux='\\':\"massifcentral\"', duree=6, diff=\"   'niveau 1'\", theme='   \"découverte\" \\t}; \\tarrayListInfoCircuits.push(data); \\t</script> </article>'),\n",
       " Sejour(description='   \"plaisirs outdoor au cœur du caroux\"', prix=860, lieux='\\':\"massifcentral\"', duree=7, diff=\"   'niveau 2'\", theme='   \"multi-activités\" \\t}; \\tarrayListInfoCircuits.push(data); \\t</script> </article>'),\n",
       " Sejour(description='   \"aventures et nature en ard&#232;che\"', prix=920, lieux='\\':\"massifcentral\"', duree=7, diff=\"   'niveau 2'\", theme='   \"multi-activités\" \\t}; \\tarrayListInfoCircuits.push(data); \\t</script> </article>'),\n",
       " Sejour(description='   \"ch&#226;teaux de sable et maquis corse\"', prix=1090, lieux='\\':\"corse\"', duree=6, diff=\"   'niveau 1'\", theme='   \"randonnée\" \\t}; \\tarrayListInfoCircuits.push(data); \\t</script> </article>'),\n",
       " Sejour(description='   \"escapade royale au pays des ch&#226;teaux en famille\"', prix=325, lieux='\\':\"valléedelaloire\"', duree=4, diff=\"   'niveau 1'\", theme='   \"vélo\" \\t}; \\tarrayListInfoCircuits.push(data); \\t</script> </article>'),\n",
       " Sejour(description='   \"balades avec un &#226;ne au pied du vercors\"', prix=340, lieux='\\':\"alpesdunord\"', duree=4, diff=\"   'niveau 2'\", theme='   \"randonnée avec âne\" \\t}; \\tarrayListInfoCircuits.push(data); \\t</script> </article>'),\n",
       " Sejour(description='   \"les pyr&#233;n&#233;es cathares avec un &#226;ne\"', prix=440, lieux='\\':\"pyrénées\"', duree=5, diff=\"   'niveau 2'\", theme='   \"randonnée avec âne\" \\t}; \\tarrayListInfoCircuits.push(data); \\t</script> </article>'),\n",
       " Sejour(description='   \"les calanques et la provence en famille\"', prix=510, lieux='\\':\"provence-côted\\'azur\"', duree=6, diff=\"   'niveau 2'\", theme='   \"multi-activités\" \\t}; \\tarrayListInfoCircuits.push(data); \\t</script> </article>'),\n",
       " Sejour(description='   \"le queyras au pas de l’&#226;ne\"', prix=530, lieux='\\':\"alpesdusud\"', duree=5, diff=\"   'niveau 1'\", theme='   \"randonnée avec âne\" \\t}; \\tarrayListInfoCircuits.push(data); \\t</script> </article>'),\n",
       " Sejour(description='   \"la cha&#238;ne des puys avec un &#226;ne\"', prix=540, lieux='\\':\"massifcentral\"', duree=4, diff=\"   'niveau 2'\", theme='   \"randonnée avec âne\" \\t}; \\tarrayListInfoCircuits.push(data); \\t</script> </article>'),\n",
       " Sejour(description='   \"d&#233;couverte de la baie de somme en famille\"', prix=570, lieux='\\':\"bretagne-normandie\"', duree=5, diff=\"   'niveau 1'\", theme='   \"vélo\" \\t}; \\tarrayListInfoCircuits.push(data); \\t</script> </article>'),\n",
       " Sejour(description='   \"multi-activit&#233;s dans le parc du haut languedoc\"', prix=570, lieux='\\':\"massifcentral\"', duree=7, diff=\"   'niveau 2'\", theme='   \"multi-activités\" \\t}; \\tarrayListInfoCircuits.push(data); \\t</script> </article>'),\n",
       " Sejour(description='   \"de gavarnie au pic du midi de bigorre\"', prix=610, lieux='\\':\"pyrénées\"', duree=7, diff=\"   'niveau 2'\", theme='   \"randonnée\" \\t}; \\tarrayListInfoCircuits.push(data); \\t</script> </article>'),\n",
       " Sejour(description='   \"aventures en famille du lub&#233;ron au mont ventoux\"', prix=610, lieux='\\':\"provence-côted\\'azur\"', duree=6, diff=\"   'niveau 1'\", theme='   \"multi-activités\" \\t}; \\tarrayListInfoCircuits.push(data); \\t</script> </article>'),\n",
       " Sejour(description='   \"cocktail aventure en corse\"', prix=610, lieux='\\':\"corse\"', duree=6, diff=\"   'niveau 2'\", theme='   \"multi-activités\" \\t}; \\tarrayListInfoCircuits.push(data); \\t</script> </article>'),\n",
       " Sejour(description='   \"quiberon et les &#238;les du morbihan en famille\"', prix=640, lieux='\\':\"bretagne-normandie\"', duree=6, diff=\"   'niveau 2'\", theme='   \"multi-activités\" \\t}; \\tarrayListInfoCircuits.push(data); \\t</script> </article>'),\n",
       " Sejour(description='   \"les voies vertes du canal de garonne en famille\"', prix=650, lieux='\\':\"sud-ouest\"', duree=7, diff=\"   'niveau 1'\", theme='   \"vélo\" \\t}; \\tarrayListInfoCircuits.push(data); \\t</script> </article>'),\n",
       " Sejour(description='   \"arcachon &#224; v&#233;lo entre oc&#233;an', prix=665, lieux='\\':\"sud-ouest\"', duree=7, diff=\"   'niveau 1'\", theme='   \"vélo\" \\t}; \\tarrayListInfoCircuits.push(data); \\t</script> </article>'),\n",
       " Sejour(description='   \"les volcans du cantal avec un &#226;ne\"', prix=690, lieux='\\':\"massifcentral\"', duree=5, diff=\"   'niveau 2'\", theme='   \"randonnée avec âne\" \\t}; \\tarrayListInfoCircuits.push(data); \\t</script> </article>'),\n",
       " Sejour(description='   \"d&#233;couverte des ch&#226;teaux de la loire en famille \"', prix=695, lieux='\\':\"valléedelaloire\"', duree=7, diff=\"   'niveau 1'\", theme='   \"vélo\" \\t}; \\tarrayListInfoCircuits.push(data); \\t</script> </article>'),\n",
       " Sejour(description='   \"l&#39;ard&#232;che et les balcons du rh&#244;ne\"', prix=720, lieux='\\':\"massifcentral\"', duree=7, diff=\"   'niveau 2'\", theme='   \"randonnée avec âne\" \\t}; \\tarrayListInfoCircuits.push(data); \\t</script> </article>'),\n",
       " Sejour(description='   \"multi-activit&#233;s dans la dr&#244;me\"', prix=810, lieux='\\':\"alpesdunord\"', duree=7, diff=\"   'niveau 2'\", theme='   \"multi-activités\" \\t}; \\tarrayListInfoCircuits.push(data); \\t</script> </article>'),\n",
       " Sejour(description='   \"l&#39;ard&#232;che secr&#232;te &#224; v&#233;lo sur la dolce via\"', prix=815, lieux='\\':\"massifcentral\"', duree=8, diff=\"   'niveau 1'\", theme='   \"vélo\" \\t}; \\tarrayListInfoCircuits.push(data); \\t</script> </article>'),\n",
       " Sejour(description='   \"balade avec un &#226;ne entre l&#233;man et mont-blanc\"', prix=820, lieux='\\':\"alpesdunord\"', duree=6, diff=\"   'niveau 2'\", theme='   \"randonnée avec âne\" \\t}; \\tarrayListInfoCircuits.push(data); \\t</script> </article>'),\n",
       " Sejour(description='   \"kayak', prix=840, lieux='\\':\"corse\"', duree=6, diff=\"   'niveau 2'\", theme='   \"multi-activités\" \\t}; \\tarrayListInfoCircuits.push(data); \\t</script> </article>'),\n",
       " Sejour(description='   \"l&#39;&#238;le d&#39;ol&#233;ron et l&#39;&#238;le d&#39;aix &#224; v&#233;lo et en famille\"', prix=875, lieux='\\':\"sud-ouest\"', duree=7, diff=\"   'niveau 1'\", theme='   \"vélo\" \\t}; \\tarrayListInfoCircuits.push(data); \\t</script> </article>'),\n",
       " Sejour(description='   \"cocktail aventure en brian&#231;onnais\"', prix=890, lieux='\\':\"alpesdusud\"', duree=6, diff=\"   'niveau 2'\", theme='   \"multi-activités\" \\t}; \\tarrayListInfoCircuits.push(data); \\t</script> </article>'),\n",
       " Sejour(description='   \"les couleurs de la balagne\"', prix=940, lieux='\\':\"corse\"', duree=6, diff=\"   'niveau 1'\", theme='   \"randonnée\" \\t}; \\tarrayListInfoCircuits.push(data); \\t</script> </article>'),\n",
       " Sejour(description='   \"de noirmoutier &#224; l&#39;&#238;le d&#39;yeu &#224; v&#233;lo et en famille \"', prix=960, lieux='\\':\"valléedelaloire\"', duree=7, diff=\"   'niveau 1'\", theme='   \"vélo\" \\t}; \\tarrayListInfoCircuits.push(data); \\t</script> </article>'),\n",
       " Sejour(description='   \"ch&#226;teaux et nature... la loire &#224; v&#233;lo en famille\"', prix=0, lieux='\\':\"valléedelaloire\"', duree=7, diff=\"   'niveau 1'\", theme='   \"vélo\" \\t}; \\tarrayListInfoCircuits.push(data); \\t</script> </article>'),\n",
       " Sejour(description='   \"s&#233;jour oxyg&#232;ne dans les pyr&#233;n&#233;es\"', prix=0, lieux='\\':\"pyrénées\"', duree=7, diff=\"   'niveau 1'\", theme='   \"randonnée avec âne\" \\t}; \\tarrayListInfoCircuits.push(data); \\t</script> </article>'),\n",
       " Sejour(description='   \"les montagnards du bout du monde\"', prix=0, lieux='\\':\"alpesdunord\"', duree=8, diff=\"   'niveau 2'\", theme='   \"multi-activités\" \\t}; \\tarrayListInfoCircuits.push(data); \\t</script> </article>'),\n",
       " Sejour(description='   \"les montagnards des aravis\"', prix=0, lieux='\\':\"alpesdunord\"', duree=7, diff=\"   'niveau 2'\", theme='   \"multi-activités\" \\t}; \\tarrayListInfoCircuits.push(data); \\t</script> </article>'),\n",
       " Sejour(description='   \"aventures et nature au cœur du jura\"', prix=0, lieux='\\':\"autresrégions\"', duree=6, diff=\"   'niveau 2'\", theme='   \"multi-activités\" \\t}; \\tarrayListInfoCircuits.push(data); \\t</script> </article>'),\n",
       " Sejour(description='   \"les petits princes d&#39;andorre\"', prix=0, lieux='\\':\"pyrénées\"', duree=7, diff=\"   'niveau 1'\", theme='   \"randonnée\" \\t}; \\tarrayListInfoCircuits.push(data); \\t</script> </article>'),\n",
       " Sejour(description='   \"cocktail d&#39;activit&#233;s en chartreuse\"', prix=0, lieux='\\':\"alpesdunord\"', duree=7, diff=\"   'niveau 1'\", theme='   \"randonnée\" \\t}; \\tarrayListInfoCircuits.push(data); \\t</script> </article>'),\n",
       " Sejour(description='   \"aventures montagnardes &#224; gavarnie et cauterets\"', prix=0, lieux='\\':\"pyrénées\"', duree=7, diff=\"   'niveau 1'\", theme='   \"randonnée\" \\t}; \\tarrayListInfoCircuits.push(data); \\t</script> </article>'),\n",
       " Sejour(description='   \"micro-aventures en famille au pied des pyr&#233;n&#233;es\"', prix=0, lieux='\\':\"pyrénées\"', duree=3, diff=\"   'niveau 2'\", theme='   \"micro-aventure\" \\t}; \\tarrayListInfoCircuits.push(data); \\t</script> </article>'),\n",
       " Sejour(description='   \"le p&#233;rigord noir', prix=0, lieux='\\':\"sud-ouest\"', duree=7, diff=\"   'niveau 1'\", theme='   \"multi-activités\" \\t}; \\tarrayListInfoCircuits.push(data); \\t</script> </article>'),\n",
       " Sejour(description='   \"une autre vision du mercantour\"', prix=0, lieux='\\':\"alpesdusud\"', duree=7, diff=\"   'niveau 2'\", theme='   \"randonnée avec âne\" \\t}; \\tarrayListInfoCircuits.push(data); \\t</script> </article>')]"
      ]
     },
     "execution_count": 25,
     "metadata": {},
     "output_type": "execute_result"
    }
   ],
   "source": [
    "cell_elem_terdav.catch_info(elemeterdav)"
   ]
  },
  {
   "cell_type": "markdown",
   "metadata": {},
   "source": [
    "## Module build dataframe"
   ]
  },
  {
   "cell_type": "code",
   "execution_count": null,
   "metadata": {},
   "outputs": [],
   "source": [
    "import makedf"
   ]
  },
  {
   "cell_type": "code",
   "execution_count": null,
   "metadata": {},
   "outputs": [],
   "source": [
    "sejour_tot = makedf.assemblage_liste_sejour()"
   ]
  },
  {
   "cell_type": "code",
   "execution_count": null,
   "metadata": {},
   "outputs": [],
   "source": [
    "len(sejour_tot)"
   ]
  },
  {
   "cell_type": "code",
   "execution_count": null,
   "metadata": {},
   "outputs": [],
   "source": [
    "df = makedf.Df()"
   ]
  },
  {
   "cell_type": "code",
   "execution_count": null,
   "metadata": {},
   "outputs": [],
   "source": [
    "df.make_lower()"
   ]
  },
  {
   "cell_type": "code",
   "execution_count": null,
   "metadata": {},
   "outputs": [],
   "source": [
    "df.df"
   ]
  }
 ],
 "metadata": {
  "interpreter": {
   "hash": "5b6c761d8dec5970146fbbffb486e6b700cace45b168bd551b8d6380eb7f7175"
  },
  "kernelspec": {
   "display_name": "Python 3.9.7 64-bit",
   "language": "python",
   "name": "python3"
  },
  "language_info": {
   "codemirror_mode": {
    "name": "ipython",
    "version": 3
   },
   "file_extension": ".py",
   "mimetype": "text/x-python",
   "name": "python",
   "nbconvert_exporter": "python",
   "pygments_lexer": "ipython3",
   "version": "3.9.7"
  },
  "orig_nbformat": 4
 },
 "nbformat": 4,
 "nbformat_minor": 2
}
