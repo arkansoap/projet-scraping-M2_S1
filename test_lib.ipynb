{
 "cells": [
  {
   "cell_type": "markdown",
   "metadata": {},
   "source": [
    "# Présentation du projet Python M2S1"
   ]
  },
  {
   "cell_type": "markdown",
   "metadata": {},
   "source": [
    "## Guide pour l'utilisateur"
   ]
  },
  {
   "cell_type": "markdown",
   "metadata": {},
   "source": [
    "### Phase de scraping avec le module scrap_main.py"
   ]
  },
  {
   "cell_type": "markdown",
   "metadata": {},
   "source": [
    "1. Xpath et RE pour Decathlon"
   ]
  },
  {
   "cell_type": "code",
   "execution_count": 2,
   "metadata": {},
   "outputs": [],
   "source": [
    "import scrap_main"
   ]
  },
  {
   "cell_type": "markdown",
   "metadata": {},
   "source": [
    "Cet import ouvre la fenètre de navigation. Il faut donc restart le kernel avant de scraper un autre site."
   ]
  },
  {
   "cell_type": "code",
   "execution_count": 3,
   "metadata": {},
   "outputs": [],
   "source": [
    "elemedecat = scrap_main.PageElem(\n",
    "    nom_site= \"Decathlon\",\n",
    "    adresse = \"https://www.decathlontravel.com/voyages/sport-rando-nature\",\n",
    "    bouton_accept = '//*[@id=\"didomi-notice-agree-button\"]',\n",
    "    bouton_affichage = '//*[@id=\"travel-search-engine-results\"]/div[3]/a'\n",
    ")"
   ]
  },
  {
   "cell_type": "code",
   "execution_count": 4,
   "metadata": {},
   "outputs": [],
   "source": [
    "cell_elem_decat = scrap_main.CellElem(\n",
    "    re_desc='heading.*?target=\"_blank\">(.*?)</a>',\n",
    "    re_diff=\"Niveau.*value..(.*)..span\",\n",
    "    re_duree=\"value.*\\\".(.*)jours.*span\",\n",
    "    re_lieu='destination\">(.*?)</div>',\n",
    "    re_prix=\"minprice.*strong.(.*)....strong\",\n",
    "    re_theme=\"theme.*tooltip..(.*?)\\\"\"\n",
    "    )"
   ]
  },
  {
   "cell_type": "code",
   "execution_count": 5,
   "metadata": {},
   "outputs": [
    {
     "name": "stdout",
     "output_type": "stream",
     "text": [
      "Element is not clickable\n",
      "Element is not clickable\n",
      "Element is not clickable\n",
      "Element is not clickable\n",
      "Element is not clickable\n",
      "Element is not clickable\n",
      "Element is not clickable\n",
      "Element is not clickable\n",
      "Element is not clickable\n",
      "Element is not clickable\n",
      "Element is not clickable\n",
      "Element is not clickable\n",
      "Element is not clickable\n",
      "Element is not clickable\n",
      "Element is not clickable\n",
      "Element is not clickable\n",
      "Element is not clickable\n",
      "Element is not clickable\n",
      "Element is not clickable\n",
      "Element is not clickable\n",
      "Element is not clickable\n",
      "Element is not clickable\n"
     ]
    }
   ],
   "source": [
    "scrap_main.scraping(pageElem=elemedecat, cellsElem=cell_elem_decat)"
   ]
  },
  {
   "cell_type": "markdown",
   "metadata": {},
   "source": [
    "Un fichier en JSON est sauvegardé avec la liste des séjours. "
   ]
  },
  {
   "cell_type": "markdown",
   "metadata": {},
   "source": [
    "2. Xpath et RE pour terre d'avenir"
   ]
  },
  {
   "cell_type": "code",
   "execution_count": 1,
   "metadata": {},
   "outputs": [],
   "source": [
    "import scrap_main"
   ]
  },
  {
   "cell_type": "code",
   "execution_count": 2,
   "metadata": {},
   "outputs": [],
   "source": [
    "elemeterdav = scrap_main.PageElem(\n",
    "    nom_site= \"Terdav1\",\n",
    "    adresse = \"https://www.terdav.com/ps-france/tp-voyage-famille#nos-voyages\",\n",
    "    bouton_accept = '//*[@id=\"axeptio_btn_acceptAll\"]',\n",
    "    bouton_affichage = '//*[@id=\"blockResultats\"]/a'\n",
    ")"
   ]
  },
  {
   "cell_type": "code",
   "execution_count": 4,
   "metadata": {},
   "outputs": [],
   "source": [
    "cell_elem_terdav = scrap_main.CellElem(\n",
    "    re_desc=\"name.*?:....(.*?).,\",\n",
    "    re_diff='dimension8.*?:....(.*?).,',\n",
    "    re_duree=\"dimension7.*?:.*?'(.*?)Jours\",\n",
    "    re_lieu='dimension6.*?:....(.*?).,',\n",
    "    re_prix='price.*?:(.*?),',\n",
    "    re_theme= 'dimension12.*?:....(.*)\"'\n",
    "    )"
   ]
  },
  {
   "cell_type": "code",
   "execution_count": 6,
   "metadata": {},
   "outputs": [
    {
     "name": "stdout",
     "output_type": "stream",
     "text": [
      "Element is not clickable\n",
      "Element is not clickable\n",
      "Element is not clickable\n"
     ]
    }
   ],
   "source": [
    "scrap_main.scraping(pageElem=elemeterdav, cellsElem=cell_elem_terdav)"
   ]
  },
  {
   "cell_type": "markdown",
   "metadata": {},
   "source": [
    "3. Xpath et RE pour Explora"
   ]
  },
  {
   "cell_type": "code",
   "execution_count": 1,
   "metadata": {},
   "outputs": [],
   "source": [
    "import scrap_main"
   ]
  },
  {
   "cell_type": "code",
   "execution_count": 2,
   "metadata": {},
   "outputs": [],
   "source": [
    "elemeexplora = scrap_main.PageElem(\n",
    "    nom_site= \"Explora1\",\n",
    "    adresse = \"https://www.explora-project.com/expeditions?\",\n",
    "    bouton_accept = '//*[@id=\"axeptio_btn_dismiss\"]',\n",
    "    bouton_affichage = '//*[@id=\"hits\"]/button'  \n",
    ")"
   ]
  },
  {
   "cell_type": "code",
   "execution_count": 3,
   "metadata": {},
   "outputs": [],
   "source": [
    "cell_elem_explora = scrap_main.CellElem(\n",
    "    re_desc='\"heading-suggestion-padding-white\">(.*?)</h3>',\n",
    "    re_diff=\"Niveau(.*?)</div>\",\n",
    "    re_duree='calendar.png\".*?6px;\"/>(.*?)jours',\n",
    "    re_lieu='hide\\-on\\-mobile\\\">(.*?)\\-',\n",
    "    re_prix='jrs.-(.*?)...span',\n",
    "    re_theme= None\n",
    "    )"
   ]
  },
  {
   "cell_type": "markdown",
   "metadata": {},
   "source": [
    "Concernant ce site, nous n'avons pas réussi à automatiser les click d'affichage. Après de multiples tentatives, nous décidons de contourner le problème en cliquant 'à la mainProblème'. Nous ne pouvons donc pas utiliser la fonction scraping.\n",
    "\n",
    "Voici comment procéder:"
   ]
  },
  {
   "cell_type": "code",
   "execution_count": 4,
   "metadata": {},
   "outputs": [],
   "source": [
    "elemeexplora.open_site()"
   ]
  },
  {
   "cell_type": "markdown",
   "metadata": {},
   "source": [
    "La fonction affichage_all_item ne fonctionnant pas, on clique sur le bouton afficher plus en bas de page jusqu'à ce qu'il n'y ait plus d'item à afficher. "
   ]
  },
  {
   "cell_type": "code",
   "execution_count": 5,
   "metadata": {},
   "outputs": [],
   "source": [
    "cell_elem_explora.save_sejours_to_Json(elemeexplora)"
   ]
  },
  {
   "cell_type": "markdown",
   "metadata": {},
   "source": [
    "### Phase de construction et nettoyage du dataframe avec le module makedf.py"
   ]
  },
  {
   "cell_type": "code",
   "execution_count": 6,
   "metadata": {},
   "outputs": [],
   "source": [
    "import makedf"
   ]
  },
  {
   "cell_type": "code",
   "execution_count": 7,
   "metadata": {},
   "outputs": [
    {
     "data": {
      "text/html": [
       "<div>\n",
       "<style scoped>\n",
       "    .dataframe tbody tr th:only-of-type {\n",
       "        vertical-align: middle;\n",
       "    }\n",
       "\n",
       "    .dataframe tbody tr th {\n",
       "        vertical-align: top;\n",
       "    }\n",
       "\n",
       "    .dataframe thead th {\n",
       "        text-align: right;\n",
       "    }\n",
       "</style>\n",
       "<table border=\"1\" class=\"dataframe\">\n",
       "  <thead>\n",
       "    <tr style=\"text-align: right;\">\n",
       "      <th></th>\n",
       "      <th>description</th>\n",
       "      <th>prix</th>\n",
       "      <th>lieux</th>\n",
       "      <th>duree</th>\n",
       "      <th>diff</th>\n",
       "      <th>theme</th>\n",
       "    </tr>\n",
       "  </thead>\n",
       "  <tbody>\n",
       "    <tr>\n",
       "      <th>0</th>\n",
       "      <td>les différents visages du désert</td>\n",
       "      <td>290</td>\n",
       "      <td>dest_proche</td>\n",
       "      <td>4</td>\n",
       "      <td>Découverte</td>\n",
       "      <td>rando nature</td>\n",
       "    </tr>\n",
       "    <tr>\n",
       "      <th>1</th>\n",
       "      <td>côte atlantique et essaouira</td>\n",
       "      <td>320</td>\n",
       "      <td>dest_proche</td>\n",
       "      <td>5</td>\n",
       "      <td>Découverte</td>\n",
       "      <td>rando nature</td>\n",
       "    </tr>\n",
       "    <tr>\n",
       "      <th>2</th>\n",
       "      <td>l'intégrale des calanques</td>\n",
       "      <td>400</td>\n",
       "      <td>metropole</td>\n",
       "      <td>7</td>\n",
       "      <td>Initié</td>\n",
       "      <td>rando nature</td>\n",
       "    </tr>\n",
       "    <tr>\n",
       "      <th>3</th>\n",
       "      <td>le tour de l'île aux fleurs</td>\n",
       "      <td>450</td>\n",
       "      <td>dest_proche</td>\n",
       "      <td>8</td>\n",
       "      <td>Découverte</td>\n",
       "      <td>rando nature</td>\n",
       "    </tr>\n",
       "    <tr>\n",
       "      <th>4</th>\n",
       "      <td>cyclades: serifos, sifnos et milos</td>\n",
       "      <td>580</td>\n",
       "      <td>dest_proche</td>\n",
       "      <td>8</td>\n",
       "      <td>Découverte</td>\n",
       "      <td>rando nature</td>\n",
       "    </tr>\n",
       "    <tr>\n",
       "      <th>...</th>\n",
       "      <td>...</td>\n",
       "      <td>...</td>\n",
       "      <td>...</td>\n",
       "      <td>...</td>\n",
       "      <td>...</td>\n",
       "      <td>...</td>\n",
       "    </tr>\n",
       "    <tr>\n",
       "      <th>397</th>\n",
       "      <td>de bastia &amp;#224; ajaccio par la c&amp;#244;te ouest</td>\n",
       "      <td>1150</td>\n",
       "      <td>dest_proche</td>\n",
       "      <td>8</td>\n",
       "      <td>Initié</td>\n",
       "      <td>cyclo</td>\n",
       "    </tr>\n",
       "    <tr>\n",
       "      <th>398</th>\n",
       "      <td>gr20 nord libert&amp;#233; en h&amp;#244;tel</td>\n",
       "      <td>1330</td>\n",
       "      <td>dest_proche</td>\n",
       "      <td>7</td>\n",
       "      <td>Confirmé</td>\n",
       "      <td>rando nature</td>\n",
       "    </tr>\n",
       "    <tr>\n",
       "      <th>399</th>\n",
       "      <td>l&amp;#39;int&amp;#233;gral des chemins de stevenson</td>\n",
       "      <td>1330</td>\n",
       "      <td>metropole</td>\n",
       "      <td>1</td>\n",
       "      <td>Confirmé</td>\n",
       "      <td>rando nature</td>\n",
       "    </tr>\n",
       "    <tr>\n",
       "      <th>400</th>\n",
       "      <td>le gr20 int&amp;#233;gral en libert&amp;#233;</td>\n",
       "      <td>1340</td>\n",
       "      <td>dest_proche</td>\n",
       "      <td>1</td>\n",
       "      <td>Confirmé</td>\n",
       "      <td>rando nature</td>\n",
       "    </tr>\n",
       "    <tr>\n",
       "      <th>401</th>\n",
       "      <td>la viarh&amp;#244;n</td>\n",
       "      <td>1750</td>\n",
       "      <td>metropole</td>\n",
       "      <td>8</td>\n",
       "      <td>Découverte</td>\n",
       "      <td>cyclo</td>\n",
       "    </tr>\n",
       "  </tbody>\n",
       "</table>\n",
       "<p>402 rows × 6 columns</p>\n",
       "</div>"
      ],
      "text/plain": [
       "                                         description  prix        lieux  \\\n",
       "0                   les différents visages du désert   290  dest_proche   \n",
       "1                       côte atlantique et essaouira   320  dest_proche   \n",
       "2                          l'intégrale des calanques   400    metropole   \n",
       "3                        le tour de l'île aux fleurs   450  dest_proche   \n",
       "4                 cyclades: serifos, sifnos et milos   580  dest_proche   \n",
       "..                                               ...   ...          ...   \n",
       "397  de bastia &#224; ajaccio par la c&#244;te ouest  1150  dest_proche   \n",
       "398             gr20 nord libert&#233; en h&#244;tel  1330  dest_proche   \n",
       "399    l&#39;int&#233;gral des chemins de stevenson   1330    metropole   \n",
       "400            le gr20 int&#233;gral en libert&#233;  1340  dest_proche   \n",
       "401                                  la viarh&#244;n  1750    metropole   \n",
       "\n",
       "     duree        diff         theme  \n",
       "0        4  Découverte  rando nature  \n",
       "1        5  Découverte  rando nature  \n",
       "2        7      Initié  rando nature  \n",
       "3        8  Découverte  rando nature  \n",
       "4        8  Découverte  rando nature  \n",
       "..     ...         ...           ...  \n",
       "397      8      Initié         cyclo  \n",
       "398      7    Confirmé  rando nature  \n",
       "399      1    Confirmé  rando nature  \n",
       "400      1    Confirmé  rando nature  \n",
       "401      8  Découverte         cyclo  \n",
       "\n",
       "[402 rows x 6 columns]"
      ]
     },
     "execution_count": 7,
     "metadata": {},
     "output_type": "execute_result"
    }
   ],
   "source": [
    "df = makedf.Df()\n",
    "df.all_in_one()\n",
    "df.df"
   ]
  },
  {
   "cell_type": "markdown",
   "metadata": {},
   "source": [
    "### Phase d'apprentissage et résultats "
   ]
  },
  {
   "cell_type": "markdown",
   "metadata": {},
   "source": [
    "Nous n'avons pas encore finaliser l'automatisation de la phase d'apprentissage ds un module dans un module."
   ]
  },
  {
   "cell_type": "code",
   "execution_count": 2,
   "metadata": {},
   "outputs": [],
   "source": [
    "import pandas as pd\n",
    "from sklearn.preprocessing import OneHotEncoder\n",
    "from sklearn.model_selection import train_test_split, GridSearchCV\n",
    "from sklearn.linear_model import LinearRegression, ElasticNet, LogisticRegression\n",
    "from sklearn.svm import SVR\n",
    "from sklearn.ensemble import RandomForestRegressor\n",
    "from sklearn.neural_network import MLPRegressor\n",
    "from sklearn.pipeline import Pipeline\n",
    "from sklearn.compose import ColumnTransformer\n",
    "from rich import print\n",
    "from rich.table import Table"
   ]
  },
  {
   "cell_type": "code",
   "execution_count": 13,
   "metadata": {},
   "outputs": [],
   "source": [
    "df = pd.read_pickle(\"my_dataframe.pkl\")\n",
    "X = df.drop([\"description\", \"prix\"], axis = 1)\n",
    "y = df[\"prix\"]\n",
    "X_tr, X_te, y_tr, y_te = train_test_split(X, y)"
   ]
  },
  {
   "cell_type": "code",
   "execution_count": 15,
   "metadata": {},
   "outputs": [],
   "source": [
    "one_hot_encoder = Pipeline(\n",
    "  steps=[\n",
    "    ('one_hot', OneHotEncoder(handle_unknown='ignore'))\n",
    "  ]\n",
    ")"
   ]
  },
  {
   "cell_type": "code",
   "execution_count": 16,
   "metadata": {},
   "outputs": [],
   "source": [
    "preprocessor = ColumnTransformer(\n",
    "  transformers=[\n",
    "    ('categorical', one_hot_encoder, ['lieux', 'diff', 'theme']),\n",
    "  ]\n",
    ")"
   ]
  },
  {
   "cell_type": "code",
   "execution_count": 17,
   "metadata": {},
   "outputs": [],
   "source": [
    "results = dict()"
   ]
  },
  {
   "cell_type": "code",
   "execution_count": 19,
   "metadata": {},
   "outputs": [],
   "source": [
    "p = Pipeline(\n",
    "  steps=[\n",
    "    ('preprocessor', preprocessor),\n",
    "    ('reg', LinearRegression())\n",
    "  ]\n",
    ")\n",
    "\n",
    "g = GridSearchCV(\n",
    "    p,\n",
    "    {\n",
    "        \"reg__fit_intercept\": [True, False]\n",
    "    },\n",
    "   \n",
    ")\n",
    "g.fit(X_tr, y_tr)\n",
    "\n",
    "results[\"Lineaire pure\"] = g"
   ]
  },
  {
   "cell_type": "code",
   "execution_count": 22,
   "metadata": {},
   "outputs": [
    {
     "name": "stderr",
     "output_type": "stream",
     "text": [
      "C:\\Users\\arkan\\AppData\\Local\\Programs\\Python\\Python39\\lib\\site-packages\\sklearn\\neural_network\\_multilayer_perceptron.py:692: ConvergenceWarning: Stochastic Optimizer: Maximum iterations (5000) reached and the optimization hasn't converged yet.\n",
      "  warnings.warn(\n"
     ]
    }
   ],
   "source": [
    "p = Pipeline(\n",
    "    [\n",
    "        (\"preprocessor\", preprocessor),\n",
    "        (\"Reg\",  MLPRegressor())\n",
    "    ]\n",
    ")\n",
    "\n",
    "g = GridSearchCV(\n",
    "    p,\n",
    "    {\n",
    "        'Reg__hidden_layer_sizes': [(50,), (100,), (150,), (200,), (250,), (300,),],\n",
    "        \"Reg__max_iter\": [5000],\n",
    "        \"Reg__activation\": [\"relu\", \"logistic\"],\n",
    "    },\n",
    "    n_jobs=-1,\n",
    ")\n",
    "g.fit(X_tr, y_tr)\n",
    "results[\"reseau neurone\"]=g"
   ]
  },
  {
   "cell_type": "code",
   "execution_count": 23,
   "metadata": {},
   "outputs": [],
   "source": [
    "p = Pipeline(\n",
    "    [\n",
    "        (\"preprocessor\", preprocessor),\n",
    "        (\"Reg\", SVR())\n",
    "    ]\n",
    ")\n",
    "\n",
    "g = GridSearchCV(\n",
    "    p,\n",
    "    {\n",
    "        \"Reg__C\": [ 0.1, 1., 10., 100,],\n",
    "        \"Reg__epsilon\": [0.01, 0.1, 1., 10.]\n",
    "    },\n",
    "    n_jobs=-1,\n",
    ")\n",
    "g.fit(X_tr, y_tr)\n",
    "results[\"SVR\"] = g"
   ]
  },
  {
   "cell_type": "code",
   "execution_count": 27,
   "metadata": {},
   "outputs": [],
   "source": [
    "p = Pipeline(\n",
    "    [\n",
    "        (\"preprocessor\", preprocessor),\n",
    "        (\"Reg\", RandomForestRegressor())\n",
    "    ]\n",
    ")\n",
    "\n",
    "g = GridSearchCV(\n",
    "    p,\n",
    "    {\n",
    "        \"Reg__n_estimators\": range(50, 300, 20),\n",
    "    },\n",
    "    n_jobs=-1,\n",
    "   \n",
    ")\n",
    "g.fit(X_tr, y_tr)\n",
    "results[\"random forest\"] = g"
   ]
  },
  {
   "cell_type": "code",
   "execution_count": 28,
   "metadata": {},
   "outputs": [
    {
     "data": {
      "text/html": [
       "<pre style=\"white-space:pre;overflow-x:auto;line-height:normal;font-family:Menlo,'DejaVu Sans Mono',consolas,'Courier New',monospace\"><span style=\"font-style: italic\">                          Résumé des résultats de crossvalidation.                           </span>\n",
       "┏━━━━━━━━━━━━━━━━┳━━━━━━━━━━━━━━━━━━━━━━━━┳━━━━━━━━━━━━━━━━━━━━┳━━━━━━━━━━━━━━━━━━━━━━━━━━━━┓\n",
       "┃<span style=\"font-weight: bold\"> Nom            </span>┃<span style=\"font-weight: bold\"> Score Cross validation </span>┃<span style=\"font-weight: bold\"> Score entrainement </span>┃<span style=\"font-weight: bold\"> Choix Hyperparamètres      </span>┃\n",
       "┡━━━━━━━━━━━━━━━━╇━━━━━━━━━━━━━━━━━━━━━━━━╇━━━━━━━━━━━━━━━━━━━━╇━━━━━━━━━━━━━━━━━━━━━━━━━━━━┩\n",
       "│ Lineaire pure  │ 0.36                   │ 0.37               │ {'reg__fit_intercept':     │\n",
       "│                │                        │                    │ True}                      │\n",
       "│ reseau neurone │ 0.38                   │ 0.47               │ {'Reg__activation':        │\n",
       "│                │                        │                    │ 'relu',                    │\n",
       "│                │                        │                    │ 'Reg__hidden_layer_sizes': │\n",
       "│                │                        │                    │ (300,), 'Reg__max_iter':   │\n",
       "│                │                        │                    │ 5000}                      │\n",
       "│ SVR            │ 0.23                   │ 0.30               │ {'Reg__C': 100,            │\n",
       "│                │                        │                    │ 'Reg__epsilon': 10.0}      │\n",
       "│ random forest  │ 0.45                   │ 0.49               │ {'Reg__n_estimators': 70}  │\n",
       "└────────────────┴────────────────────────┴────────────────────┴────────────────────────────┘\n",
       "</pre>\n"
      ],
      "text/plain": [
       "\u001b[3m                          Résumé des résultats de crossvalidation.                           \u001b[0m\n",
       "┏━━━━━━━━━━━━━━━━┳━━━━━━━━━━━━━━━━━━━━━━━━┳━━━━━━━━━━━━━━━━━━━━┳━━━━━━━━━━━━━━━━━━━━━━━━━━━━┓\n",
       "┃\u001b[1m \u001b[0m\u001b[1mNom           \u001b[0m\u001b[1m \u001b[0m┃\u001b[1m \u001b[0m\u001b[1mScore Cross validation\u001b[0m\u001b[1m \u001b[0m┃\u001b[1m \u001b[0m\u001b[1mScore entrainement\u001b[0m\u001b[1m \u001b[0m┃\u001b[1m \u001b[0m\u001b[1mChoix Hyperparamètres     \u001b[0m\u001b[1m \u001b[0m┃\n",
       "┡━━━━━━━━━━━━━━━━╇━━━━━━━━━━━━━━━━━━━━━━━━╇━━━━━━━━━━━━━━━━━━━━╇━━━━━━━━━━━━━━━━━━━━━━━━━━━━┩\n",
       "│ Lineaire pure  │ 0.36                   │ 0.37               │ {'reg__fit_intercept':     │\n",
       "│                │                        │                    │ True}                      │\n",
       "│ reseau neurone │ 0.38                   │ 0.47               │ {'Reg__activation':        │\n",
       "│                │                        │                    │ 'relu',                    │\n",
       "│                │                        │                    │ 'Reg__hidden_layer_sizes': │\n",
       "│                │                        │                    │ (300,), 'Reg__max_iter':   │\n",
       "│                │                        │                    │ 5000}                      │\n",
       "│ SVR            │ 0.23                   │ 0.30               │ {'Reg__C': 100,            │\n",
       "│                │                        │                    │ 'Reg__epsilon': 10.0}      │\n",
       "│ random forest  │ 0.45                   │ 0.49               │ {'Reg__n_estimators': 70}  │\n",
       "└────────────────┴────────────────────────┴────────────────────┴────────────────────────────┘\n"
      ]
     },
     "metadata": {},
     "output_type": "display_data"
    }
   ],
   "source": [
    "tbl = Table(\n",
    "    title=\"Résumé des résultats de crossvalidation.\",\n",
    "    show_header=True,\n",
    ")\n",
    "tbl.add_column(\"Nom\")\n",
    "tbl.add_column(\"Score Cross validation\")\n",
    "tbl.add_column(\"Score entrainement\")\n",
    "tbl.add_column(\"Choix Hyperparamètres\")\n",
    "for nom, modele in results.items():\n",
    "    tbl.add_row(\n",
    "        nom, \n",
    "        f\"{modele.best_score_:.2f}\", \n",
    "        f\"{modele.score(X_tr, y_tr):.2f}\",\n",
    "        str(modele.best_params_),\n",
    "    )\n",
    "    \n",
    "print(tbl)"
   ]
  },
  {
   "cell_type": "markdown",
   "metadata": {},
   "source": [
    "Les résultats sont très mauvais, aucn score ne dépasse *O.5*.\n",
    "\n",
    "Plusieurs pistes : \n",
    "- Pas assez de variables explicatives. \n",
    "- Echantillon trop petit (388 séjours). Il en faudrait au minimum 1000.\n",
    "- trop de pertes d'information lors du regroupement des modalités.\n",
    "- Phase d'optimisation des paramètres très mal configurées.\n",
    "\n",
    "L'objectif était de prévoir le prix pour certains types de séjours donnés (séjours que nous voulons développer dans le cadre de notre création d'entreprise). Une fois les prix du marchés déterminés, nous aurions fait une phase d'optimisation pour savoir quel est la facturation minimum que nous aurions pu mettre en place en fonction de nos couts et des prix du marché. Nous n'avons pas développé cette phaase car le résultat de la phase d'apprentissage est trop mauvais. \n",
    "\n",
    "Il faut d'abord avoir de meilleurs résultats. Nous pourrions peut être abandonné cette troisième phase et nous contenter d'essayer d'anticiper les prix des séjours présentés sur les sites qui n'ont pas encore d'information sur leurs prix."
   ]
  },
  {
   "cell_type": "markdown",
   "metadata": {},
   "source": [
    "### Rappel méthode à suivre pour la phase d'apprentissage et de validation\n",
    "\n",
    "- découpage échantillon en (train/test)\n",
    "- apprentissage sur échantillon entrainement pour tous les modèles\n",
    "- comparaison des modèles par cross validation sur echantillon d'entrainement (si pas de CV, découpage échantillon en 3 : train/valid/test)\n",
    "- predict sur échantillon test (garde fou). \n",
    "    - Si surapprentissage (score CV supérieur à score test), reprendre tout à zéro. Pb peut venir d'un découpage malchanceux, d'une CV malchanceuse...\n",
    "    - Si score test ok, on réentraine sur l'échantillon complet. "
   ]
  },
  {
   "cell_type": "markdown",
   "metadata": {},
   "source": [
    "## Quelques remarques "
   ]
  },
  {
   "cell_type": "markdown",
   "metadata": {},
   "source": [
    "Nous avons passé beaucoup de temps à assyaer de résoudre ces erreurs sans succès : \n",
    "\n",
    "1. Cette erreur est censée être ignorée, mais elle ne l'est pas. Nous avons essayé plusieurs options sans succès"
   ]
  },
  {
   "cell_type": "code",
   "execution_count": 6,
   "metadata": {},
   "outputs": [
    {
     "name": "stdout",
     "output_type": "stream",
     "text": [
      "Element is not clickable\n",
      "Element is not clickable\n",
      "Element is not clickable\n",
      "Element is not clickable\n",
      "Element is not clickable\n",
      "Element is not clickable\n",
      "Element is not clickable\n",
      "Element is not clickable\n",
      "Element is not clickable\n",
      "Element is not clickable\n",
      "Element is not clickable\n",
      "Element is not clickable\n",
      "Element is not clickable\n",
      "Element is not clickable\n",
      "Element is not clickable\n"
     ]
    },
    {
     "ename": "StaleElementReferenceException",
     "evalue": "Message: stale element reference: element is not attached to the page document\n  (Session info: chrome=97.0.4692.71)\nStacktrace:\nBacktrace:\n\tOrdinal0 [0x00646903+2517251]\n\tOrdinal0 [0x005DF8E1+2095329]\n\tOrdinal0 [0x004E2848+1058888]\n\tOrdinal0 [0x004E4F44+1068868]\n\tOrdinal0 [0x004E4E0E+1068558]\n\tOrdinal0 [0x004E56BA+1070778]\n\tOrdinal0 [0x005364F9+1402105]\n\tOrdinal0 [0x005264D3+1336531]\n\tOrdinal0 [0x00535BBF+1399743]\n\tOrdinal0 [0x0052639B+1336219]\n\tOrdinal0 [0x005027A7+1189799]\n\tOrdinal0 [0x00503609+1193481]\n\tGetHandleVerifier [0x007D5904+1577972]\n\tGetHandleVerifier [0x00880B97+2279047]\n\tGetHandleVerifier [0x006D6D09+534521]\n\tGetHandleVerifier [0x006D5DB9+530601]\n\tOrdinal0 [0x005E4FF9+2117625]\n\tOrdinal0 [0x005E98A8+2136232]\n\tOrdinal0 [0x005E99E2+2136546]\n\tOrdinal0 [0x005F3541+2176321]\n\tBaseThreadInitThunk [0x75D76739+25]\n\tRtlGetFullPathName_UEx [0x779B8AFF+1215]\n\tRtlGetFullPathName_UEx [0x779B8ACD+1165]\n",
     "output_type": "error",
     "traceback": [
      "\u001b[1;31m---------------------------------------------------------------------------\u001b[0m",
      "\u001b[1;31mStaleElementReferenceException\u001b[0m            Traceback (most recent call last)",
      "\u001b[1;32m~\\AppData\\Local\\Temp/ipykernel_14844/4126462000.py\u001b[0m in \u001b[0;36m<module>\u001b[1;34m\u001b[0m\n\u001b[1;32m----> 1\u001b[1;33m \u001b[0melemeexplora\u001b[0m\u001b[1;33m.\u001b[0m\u001b[0maffichage_all_item\u001b[0m\u001b[1;33m(\u001b[0m\u001b[1;33m)\u001b[0m\u001b[1;33m\u001b[0m\u001b[1;33m\u001b[0m\u001b[0m\n\u001b[0m",
      "\u001b[1;32mc:\\Users\\arkan\\Desktop\\projet-scraping-M2_S1\\scrap_main.py\u001b[0m in \u001b[0;36maffichage_all_item\u001b[1;34m(self)\u001b[0m\n\u001b[0;32m     77\u001b[0m         \u001b[1;34m\"\"\"affichage de toutes les cellules\"\"\"\u001b[0m\u001b[1;33m\u001b[0m\u001b[1;33m\u001b[0m\u001b[0m\n\u001b[0;32m     78\u001b[0m         \u001b[0mbouton\u001b[0m \u001b[1;33m=\u001b[0m \u001b[0mnav\u001b[0m\u001b[1;33m.\u001b[0m\u001b[0mfind_element\u001b[0m\u001b[1;33m(\u001b[0m\u001b[0mBy\u001b[0m\u001b[1;33m.\u001b[0m\u001b[0mXPATH\u001b[0m\u001b[1;33m,\u001b[0m \u001b[0mself\u001b[0m\u001b[1;33m.\u001b[0m\u001b[0mbouton_affichage\u001b[0m\u001b[1;33m)\u001b[0m\u001b[1;33m\u001b[0m\u001b[1;33m\u001b[0m\u001b[0m\n\u001b[1;32m---> 79\u001b[1;33m         \u001b[1;32mwhile\u001b[0m  \u001b[0mbouton\u001b[0m\u001b[1;33m.\u001b[0m\u001b[0mis_displayed\u001b[0m\u001b[1;33m(\u001b[0m\u001b[1;33m)\u001b[0m \u001b[1;32mand\u001b[0m \u001b[0mbouton\u001b[0m\u001b[1;33m.\u001b[0m\u001b[0mis_enabled\u001b[0m\u001b[1;33m(\u001b[0m\u001b[1;33m)\u001b[0m\u001b[1;33m:\u001b[0m\u001b[1;33m\u001b[0m\u001b[1;33m\u001b[0m\u001b[0m\n\u001b[0m\u001b[0;32m     80\u001b[0m             \u001b[1;32mtry\u001b[0m\u001b[1;33m:\u001b[0m\u001b[1;33m\u001b[0m\u001b[1;33m\u001b[0m\u001b[0m\n\u001b[0;32m     81\u001b[0m                 \u001b[0mbouton\u001b[0m\u001b[1;33m.\u001b[0m\u001b[0mclick\u001b[0m\u001b[1;33m(\u001b[0m\u001b[1;33m)\u001b[0m\u001b[1;33m\u001b[0m\u001b[1;33m\u001b[0m\u001b[0m\n",
      "\u001b[1;32m~\\AppData\\Local\\Programs\\Python\\Python39\\lib\\site-packages\\selenium\\webdriver\\remote\\webelement.py\u001b[0m in \u001b[0;36mis_displayed\u001b[1;34m(self)\u001b[0m\n\u001b[0;32m    545\u001b[0m         \u001b[1;34m\"\"\"Whether the element is visible to a user.\"\"\"\u001b[0m\u001b[1;33m\u001b[0m\u001b[1;33m\u001b[0m\u001b[0m\n\u001b[0;32m    546\u001b[0m         \u001b[1;31m# Only go into this conditional for browsers that don't use the atom themselves\u001b[0m\u001b[1;33m\u001b[0m\u001b[1;33m\u001b[0m\u001b[0m\n\u001b[1;32m--> 547\u001b[1;33m         return self.parent.execute_script(\n\u001b[0m\u001b[0;32m    548\u001b[0m             \u001b[1;34m\"return (%s).apply(null, arguments);\"\u001b[0m \u001b[1;33m%\u001b[0m \u001b[0misDisplayed_js\u001b[0m\u001b[1;33m,\u001b[0m\u001b[1;33m\u001b[0m\u001b[1;33m\u001b[0m\u001b[0m\n\u001b[0;32m    549\u001b[0m             self)\n",
      "\u001b[1;32m~\\AppData\\Local\\Programs\\Python\\Python39\\lib\\site-packages\\selenium\\webdriver\\remote\\webdriver.py\u001b[0m in \u001b[0;36mexecute_script\u001b[1;34m(self, script, *args)\u001b[0m\n\u001b[0;32m    870\u001b[0m         \u001b[0mcommand\u001b[0m \u001b[1;33m=\u001b[0m \u001b[0mCommand\u001b[0m\u001b[1;33m.\u001b[0m\u001b[0mW3C_EXECUTE_SCRIPT\u001b[0m\u001b[1;33m\u001b[0m\u001b[1;33m\u001b[0m\u001b[0m\n\u001b[0;32m    871\u001b[0m \u001b[1;33m\u001b[0m\u001b[0m\n\u001b[1;32m--> 872\u001b[1;33m         return self.execute(command, {\n\u001b[0m\u001b[0;32m    873\u001b[0m             \u001b[1;34m'script'\u001b[0m\u001b[1;33m:\u001b[0m \u001b[0mscript\u001b[0m\u001b[1;33m,\u001b[0m\u001b[1;33m\u001b[0m\u001b[1;33m\u001b[0m\u001b[0m\n\u001b[0;32m    874\u001b[0m             'args': converted_args})['value']\n",
      "\u001b[1;32m~\\AppData\\Local\\Programs\\Python\\Python39\\lib\\site-packages\\selenium\\webdriver\\remote\\webdriver.py\u001b[0m in \u001b[0;36mexecute\u001b[1;34m(self, driver_command, params)\u001b[0m\n\u001b[0;32m    416\u001b[0m         \u001b[0mresponse\u001b[0m \u001b[1;33m=\u001b[0m \u001b[0mself\u001b[0m\u001b[1;33m.\u001b[0m\u001b[0mcommand_executor\u001b[0m\u001b[1;33m.\u001b[0m\u001b[0mexecute\u001b[0m\u001b[1;33m(\u001b[0m\u001b[0mdriver_command\u001b[0m\u001b[1;33m,\u001b[0m \u001b[0mparams\u001b[0m\u001b[1;33m)\u001b[0m\u001b[1;33m\u001b[0m\u001b[1;33m\u001b[0m\u001b[0m\n\u001b[0;32m    417\u001b[0m         \u001b[1;32mif\u001b[0m \u001b[0mresponse\u001b[0m\u001b[1;33m:\u001b[0m\u001b[1;33m\u001b[0m\u001b[1;33m\u001b[0m\u001b[0m\n\u001b[1;32m--> 418\u001b[1;33m             \u001b[0mself\u001b[0m\u001b[1;33m.\u001b[0m\u001b[0merror_handler\u001b[0m\u001b[1;33m.\u001b[0m\u001b[0mcheck_response\u001b[0m\u001b[1;33m(\u001b[0m\u001b[0mresponse\u001b[0m\u001b[1;33m)\u001b[0m\u001b[1;33m\u001b[0m\u001b[1;33m\u001b[0m\u001b[0m\n\u001b[0m\u001b[0;32m    419\u001b[0m             response['value'] = self._unwrap_value(\n\u001b[0;32m    420\u001b[0m                 response.get('value', None))\n",
      "\u001b[1;32m~\\AppData\\Local\\Programs\\Python\\Python39\\lib\\site-packages\\selenium\\webdriver\\remote\\errorhandler.py\u001b[0m in \u001b[0;36mcheck_response\u001b[1;34m(self, response)\u001b[0m\n\u001b[0;32m    241\u001b[0m                 \u001b[0malert_text\u001b[0m \u001b[1;33m=\u001b[0m \u001b[0mvalue\u001b[0m\u001b[1;33m[\u001b[0m\u001b[1;34m'alert'\u001b[0m\u001b[1;33m]\u001b[0m\u001b[1;33m.\u001b[0m\u001b[0mget\u001b[0m\u001b[1;33m(\u001b[0m\u001b[1;34m'text'\u001b[0m\u001b[1;33m)\u001b[0m\u001b[1;33m\u001b[0m\u001b[1;33m\u001b[0m\u001b[0m\n\u001b[0;32m    242\u001b[0m             \u001b[1;32mraise\u001b[0m \u001b[0mexception_class\u001b[0m\u001b[1;33m(\u001b[0m\u001b[0mmessage\u001b[0m\u001b[1;33m,\u001b[0m \u001b[0mscreen\u001b[0m\u001b[1;33m,\u001b[0m \u001b[0mstacktrace\u001b[0m\u001b[1;33m,\u001b[0m \u001b[0malert_text\u001b[0m\u001b[1;33m)\u001b[0m  \u001b[1;31m# type: ignore[call-arg]  # mypy is not smart enough here\u001b[0m\u001b[1;33m\u001b[0m\u001b[1;33m\u001b[0m\u001b[0m\n\u001b[1;32m--> 243\u001b[1;33m         \u001b[1;32mraise\u001b[0m \u001b[0mexception_class\u001b[0m\u001b[1;33m(\u001b[0m\u001b[0mmessage\u001b[0m\u001b[1;33m,\u001b[0m \u001b[0mscreen\u001b[0m\u001b[1;33m,\u001b[0m \u001b[0mstacktrace\u001b[0m\u001b[1;33m)\u001b[0m\u001b[1;33m\u001b[0m\u001b[1;33m\u001b[0m\u001b[0m\n\u001b[0m\u001b[0;32m    244\u001b[0m \u001b[1;33m\u001b[0m\u001b[0m\n\u001b[0;32m    245\u001b[0m     \u001b[1;32mdef\u001b[0m \u001b[0m_value_or_default\u001b[0m\u001b[1;33m(\u001b[0m\u001b[0mself\u001b[0m\u001b[1;33m,\u001b[0m \u001b[0mobj\u001b[0m\u001b[1;33m:\u001b[0m \u001b[0mMapping\u001b[0m\u001b[1;33m[\u001b[0m\u001b[0m_KT\u001b[0m\u001b[1;33m,\u001b[0m \u001b[0m_VT\u001b[0m\u001b[1;33m]\u001b[0m\u001b[1;33m,\u001b[0m \u001b[0mkey\u001b[0m\u001b[1;33m:\u001b[0m \u001b[0m_KT\u001b[0m\u001b[1;33m,\u001b[0m \u001b[0mdefault\u001b[0m\u001b[1;33m:\u001b[0m \u001b[0m_VT\u001b[0m\u001b[1;33m)\u001b[0m \u001b[1;33m->\u001b[0m \u001b[0m_VT\u001b[0m\u001b[1;33m:\u001b[0m\u001b[1;33m\u001b[0m\u001b[1;33m\u001b[0m\u001b[0m\n",
      "\u001b[1;31mStaleElementReferenceException\u001b[0m: Message: stale element reference: element is not attached to the page document\n  (Session info: chrome=97.0.4692.71)\nStacktrace:\nBacktrace:\n\tOrdinal0 [0x00646903+2517251]\n\tOrdinal0 [0x005DF8E1+2095329]\n\tOrdinal0 [0x004E2848+1058888]\n\tOrdinal0 [0x004E4F44+1068868]\n\tOrdinal0 [0x004E4E0E+1068558]\n\tOrdinal0 [0x004E56BA+1070778]\n\tOrdinal0 [0x005364F9+1402105]\n\tOrdinal0 [0x005264D3+1336531]\n\tOrdinal0 [0x00535BBF+1399743]\n\tOrdinal0 [0x0052639B+1336219]\n\tOrdinal0 [0x005027A7+1189799]\n\tOrdinal0 [0x00503609+1193481]\n\tGetHandleVerifier [0x007D5904+1577972]\n\tGetHandleVerifier [0x00880B97+2279047]\n\tGetHandleVerifier [0x006D6D09+534521]\n\tGetHandleVerifier [0x006D5DB9+530601]\n\tOrdinal0 [0x005E4FF9+2117625]\n\tOrdinal0 [0x005E98A8+2136232]\n\tOrdinal0 [0x005E99E2+2136546]\n\tOrdinal0 [0x005F3541+2176321]\n\tBaseThreadInitThunk [0x75D76739+25]\n\tRtlGetFullPathName_UEx [0x779B8AFF+1215]\n\tRtlGetFullPathName_UEx [0x779B8ACD+1165]\n"
     ]
    }
   ],
   "source": [
    "elemeexplora.affichage_all_item()"
   ]
  },
  {
   "cell_type": "markdown",
   "metadata": {},
   "source": [
    "2. Pourquoi le module n'arrive pas à transformer les caractères 'parasites' (non décodé) alors que nous y arrivons ci dessous?"
   ]
  },
  {
   "cell_type": "code",
   "execution_count": 6,
   "metadata": {},
   "outputs": [
    {
     "name": "stdout",
     "output_type": "stream",
     "text": [
      "Element is not clickable\n",
      "Element is not clickable\n",
      "Element is not clickable\n",
      "Element is not clickable\n",
      "Element is not clickable\n",
      "Element is not clickable\n",
      "Element is not clickable\n",
      "Element is not clickable\n",
      "Element is not clickable\n",
      "Element is not clickable\n",
      "Element is not clickable\n",
      "Element is not clickable\n",
      "Element is not clickable\n",
      "Element is not clickable\n",
      "Element is not clickable\n",
      "Element is not clickable\n",
      "Element is not clickable\n",
      "Element is not clickable\n",
      "Element is not clickable\n",
      "Element is not clickable\n",
      "Element is not clickable\n",
      "Element is not clickable\n",
      "Element is not clickable\n",
      "Element is not clickable\n",
      "Element is not clickable\n",
      "Element is not clickable\n",
      "Element is not clickable\n",
      "Element is not clickable\n",
      "Element is not clickable\n",
      "Element is not clickable\n",
      "Element is not clickable\n",
      "Element is not clickable\n",
      "Element is not clickable\n",
      "Element is not clickable\n",
      "Element is not clickable\n",
      "Element is not clickable\n",
      "Element is not clickable\n",
      "Element is not clickable\n",
      "Element is not clickable\n",
      "Element is not clickable\n",
      "Element is not clickable\n",
      "Element is not clickable\n",
      "Element is not clickable\n",
      "Element is not clickable\n",
      "Element is not clickable\n",
      "Element is not clickable\n",
      "Element is not clickable\n",
      "Element is not clickable\n",
      "Element is not clickable\n",
      "Element is not clickable\n",
      "Element is not clickable\n",
      "Element is not clickable\n",
      "Element is not clickable\n",
      "Element is not clickable\n",
      "Element is not clickable\n",
      "Element is not clickable\n",
      "Element is not clickable\n",
      "Element is not clickable\n",
      "Element is not clickable\n",
      "Element is not clickable\n",
      "Element is not clickable\n",
      "Element is not clickable\n",
      "Element is not clickable\n",
      "Element is not clickable\n",
      "Element is not clickable\n",
      "Element is not clickable\n",
      "Element is not clickable\n",
      "Element is not clickable\n",
      "Element is not clickable\n",
      "Element is not clickable\n",
      "Element is not clickable\n",
      "Element is not clickable\n",
      "Element is not clickable\n",
      "Element is not clickable\n",
      "Element is not clickable\n",
      "Element is not clickable\n",
      "Element is not clickable\n",
      "Element is not clickable\n"
     ]
    },
    {
     "data": {
      "text/plain": [
       "'cévennes et gorges du tarn en famille'"
      ]
     },
     "execution_count": 6,
     "metadata": {},
     "output_type": "execute_result"
    }
   ],
   "source": [
    "import scrap_main\n",
    "import re\n",
    "\n",
    "elemeterdav.open_site()\n",
    "elemeterdav.affichage_all_item()\n",
    "cellsterdav = elemeterdav.recup_cellule() \n",
    "texte = str(cellsterdav[12])\n",
    "texte = texte.replace(\"\\n\", \" \")\n",
    "motif = re.compile(\"name.*?:....(.*?).,\")\n",
    "b = motif.findall(texte)[0]\n",
    "b.replace(\"&#231;\", \"ç\").replace(\"&#224;\", \"à\").replace(\"&#39\", \"'\").replace(\"&#233;\", \"é\")"
   ]
  },
  {
   "cell_type": "code",
   "execution_count": 8,
   "metadata": {},
   "outputs": [
    {
     "data": {
      "text/plain": [
       "'cévennes et gorges du tarn en famille'"
      ]
     },
     "execution_count": 8,
     "metadata": {},
     "output_type": "execute_result"
    }
   ],
   "source": [
    "b.replace(\"&#231;\", \"ç\").replace(\"&#224;\", \"à\").replace(\"&#39\", \"'\").replace(\"&#233;\", \"é\")"
   ]
  },
  {
   "cell_type": "markdown",
   "metadata": {},
   "source": [
    "3. Nous n'avons pas eu le temps de décortiquer le code proposé par le professeur lors de la séance 9 qui propse un exemple de module pour la phase d'apprentissage. Nous avons essayé de produire un code qui serait la base du module d'apprentissage (ci-dessous); nous ne comprenons pas pourquoi ce code ne fonctionne pas. "
   ]
  },
  {
   "cell_type": "code",
   "execution_count": 5,
   "metadata": {},
   "outputs": [],
   "source": [
    "df = pd.read_pickle(\"my_dataframe.pkl\")\n",
    "X = df.drop([\"description\", \"prix\"], axis = 1)\n",
    "y = df[\"prix\"]\n",
    "X_tr, X_te, y_tr, y_te = train_test_split(X, y)\n",
    "\n",
    "\n",
    "one_hot_encoder = Pipeline(\n",
    "  steps=[\n",
    "    ('one_hot', OneHotEncoder(handle_unknown='ignore'))\n",
    "  ]\n",
    ")\n",
    "\n",
    "preprocessor = ColumnTransformer(\n",
    "  transformers=[\n",
    "    ('categorical', one_hot_encoder, ['lieux', 'diff', 'theme']),\n",
    "  ]\n",
    ")\n",
    "\n",
    "models_names = [\"Linear Regression\", \"ElasticNet\",\"Random Forest\"]\n",
    "\n",
    "pipelines = [\n",
    "    Pipeline(steps=[('preprocessor', preprocessor), ('Reg', LinearRegression())]),\n",
    "    Pipeline(steps=[('preprocessor', preprocessor), ('Reg', ElasticNet())]),\n",
    "    Pipeline(steps=[('preprocessor', preprocessor), ('Reg', RandomForestRegressor())])\n",
    "]\n",
    "\n",
    "allgrid = [\n",
    "    {\"Reg__fit_intercept\": [True, False]},\n",
    "    {\n",
    "        \"Reg__fit_intercept\": [True, False],\n",
    "        \"Reg__alpha\": [0.1, 1., 10.],\n",
    "        \"Reg__l1_ratio\": [0.1, 0.5, 0.9],\n",
    "        \"Reg__max_iter\": [10000],\n",
    "    },\n",
    "    {\"Reg__n_estimators\": range(50, 300, 20)}\n",
    "]\n",
    "\n",
    "results = dict()\n",
    "for pipe, grid, name in zip(pipelines, allgrid, models_names):\n",
    "    g = GridSearchCV(pipe, param_grid= grid)\n",
    "    g.fit(X_tr, y_tr)\n",
    "    results[name]=g"
   ]
  },
  {
   "cell_type": "code",
   "execution_count": 6,
   "metadata": {},
   "outputs": [
    {
     "data": {
      "text/html": [
       "<pre style=\"white-space:pre;overflow-x:auto;line-height:normal;font-family:Menlo,'DejaVu Sans Mono',consolas,'Courier New',monospace\"><span style=\"font-style: italic\">                          Résumé des résultats de crossvalidation.                           </span>\n",
       "┏━━━━━━━━━━━━━━━━━━━┳━━━━━━━━━━━━━━━━━━━━━━━━┳━━━━━━━━━━━━━━━━━━━━┳━━━━━━━━━━━━━━━━━━━━━━━━━┓\n",
       "┃<span style=\"font-weight: bold\"> Nom               </span>┃<span style=\"font-weight: bold\"> Score Cross validation </span>┃<span style=\"font-weight: bold\"> Score entrainement </span>┃<span style=\"font-weight: bold\"> Choix Hyperparamètres   </span>┃\n",
       "┡━━━━━━━━━━━━━━━━━━━╇━━━━━━━━━━━━━━━━━━━━━━━━╇━━━━━━━━━━━━━━━━━━━━╇━━━━━━━━━━━━━━━━━━━━━━━━━┩\n",
       "│ Linear Regression │ 0.34                   │ 0.40               │ {'Reg__fit_intercept':  │\n",
       "│                   │                        │                    │ True}                   │\n",
       "│ ElasticNet        │ 0.35                   │ 0.40               │ {'Reg__alpha': 0.1,     │\n",
       "│                   │                        │                    │ 'Reg__fit_intercept':   │\n",
       "│                   │                        │                    │ True, 'Reg__l1_ratio':  │\n",
       "│                   │                        │                    │ 0.9, 'Reg__max_iter':   │\n",
       "│                   │                        │                    │ 10000}                  │\n",
       "│ Random Forest     │ 0.39                   │ 0.49               │ {'Reg__n_estimators':   │\n",
       "│                   │                        │                    │ 130}                    │\n",
       "└───────────────────┴────────────────────────┴────────────────────┴─────────────────────────┘\n",
       "</pre>\n"
      ],
      "text/plain": [
       "\u001b[3m                          Résumé des résultats de crossvalidation.                           \u001b[0m\n",
       "┏━━━━━━━━━━━━━━━━━━━┳━━━━━━━━━━━━━━━━━━━━━━━━┳━━━━━━━━━━━━━━━━━━━━┳━━━━━━━━━━━━━━━━━━━━━━━━━┓\n",
       "┃\u001b[1m \u001b[0m\u001b[1mNom              \u001b[0m\u001b[1m \u001b[0m┃\u001b[1m \u001b[0m\u001b[1mScore Cross validation\u001b[0m\u001b[1m \u001b[0m┃\u001b[1m \u001b[0m\u001b[1mScore entrainement\u001b[0m\u001b[1m \u001b[0m┃\u001b[1m \u001b[0m\u001b[1mChoix Hyperparamètres  \u001b[0m\u001b[1m \u001b[0m┃\n",
       "┡━━━━━━━━━━━━━━━━━━━╇━━━━━━━━━━━━━━━━━━━━━━━━╇━━━━━━━━━━━━━━━━━━━━╇━━━━━━━━━━━━━━━━━━━━━━━━━┩\n",
       "│ Linear Regression │ 0.34                   │ 0.40               │ {'Reg__fit_intercept':  │\n",
       "│                   │                        │                    │ True}                   │\n",
       "│ ElasticNet        │ 0.35                   │ 0.40               │ {'Reg__alpha': 0.1,     │\n",
       "│                   │                        │                    │ 'Reg__fit_intercept':   │\n",
       "│                   │                        │                    │ True, 'Reg__l1_ratio':  │\n",
       "│                   │                        │                    │ 0.9, 'Reg__max_iter':   │\n",
       "│                   │                        │                    │ 10000}                  │\n",
       "│ Random Forest     │ 0.39                   │ 0.49               │ {'Reg__n_estimators':   │\n",
       "│                   │                        │                    │ 130}                    │\n",
       "└───────────────────┴────────────────────────┴────────────────────┴─────────────────────────┘\n"
      ]
     },
     "metadata": {},
     "output_type": "display_data"
    }
   ],
   "source": [
    "tbl = Table(\n",
    "    title=\"Résumé des résultats de crossvalidation.\",\n",
    "    show_header=True,\n",
    ")\n",
    "tbl.add_column(\"Nom\")\n",
    "tbl.add_column(\"Score Cross validation\")\n",
    "tbl.add_column(\"Score entrainement\")\n",
    "tbl.add_column(\"Choix Hyperparamètres\")\n",
    "for nom, modele in results.items():\n",
    "    tbl.add_row(\n",
    "        nom, \n",
    "        f\"{modele.best_score_:.2f}\", \n",
    "        f\"{modele.score(X_tr, y_tr):.2f}\",\n",
    "        str(modele.best_params_),\n",
    "    )\n",
    "    \n",
    "print(tbl)"
   ]
  },
  {
   "cell_type": "markdown",
   "metadata": {},
   "source": [
    "4. Nous n'avons malheuresement pas eu le temps de réaliser les test. Nous nous demandons cependant quels tests auraie,t été pertinent. "
   ]
  }
 ],
 "metadata": {
  "interpreter": {
   "hash": "5b6c761d8dec5970146fbbffb486e6b700cace45b168bd551b8d6380eb7f7175"
  },
  "kernelspec": {
   "display_name": "Python 3.9.7 64-bit",
   "language": "python",
   "name": "python3"
  },
  "language_info": {
   "codemirror_mode": {
    "name": "ipython",
    "version": 3
   },
   "file_extension": ".py",
   "mimetype": "text/x-python",
   "name": "python",
   "nbconvert_exporter": "python",
   "pygments_lexer": "ipython3",
   "version": "3.9.7"
  },
  "orig_nbformat": 4
 },
 "nbformat": 4,
 "nbformat_minor": 2
}
